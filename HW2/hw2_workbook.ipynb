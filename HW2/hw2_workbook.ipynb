{
 "cells": [
  {
   "cell_type": "markdown",
   "metadata": {},
   "source": [
    "# HW 2 - Naive Bayes in Hadoop MR\n",
    "__`MIDS w261: Machine Learning at Scale | UC Berkeley School of Information | Fall 2018`__\n",
    "\n",
    "In the live sessions for week 2 and week 3 you got some practice designing and debugging Hadoop Streaming jobs. In this homework we'll use Hadoop MapReduce to implement your first parallelized machine learning algorithm: Naive Bayes. As you develop your implementation you'll test it on a small dataset that matches the 'Chinese Example' in the _Manning, Raghavan and Shutze_ reading for Week 2. For the main task in this assignment you'll be working with a small subset of the Enron Spam/Ham Corpus. By the end of this assignment you should be able to:\n",
    "* __... describe__ the Naive Bayes algorithm including both training and inference.\n",
    "* __... perform__ EDA on a corpus using Hadoop MR.\n",
    "* __... implement__ parallelized Naive Bayes.\n",
    "* __... constrast__ partial, unordered and total order sort and their implementations in Hadoop Streaming.\n",
    "* __... explain__ how smoothing affects the bias and variance of a Multinomial Naive Bayes model.\n",
    "\n",
    "As always, your work will be graded both on the correctness of your output and on the clarity and design of your code. __Please refer to the `README` for homework submission instructions.__ "
   ]
  },
  {
   "cell_type": "markdown",
   "metadata": {},
   "source": [
    "## Notebook Setup\n",
    "Before starting, run the following cells to confirm your setup."
   ]
  },
  {
   "cell_type": "code",
   "execution_count": 1,
   "metadata": {},
   "outputs": [],
   "source": [
    "# imports\n",
    "import numpy as np\n",
    "import matplotlib.pyplot as plt\n",
    "%matplotlib inline\n",
    "%reload_ext autoreload\n",
    "%autoreload 2"
   ]
  },
  {
   "cell_type": "code",
   "execution_count": 2,
   "metadata": {},
   "outputs": [],
   "source": [
    "# global vars (paths) - ADJUST AS NEEDED\n",
    "JAR_FILE = \"/usr/lib/hadoop-mapreduce/hadoop-streaming.jar\"\n",
    "HDFS_DIR = \"/user/root/HW2\"\n",
    "HOME_DIR = \"/media/notebooks/Assignments/HW2\""
   ]
  },
  {
   "cell_type": "code",
   "execution_count": 3,
   "metadata": {},
   "outputs": [],
   "source": [
    "# save path for use in Hadoop jobs (-cmdenv PATH={PATH})\n",
    "from os import environ\n",
    "PATH  = environ['PATH']"
   ]
  },
  {
   "cell_type": "code",
   "execution_count": 4,
   "metadata": {},
   "outputs": [],
   "source": [
    "# data path\n",
    "ENRON = \"data/enronemail_1h.txt\""
   ]
  },
  {
   "cell_type": "markdown",
   "metadata": {},
   "source": [
    "# Question 1: Hadoop MapReduce Key Takeaways.  \n",
    "\n",
    "This assignment will be the only one in which you use Hadoop Streaming to implement a distributed algorithm. The key reason we continue to teach Hadoop streaming is because of the way it forces the programmer to think carefully about what is happening under the hood when you parallelize a calculation. This question will briefly highlight some of the most important concepts that you need to understand about Hadoop Streaming and MapReduce before we move on to Spark next week.   \n",
    "\n",
    "### Q1 Tasks:\n",
    "\n",
    "* __a) short response:__ What \"programming paradigm\" is Hadoop MapReduce based on? What are the main ideas of this programming paradigm and how does MapReduce exemplify these ideas?\n",
    "\n",
    "* __b) short response:__ What is the Hadoop Shuffle? When does it happen? Why is it potentially costly? Describe one specific thing we can we do to mitigate the cost associated with this stage of our Hadoop Streaming jobs.\n",
    "\n",
    "* __c) short response:__ In Hadoop Streaming why do the input and output record format of a combiner script have to be the same? [__`HINT`__ _what level of combining does the framework guarantee? what is the relationship between the record format your mapper emits and the format your reducer expects to receive?_]\n",
    "\n",
    "* __d) short response:__ To what extent can you control the level of parallelization of your Hadoop Streaming jobs? Please be specific.\n",
    "\n",
    "* __e) short response:__ What change in the kind of computing resources available prompted the creation of parallel computation frameworks like Hadoop? "
   ]
  },
  {
   "cell_type": "markdown",
   "metadata": {},
   "source": [
    "### Q1 Student Answers:\n",
    "\n",
    "> __a)__ Hadoop MapReduce is based on the functional programming paradigm. The main ideas of functional programming is 1) higher order functions, where functions can take other functions as inputs. MapReduce exemplifies this in that both Map and Reduce are essentially higher order functions that take other functions to do the mapping and reducing. 2) maintaining statelessness, which means no data state is changed, which is evident in MapReduce since there is no shared mutable information that MapReduce will need in order to do parallel processing. [source: live session week2 demo]\n",
    "\n",
    "> __b)__ Shuffling is the synchronization that happens before reducing. Multiple processes will need to join up to share intermediate results or exchange state information, such as grouping by key. It is potentially costly because this step involves copying intermediate data over the network. The number of intermdiate data is potentially more than the input data. We can mitigate the cost by reducing the intermediate data through in-memory combining and/or using combiners to aggregate the intermediate data before shuffling. [source: 'Data-Intensive Text Processing with MapReduce']\n",
    "\n",
    "> __c)__ The input and output record format of a combiner script have to be the same because this is an optional optimization step that occurs between the mappers and reducers. It should not change the correctness of the algorithm and only perform local aggregation of intermediate data from the mapper without changing the record format.[source: 'Data-Intensive Text Processing with MapReduce']\n",
    "\n",
    "> __d)__ I can control the level of parallelization by 1) suggesting the number of mappers to run in parallel, but Hadoop will split the file based on the size of the resulting block. 2) since each input file will be assigned to a mapper, the input data can be divided into desired number of files to control how many mappers will be used. But if the files are too big, they will be split further by HDFS. 3) specifying the number of reducers, but the number should be sufficiently large so each reducer will not crash the memory. \n",
    "\n",
    "> __e)__ The beginning of the multi-core era and commodity hardware prompted the creation of parallel computation frameworks like Hadoop. The semiconductor industry hit a point of diminishing returns on improving components in the single core system (faster clocks, deeper pipelines, superscalar architecture, etc) and that marked the beginning of multi-core era. As the price comes down, commodity hardware allows for the scaling out of parallel processing of large data. [source: 'Data-Intensive Text Processing with MapReduce']"
   ]
  },
  {
   "cell_type": "markdown",
   "metadata": {},
   "source": [
    "# Question 2: MapReduce Design Patterns.  \n",
    "\n",
    "In the last two live sessions and in your readings from Lin & Dyer you encountered a number of techniques for manipulating the logistics of a MapReduce implementation to ensure that the right information is available at the right time and location. In this question we'll review a few of the key techniques you learned.   \n",
    "\n",
    "### Q2 Tasks:\n",
    "\n",
    "* __a) short response:__ What are counters (in the context of Hadoop Streaming)? How are they useful? What kinds of counters does Hadoop provide for you? How do you create your own custom counter?\n",
    "\n",
    "* __b) short response:__ What are composite keys? How are they useful? How are they related to the idea of custom partitioning?\n",
    "\n",
    "* __c) short response:__ What is the order inversion pattern? What problem does it help solve? How do we implement it? "
   ]
  },
  {
   "cell_type": "markdown",
   "metadata": {},
   "source": [
    "### Q2 Student Answers:\n",
    "\n",
    "> __a)__ Counters are used to count events that occur during execution. The built-in counter allows us to see how many records are emitted. We can create a custom counter by writing to the standard error stream to track any events in the mapper, combiner, or reducer. It can also increment only in certain situations if we put it inside an if statement. Custom counters are helpful in determining if we have a load balancing issue. [source: week3 demo]\n",
    "\n",
    "> __b)__ A composite key is a an intermediate key where we move part of the value into the key. This allows us to do a combination of partitioning and sorting using data beyond just the key. Custom partitioning can be done on the key while we can then specify an arbitrary number of additional sorting (such as secondary or tertiary sort) based on different values in the composite key. This way, we can have scalable sorting handled by the MapReduce framework rather than the reducer functions. [source: Data Intensive Text Processing with Map Reduce]\n",
    "\n",
    "> __c)__ The order inversion pattern is the design where the reducer can access the result of a computation before processing the data that are needed for the computation. We can emit special key-value pairs so they appear at the top once sorting is done. This way, the reducers will have access to the special key-value pair, which is usually a required element in the computation reducers need to perform as additional data is streamed in. An example for the key-value pair is some form of aggregate total so the reducers can compute frequency. We are in essence converting a sequencing of computation to sorting through coordination within MapReduce. [source: Data Intensive Text Processing with Map Reduce]\n"
   ]
  },
  {
   "cell_type": "markdown",
   "metadata": {},
   "source": [
    "# Question 3: Understanding Total Order Sort\n",
    "\n",
    "The key challenge in distributed computing is to break a problem into a set of sub-problems that can be performed without communicating with each other. Ideally, we should be able to define an arbirtary number of splits and still get the right result, but that is not always possible. Parallelization becomes particularly challenging when we need to make comparisons between records, for example when sorting. Total Order Sort allows us to order large datasets in a way that enables efficient retrieval of results. Before beginning this assignment, make sure you have read and understand the [Total Order Sort Notebook](https://github.com/UCB-w261/main/tree/master/HelpfulResources/TotalSortGuide/_total-sort-guide-spark2.01-JAN27-2017.ipynb). You can skip the first two MRJob sections, but the rest of section III and all of section IV are **very** important (and apply to Hadoop Streaming) so make sure to read them closely. Feel free to read the Spark sections as well but you won't be responsible for that material until later in the course. To verify your understanding, answer the following questions.\n",
    "\n",
    "### Q3 Tasks:\n",
    "\n",
    "* __a) short response:__ What is the difference between a partial sort, an unordered total sort, and a total order sort? From the programmer's perspective, what does total order sort allow us to do that we can't with unordered total? Why is this important with large datasets?\n",
    "\n",
    "* __b) short response:__ Which phase of a MapReduce job is leveraged to implement Total Order Sort? Which default behaviors must be changed. Why must they be changed?\n",
    "\n",
    "* __c) short response:__ Describe in words how to configure a Hadoop Streaming job for the custom sorting and partitioning that is required for Total Order Sort.  \n",
    "\n",
    "* __d) short response:__ Explain why we need to use an inverse hash code function.\n",
    "\n",
    "* __e) short response:__ Where does this function need to be located so that a Total Order Sort can be performed?"
   ]
  },
  {
   "cell_type": "markdown",
   "metadata": {},
   "source": [
    "### Q3 Student Answers:\n",
    "\n",
    "> __a)__ A given set of files are considered in total order sort if records within each file are sorted, records across files are also sorted, and the files are also sorted. An unordered total sort is almost like a total order sort except that the files are unsorted. If records within each file are sorted, but records across files are unsorted, we have a partial sort. The total sort order allows for faster search, which is important for large datasets because such optimization will mean significant speed gain. The algorithm can be designed to take advantage of the total sort. [source: Total Order Sort Notebook]\n",
    "\n",
    "> __b)__ The shuffle/sort phase is leveraged to implement Total Order Sort. The default shuffle behavior needs to be changed to add a custom partitioner and custom sort order because this is the only way to guarantee that records across partitions are sorted. The custom partition should be carefully designed so that we can achieve Total Order Sort once we sort data in each partition and restack the partition files. [source: Total Order Sort Notebook]\n",
    "\n",
    "> __c)__ To achieve Total Order Sort, we need a custom partitioner (partition function or partition file) on the key that will guarantee that records across partitions will be in sorted order. This way, records within each partition (under the same key) can then be sorted independently. And since the order of the partition files are not guaranteed to be in any particular order, we must then restack the partition files in sorted order. [source: Total Order Sort Notebook]\n",
    "\n",
    "> __d)__ The inverse hash code function needs to be used in order to generate appropriate keys so that partition key ordering is maintained. [source: Total Order Sort Notebook] \n",
    "\n",
    "> __e)__ This function is located in the custom partitioner, which is inside the mapper. [source: Total Order Sort Notebook] "
   ]
  },
  {
   "cell_type": "markdown",
   "metadata": {},
   "source": [
    "# About the Data\n",
    "For the main task in this portion of the homework you will train a classifier to determine whether an email represents spam or not. You will train your Naive Bayes model on a 100 record subset of the Enron Spam/Ham corpus available in the HW2 data directory (__`HW2/data/enronemail_1h.txt`__).\n",
    "\n",
    "__Source:__   \n",
    "The original data included about 93,000 emails which were made public after the company's collapse. There have been a number raw and preprocessed versions of this corpus (including those available [here](http://www.aueb.gr/users/ion/data/enron-spam/index.html) and [here](http://www.aueb.gr/users/ion/publications.html)). The subset we will use is limited to emails from 6 Enron employees and a number of spam sources. It is part of [this data set](http://www.aueb.gr/users/ion/data/enron-spam/) which was created by researchers working on personlized Bayesian spam filters. Their original publication is [available here](http://www.aueb.gr/users/ion/docs/ceas2006_paper.pdf). __`IMPORTANT!`__ _For this homework please limit your analysis to the 100 email subset which we provide. No need to download or run your analysis on any of the original datasets, those links are merely provided as context._\n",
    "\n",
    "__Preprocessing:__  \n",
    "For their work, Metsis et al. (the authors) appeared to have pre-processed the data, not only collapsing all text to lower-case, but additionally separating \"words\" by spaces, where \"words\" unfortunately include punctuation. As a concrete example, the sentence:  \n",
    ">  `Hey Jon, I hope you don't get lost out there this weekend!`  \n",
    "\n",
    "... would have been reduced by Metsis et al. to the form:  \n",
    "> `hey jon , i hope you don ' t get lost out there this weekend !` \n",
    "\n",
    "... so we have reverted the data back toward its original state, removing spaces so that our sample sentence would now look like:\n",
    "> `hey jon, i hope you don't get lost out there this weekend!`  \n",
    "\n",
    "Thus we have at least preserved contractions and other higher-order lexical forms. However, one must be aware that this reversion is not complete, and that some object (specifically web sites) will be ill-formatted, and that all text is still lower-cased.\n",
    "\n",
    "\n",
    "__Format:__   \n",
    "All messages are collated to a tab-delimited format:  \n",
    "\n",
    ">    `ID \\t SPAM \\t SUBJECT \\t CONTENT \\n`  \n",
    "\n",
    "where:  \n",
    ">    `ID = string; unique message identifier`  \n",
    "    `SPAM = binary; with 1 indicating a spam message`  \n",
    "    `SUBJECT = string; title of the message`  \n",
    "    `CONTENT = string; content of the message`   \n",
    "    \n",
    "Note that either of `SUBJECT` or `CONTENT` may be \"NA\", and that all tab (\\t) and newline (\\n) characters have been removed from both of the `SUBJECT` and `CONTENT` columns.  "
   ]
  },
  {
   "cell_type": "code",
   "execution_count": 5,
   "metadata": {},
   "outputs": [
    {
     "name": "stdout",
     "output_type": "stream",
     "text": [
      "/media/notebooks/Assignments/HW2\n"
     ]
    }
   ],
   "source": [
    "!pwd"
   ]
  },
  {
   "cell_type": "code",
   "execution_count": 6,
   "metadata": {},
   "outputs": [
    {
     "name": "stdout",
     "output_type": "stream",
     "text": [
      "0001.1999-12-10.farmer\t0\t christmas tree farm pictures\tNA\n",
      "0001.1999-12-10.kaminski\t0\t re: rankings\t thank you.\n",
      "0001.2000-01-17.beck\t0\t leadership development pilot\t\" sally:  what timing, ask and you shall receiv\n",
      "0001.2000-06-06.lokay\t0\t\" key dates and impact of upcoming sap implementation over the next few week\n",
      "0001.2001-02-07.kitchen\t0\t key hr issues going forward\t a) year end reviews-report needs generating \n"
     ]
    }
   ],
   "source": [
    "# take a look at the first 100 characters of the first 5 records (RUN THIS CELL AS IS)\n",
    "!head -n 5 /media/notebooks/Assignments/HW2/{ENRON} | cut -c-100"
   ]
  },
  {
   "cell_type": "code",
   "execution_count": 7,
   "metadata": {},
   "outputs": [
    {
     "name": "stdout",
     "output_type": "stream",
     "text": [
      "100 /media/notebooks/Assignments/HW2/data/enronemail_1h.txt\n"
     ]
    }
   ],
   "source": [
    "# see how many messages/lines are in the file \n",
    "#(this number may be off by 1 if the last line doesn't end with a newline)\n",
    "!wc -l /media/notebooks/Assignments/HW2/{ENRON}"
   ]
  },
  {
   "cell_type": "code",
   "execution_count": 8,
   "metadata": {},
   "outputs": [],
   "source": [
    "# make the HDFS directory if it doesn't already exist\n",
    "!hdfs dfs -mkdir {HDFS_DIR}"
   ]
  },
  {
   "cell_type": "code",
   "execution_count": 9,
   "metadata": {},
   "outputs": [],
   "source": [
    "# load the data into HDFS (RUN THIS CELL AS IS)\n",
    "!hdfs dfs -copyFromLocal /media/notebooks/Assignments/HW2/{ENRON} {HDFS_DIR}/enron.txt"
   ]
  },
  {
   "cell_type": "code",
   "execution_count": 10,
   "metadata": {},
   "outputs": [
    {
     "name": "stdout",
     "output_type": "stream",
     "text": [
      "Found 1 items\n",
      "-rw-r--r--   1 root supergroup     204559 2019-09-18 05:35 /user/root/HW2/enron.txt\n"
     ]
    }
   ],
   "source": [
    "!hdfs dfs -ls {HDFS_DIR}"
   ]
  },
  {
   "cell_type": "markdown",
   "metadata": {},
   "source": [
    "# Question 4:  Enron Ham/Spam EDA.\n",
    "Before building our classifier, lets get aquainted with our data. In particular, we're interested in which words occur more in spam emails than in real emails. In this question you'll implement two Hadoop MapReduce jobs to count and sort word occurrences by document class. You'll also learn about two new Hadoop streaming parameters that will allow you to control how the records output of your mappers are partitioned for reducing on separate nodes. \n",
    "\n",
    "__`IMPORTANT NOTE:`__ For this question and all subsequent items, you should include both the subject and the body of the email in your analysis (i.e. concatetate them to get the 'text' of the document).\n",
    "\n",
    "### Q4 Tasks:\n",
    "* __a) code:__ Complete the missing components of the code in __`EnronEDA/mapper.py`__ and __`EnronEDA/reducer.py`__ to create a Hadoop MapReduce job that counts how many times each word in the corpus occurs in an email for each class. Pay close attention to the data format specified in the docstrings of these scripts _-- there are a number of ways to accomplish this task, we've chosen this format to help illustrate a technique in `part e`_. Run the provided unit tests to confirm that your code works as expected then run the provided Hadoop streaming command to apply your analysis to the Enron data.\n",
    "\n",
    "\n",
    "* __b) code + short response:__ How many times does the word \"__assistance__\" occur in each class? (`HINT:` Use a `grep` command to read from the results file you generated in '`a`' and then report the answer in the space provided.)\n",
    "\n",
    "\n",
    "* __c) short response:__ Would it have been possible to add some sorting parameters to the Hadoop streaming command that would cause our `part a` results to be sorted by count? Briefly explain why or why not.\n",
    "\n",
    "\n",
    "* __d) code + short response:__ Write a second Hadoop MapReduce job to sort the output of `part a` first by class and then by count. Run your job and save the results to a local file. Then describe in words how you would go about printing the top 10 words in each class given this sorted output. (`HINT 1:` _remember that you can simply pass the `part a` output directory to the input field of this job; `HINT 2:` since this task is just reodering the records from `part a` we don't need to write a mapper or reducer, just use `/bin/cat` for both_)\n",
    "\n",
    "\n",
    "* __ e) code:__ A more efficient alternative to '`grep`-ing' for the top 10 words in each class would be to use the Hadoop framework to separate records from each class into its own partition so that we can just read the top lines in each. Edit your job from ` part d` to specify 2 reduce tasks and to tell Hadoop to partition based on the second field (which indicates spam/ham in our data). Your code should maintain the secondary sort -- that is each partition should list words from most to least frequent."
   ]
  },
  {
   "cell_type": "markdown",
   "metadata": {},
   "source": [
    "### Q4 Student Answers:\n",
    "> __b)__ The word \"assistance\" occurs 8 times in spam class and 2 times in ham class. \n",
    "\n",
    "> __c)__ We would not be able to add sorting parameters to sort our part a results by count because the count is the value, not the key in this case. Sorting is done on the key (the words in this case) and only secondary sort can be done on the values. The reducer will need to aggregate the total count for each word so if we want the final output to be sorted by count, it will need to be done as a postprocessing step after Reduce.\n",
    "\n",
    "> __d)__ To print the top 10 words in each class, since the output is sorted by class and then by count, I would print the first 10 words and then look for the start of the second class and print the first 10 words. "
   ]
  },
  {
   "cell_type": "code",
   "execution_count": 11,
   "metadata": {},
   "outputs": [],
   "source": [
    "# part a - do your work in the provided scripts then RUN THIS CELL AS IS\n",
    "!chmod a+x EnronEDA/mapper.py\n",
    "!chmod a+x EnronEDA/reducer.py"
   ]
  },
  {
   "cell_type": "code",
   "execution_count": 12,
   "metadata": {},
   "outputs": [
    {
     "name": "stdout",
     "output_type": "stream",
     "text": [
      "title\t1\t1\n",
      "body\t1\t1\n",
      "title\t0\t1\n",
      "body\t0\t1\n"
     ]
    }
   ],
   "source": [
    "# part a - unit test EnronEDA/mapper.py (RUN THIS CELL AS IS)\n",
    "!echo -e \"d1\t1\ttitle\tbody\\nd2\t0\ttitle\tbody\" | EnronEDA/mapper.py"
   ]
  },
  {
   "cell_type": "code",
   "execution_count": 13,
   "metadata": {},
   "outputs": [
    {
     "name": "stdout",
     "output_type": "stream",
     "text": [
      "one\t1\t1\n",
      "one\t0\t2\n",
      "two\t1\t0\n",
      "two\t0\t1\n"
     ]
    }
   ],
   "source": [
    "# part a - unit test EnronEDA/reducer.py (RUN THIS CELL AS IS)\n",
    "!echo -e \"one\t1\t1\\none\t0\t1\\none\t0\t1\\ntwo\t0\t1\" | EnronEDA/reducer.py"
   ]
  },
  {
   "cell_type": "code",
   "execution_count": 14,
   "metadata": {},
   "outputs": [
    {
     "name": "stdout",
     "output_type": "stream",
     "text": [
      "rm: `/user/root/HW2/eda-output': No such file or directory\n"
     ]
    }
   ],
   "source": [
    "# part a - clear output directory in HDFS (RUN THIS CELL AS IS)\n",
    "!hdfs dfs -rm -r {HDFS_DIR}/eda-output"
   ]
  },
  {
   "cell_type": "code",
   "execution_count": 15,
   "metadata": {},
   "outputs": [
    {
     "name": "stdout",
     "output_type": "stream",
     "text": [
      "packageJobJar: [] [/usr/lib/hadoop-mapreduce/hadoop-streaming-2.6.0-cdh5.15.1.jar] /tmp/streamjob5343530159256886772.jar tmpDir=null\n",
      "19/09/18 05:37:28 INFO client.RMProxy: Connecting to ResourceManager at /0.0.0.0:8032\n",
      "19/09/18 05:37:28 INFO client.RMProxy: Connecting to ResourceManager at /0.0.0.0:8032\n",
      "19/09/18 05:37:29 INFO mapred.FileInputFormat: Total input paths to process : 1\n",
      "19/09/18 05:37:29 INFO mapreduce.JobSubmitter: number of splits:2\n",
      "19/09/18 05:37:29 INFO mapreduce.JobSubmitter: Submitting tokens for job: job_1568784942760_0001\n",
      "19/09/18 05:37:30 INFO impl.YarnClientImpl: Submitted application application_1568784942760_0001\n",
      "19/09/18 05:37:30 INFO mapreduce.Job: The url to track the job: http://docker.w261:8088/proxy/application_1568784942760_0001/\n",
      "19/09/18 05:37:30 INFO mapreduce.Job: Running job: job_1568784942760_0001\n",
      "19/09/18 05:37:41 INFO mapreduce.Job: Job job_1568784942760_0001 running in uber mode : false\n",
      "19/09/18 05:37:41 INFO mapreduce.Job:  map 0% reduce 0%\n",
      "19/09/18 05:37:50 INFO mapreduce.Job:  map 50% reduce 0%\n",
      "19/09/18 05:37:51 INFO mapreduce.Job:  map 100% reduce 0%\n",
      "19/09/18 05:38:01 INFO mapreduce.Job:  map 100% reduce 50%\n",
      "19/09/18 05:38:02 INFO mapreduce.Job:  map 100% reduce 100%\n",
      "19/09/18 05:38:02 INFO mapreduce.Job: Job job_1568784942760_0001 completed successfully\n",
      "19/09/18 05:38:02 INFO mapreduce.Job: Counters: 50\n",
      "\tFile System Counters\n",
      "\t\tFILE: Number of bytes read=369010\n",
      "\t\tFILE: Number of bytes written=1335698\n",
      "\t\tFILE: Number of read operations=0\n",
      "\t\tFILE: Number of large read operations=0\n",
      "\t\tFILE: Number of write operations=0\n",
      "\t\tHDFS: Number of bytes read=217061\n",
      "\t\tHDFS: Number of bytes written=119173\n",
      "\t\tHDFS: Number of read operations=12\n",
      "\t\tHDFS: Number of large read operations=0\n",
      "\t\tHDFS: Number of write operations=4\n",
      "\tJob Counters \n",
      "\t\tKilled reduce tasks=1\n",
      "\t\tLaunched map tasks=2\n",
      "\t\tLaunched reduce tasks=2\n",
      "\t\tData-local map tasks=2\n",
      "\t\tTotal time spent by all maps in occupied slots (ms)=14243\n",
      "\t\tTotal time spent by all reduces in occupied slots (ms)=15753\n",
      "\t\tTotal time spent by all map tasks (ms)=14243\n",
      "\t\tTotal time spent by all reduce tasks (ms)=15753\n",
      "\t\tTotal vcore-milliseconds taken by all map tasks=14243\n",
      "\t\tTotal vcore-milliseconds taken by all reduce tasks=15753\n",
      "\t\tTotal megabyte-milliseconds taken by all map tasks=14584832\n",
      "\t\tTotal megabyte-milliseconds taken by all reduce tasks=16131072\n",
      "\tMap-Reduce Framework\n",
      "\t\tMap input records=100\n",
      "\t\tMap output records=31490\n",
      "\t\tMap output bytes=306018\n",
      "\t\tMap output materialized bytes=369022\n",
      "\t\tInput split bytes=214\n",
      "\t\tCombine input records=0\n",
      "\t\tCombine output records=0\n",
      "\t\tReduce input groups=5065\n",
      "\t\tReduce shuffle bytes=369022\n",
      "\t\tReduce input records=31490\n",
      "\t\tReduce output records=10130\n",
      "\t\tSpilled Records=62980\n",
      "\t\tShuffled Maps =4\n",
      "\t\tFailed Shuffles=0\n",
      "\t\tMerged Map outputs=4\n",
      "\t\tGC time elapsed (ms)=196\n",
      "\t\tCPU time spent (ms)=6290\n",
      "\t\tPhysical memory (bytes) snapshot=989765632\n",
      "\t\tVirtual memory (bytes) snapshot=5476392960\n",
      "\t\tTotal committed heap usage (bytes)=695205888\n",
      "\tShuffle Errors\n",
      "\t\tBAD_ID=0\n",
      "\t\tCONNECTION=0\n",
      "\t\tIO_ERROR=0\n",
      "\t\tWRONG_LENGTH=0\n",
      "\t\tWRONG_MAP=0\n",
      "\t\tWRONG_REDUCE=0\n",
      "\tFile Input Format Counters \n",
      "\t\tBytes Read=216847\n",
      "\tFile Output Format Counters \n",
      "\t\tBytes Written=119173\n",
      "19/09/18 05:38:02 INFO streaming.StreamJob: Output directory: /user/root/HW2/eda-output\n"
     ]
    }
   ],
   "source": [
    "# part a - Hadoop streaming job (RUN THIS CELL AS IS)\n",
    "!hadoop jar {JAR_FILE} \\\n",
    "  -files EnronEDA/reducer.py,EnronEDA/mapper.py \\\n",
    "  -mapper mapper.py \\\n",
    "  -reducer reducer.py \\\n",
    "  -input {HDFS_DIR}/enron.txt \\\n",
    "  -output {HDFS_DIR}/eda-output \\\n",
    "  -numReduceTasks 2 \\\n",
    "  -cmdenv PATH={PATH}"
   ]
  },
  {
   "cell_type": "code",
   "execution_count": 16,
   "metadata": {},
   "outputs": [],
   "source": [
    "# part a - retrieve results from HDFS & copy them into a local file (RUN THIS CELL AS IS)\n",
    "!hdfs dfs -cat {HDFS_DIR}/eda-output/part-0000* > EnronEDA/results.txt"
   ]
  },
  {
   "cell_type": "code",
   "execution_count": 17,
   "metadata": {},
   "outputs": [
    {
     "name": "stdout",
     "output_type": "stream",
     "text": [
      "assistance\t1\t8\n",
      "assistance\t0\t2\n"
     ]
    }
   ],
   "source": [
    "# part b - write your grep command here\n",
    "!grep assistance EnronEDA/results.txt"
   ]
  },
  {
   "cell_type": "code",
   "execution_count": 18,
   "metadata": {},
   "outputs": [
    {
     "name": "stdout",
     "output_type": "stream",
     "text": [
      "rm: `/user/root/HW2/eda-sort-output': No such file or directory\n"
     ]
    }
   ],
   "source": [
    "# part d/e - clear the output directory in HDFS (RUN THIS CELL AS IS)\n",
    "!hdfs dfs -rm -r {HDFS_DIR}/eda-sort-output"
   ]
  },
  {
   "cell_type": "code",
   "execution_count": 19,
   "metadata": {},
   "outputs": [
    {
     "name": "stdout",
     "output_type": "stream",
     "text": [
      "packageJobJar: [] [/usr/lib/hadoop-mapreduce/hadoop-streaming-2.6.0-cdh5.15.1.jar] /tmp/streamjob6452867415821230469.jar tmpDir=null\n",
      "19/09/18 05:39:02 INFO client.RMProxy: Connecting to ResourceManager at /0.0.0.0:8032\n",
      "19/09/18 05:39:03 INFO client.RMProxy: Connecting to ResourceManager at /0.0.0.0:8032\n",
      "19/09/18 05:39:04 INFO mapred.FileInputFormat: Total input paths to process : 2\n",
      "19/09/18 05:39:04 INFO mapreduce.JobSubmitter: number of splits:2\n",
      "19/09/18 05:39:04 INFO mapreduce.JobSubmitter: Submitting tokens for job: job_1568784942760_0002\n",
      "19/09/18 05:39:05 INFO impl.YarnClientImpl: Submitted application application_1568784942760_0002\n",
      "19/09/18 05:39:05 INFO mapreduce.Job: The url to track the job: http://docker.w261:8088/proxy/application_1568784942760_0002/\n",
      "19/09/18 05:39:05 INFO mapreduce.Job: Running job: job_1568784942760_0002\n",
      "19/09/18 05:39:14 INFO mapreduce.Job: Job job_1568784942760_0002 running in uber mode : false\n",
      "19/09/18 05:39:14 INFO mapreduce.Job:  map 0% reduce 0%\n",
      "19/09/18 05:39:24 INFO mapreduce.Job:  map 50% reduce 0%\n",
      "19/09/18 05:39:25 INFO mapreduce.Job:  map 100% reduce 0%\n",
      "19/09/18 05:39:34 INFO mapreduce.Job:  map 100% reduce 50%\n",
      "19/09/18 05:39:35 INFO mapreduce.Job:  map 100% reduce 100%\n",
      "19/09/18 05:39:35 INFO mapreduce.Job: Job job_1568784942760_0002 completed successfully\n",
      "19/09/18 05:39:35 INFO mapreduce.Job: Counters: 49\n",
      "\tFile System Counters\n",
      "\t\tFILE: Number of bytes read=149575\n",
      "\t\tFILE: Number of bytes written=899384\n",
      "\t\tFILE: Number of read operations=0\n",
      "\t\tFILE: Number of large read operations=0\n",
      "\t\tFILE: Number of write operations=0\n",
      "\t\tHDFS: Number of bytes read=119411\n",
      "\t\tHDFS: Number of bytes written=129303\n",
      "\t\tHDFS: Number of read operations=12\n",
      "\t\tHDFS: Number of large read operations=0\n",
      "\t\tHDFS: Number of write operations=4\n",
      "\tJob Counters \n",
      "\t\tLaunched map tasks=2\n",
      "\t\tLaunched reduce tasks=2\n",
      "\t\tData-local map tasks=2\n",
      "\t\tTotal time spent by all maps in occupied slots (ms)=15692\n",
      "\t\tTotal time spent by all reduces in occupied slots (ms)=17059\n",
      "\t\tTotal time spent by all map tasks (ms)=15692\n",
      "\t\tTotal time spent by all reduce tasks (ms)=17059\n",
      "\t\tTotal vcore-milliseconds taken by all map tasks=15692\n",
      "\t\tTotal vcore-milliseconds taken by all reduce tasks=17059\n",
      "\t\tTotal megabyte-milliseconds taken by all map tasks=16068608\n",
      "\t\tTotal megabyte-milliseconds taken by all reduce tasks=17468416\n",
      "\tMap-Reduce Framework\n",
      "\t\tMap input records=10130\n",
      "\t\tMap output records=10130\n",
      "\t\tMap output bytes=129303\n",
      "\t\tMap output materialized bytes=149587\n",
      "\t\tInput split bytes=238\n",
      "\t\tCombine input records=0\n",
      "\t\tCombine output records=0\n",
      "\t\tReduce input groups=10130\n",
      "\t\tReduce shuffle bytes=149587\n",
      "\t\tReduce input records=10130\n",
      "\t\tReduce output records=10130\n",
      "\t\tSpilled Records=20260\n",
      "\t\tShuffled Maps =4\n",
      "\t\tFailed Shuffles=0\n",
      "\t\tMerged Map outputs=4\n",
      "\t\tGC time elapsed (ms)=180\n",
      "\t\tCPU time spent (ms)=6380\n",
      "\t\tPhysical memory (bytes) snapshot=995504128\n",
      "\t\tVirtual memory (bytes) snapshot=5509808128\n",
      "\t\tTotal committed heap usage (bytes)=693108736\n",
      "\tShuffle Errors\n",
      "\t\tBAD_ID=0\n",
      "\t\tCONNECTION=0\n",
      "\t\tIO_ERROR=0\n",
      "\t\tWRONG_LENGTH=0\n",
      "\t\tWRONG_MAP=0\n",
      "\t\tWRONG_REDUCE=0\n",
      "\tFile Input Format Counters \n",
      "\t\tBytes Read=119173\n",
      "\tFile Output Format Counters \n",
      "\t\tBytes Written=129303\n",
      "19/09/18 05:39:35 INFO streaming.StreamJob: Output directory: /user/root/HW2/eda-sort-output\n"
     ]
    }
   ],
   "source": [
    "# part d/e - write your Hadoop streaming job here\n",
    "!hadoop jar {JAR_FILE} \\\n",
    "  -D stream.num.map.output.key.fields=3 \\\n",
    "  -D mapreduce.partition.keypartitioner.options=-k2,2 \\\n",
    "  -D mapreduce.job.output.key.comparator.class=org.apache.hadoop.mapred.lib.KeyFieldBasedComparator \\\n",
    "  -D mapreduce.partition.keycomparator.options=-k3,3nr\\\n",
    "  -files EnronEDA/results.txt \\\n",
    "  -mapper /bin/cat \\\n",
    "  -reducer /bin/cat \\\n",
    "  -partitioner org.apache.hadoop.mapred.lib.KeyFieldBasedPartitioner \\\n",
    "  -input {HDFS_DIR}/eda-output \\\n",
    "  -output {HDFS_DIR}/eda-sort-output \\\n",
    "  -numReduceTasks 2 \\\n",
    "  -cmdenv PATH={PATH} "
   ]
  },
  {
   "cell_type": "code",
   "execution_count": 20,
   "metadata": {},
   "outputs": [
    {
     "name": "stdout",
     "output_type": "stream",
     "text": [
      "\n",
      "===== part-00000=====\n",
      "\n",
      "the\t0\t549\t\n",
      "to\t0\t398\t\n",
      "ect\t0\t382\t\n",
      "and\t0\t278\t\n",
      "of\t0\t230\t\n",
      "hou\t0\t206\t\n",
      "a\t0\t196\t\n",
      "in\t0\t182\t\n",
      "for\t0\t170\t\n",
      "on\t0\t135\t\n",
      "cat: Unable to write to output stream.\n",
      "\n",
      "===== part-00001=====\n",
      "\n",
      "the\t1\t698\t\n",
      "to\t1\t566\t\n",
      "and\t1\t392\t\n",
      "your\t1\t357\t\n",
      "a\t1\t347\t\n",
      "you\t1\t345\t\n",
      "of\t1\t336\t\n",
      "in\t1\t236\t\n",
      "for\t1\t204\t\n",
      "com\t1\t153\t\n"
     ]
    }
   ],
   "source": [
    "# part e - view the top 10 records from each partition (RUN THIS CELL AS IS)\n",
    "for idx in range(2):\n",
    "    print(f\"\\n===== part-0000{idx}=====\\n\")\n",
    "    !hdfs dfs -cat {HDFS_DIR}/eda-sort-output/part-0000{idx} | head"
   ]
  },
  {
   "cell_type": "markdown",
   "metadata": {},
   "source": [
    "__Expected output:__\n",
    "<table>\n",
    "<th>part-00000:</th>\n",
    "<th>part-00001:</th>\n",
    "<tr><td><pre>\n",
    "the\t0\t549\t\n",
    "to\t0\t398\t\n",
    "ect\t0\t382\t\n",
    "and\t0\t278\t\n",
    "of\t0\t230\t\n",
    "hou\t0\t206\t\n",
    "a\t0\t196\t\n",
    "in\t0\t182\t\n",
    "for\t0\t170\t\n",
    "on\t0\t135\n",
    "</pre></td>\n",
    "<td><pre>\n",
    "the\t1\t698\t\n",
    "to\t1\t566\t\n",
    "and\t1\t392\t\n",
    "your\t1\t357\t\n",
    "a\t1\t347\t\n",
    "you\t1\t345\t\n",
    "of\t1\t336\t\n",
    "in\t1\t236\t\n",
    "for\t1\t204\t\n",
    "com\t1\t153\n",
    "</pre></td></tr>\n",
    "</table>"
   ]
  },
  {
   "cell_type": "markdown",
   "metadata": {},
   "source": [
    "# Question 5: Counters and Combiners.\n",
    "Tuning the number of mappers & reducers is helpful to optimize very large distributed computations. Doing so successfully requires a thorough understanding of the data size at each stage of the job. As you learned in the week3 live session, counters are an invaluable resource for understanding this kind of detail. In this question, we will take the EDA performed in Question 4 as an opportunity to illustrate some related concepts.\n",
    "\n",
    "### Q5 Tasks:\n",
    "* __a) short response:__ Read the Hadoop output from your job in Question 4a to report how many records are emitted by the mappers and how many records are received be the reducers. In the context of word counting what does this number represent practically?\n",
    "\n",
    "* __b) code:__ Note that we wrote the reducer in question 4a such that the input and output record format is identical. This makes it easy to use the same reducer script as a combiner. In the space provided below, write the Hadoop Streaming command to re-run your job from question 4a with this combining added.\n",
    "\n",
    "* __c) short response__: Report the number of records emitted by your mappers in part b and the number of records received by your reducers. Compare your results here to what you saw in part a. Explain.\n",
    "\n",
    "* __d) short response__: Describe a scenario where using a combiner would _NOT_ improve the efficiency of the shuffle stage. Explain. [__`BONUS:`__ how does increasing the number of mappers affect the usefulness of a combiner?]"
   ]
  },
  {
   "cell_type": "markdown",
   "metadata": {},
   "source": [
    "### Q5 Student Answers:\n",
    "> __a)__ The number of records emitted by the mappers is the same as the number received by the reducers: 31490. In a word counting perspective, this would be the total number of words in the document.\n",
    "\n",
    "> __c)__ The mappers emitted 31490 records and reducers received 13096. The combiner is able to significantly reduce the amount of intermediate data by aggregating the count on each file processed by mappers. \n",
    "\n",
    "> __d)__ If the data from the mappers cannot be aggregate to reduce intermediate data volume, the combiner will not have any work to do. In this problem, if all words are unique, the combiner will not be needed. In light of that, increasing the number of mappers may decrease the usefulness of a combiner because each file may potentially contain only unique words, and therefore, there is a higher chance of the combiner not being able to do any aggregation. "
   ]
  },
  {
   "cell_type": "code",
   "execution_count": 21,
   "metadata": {},
   "outputs": [
    {
     "name": "stdout",
     "output_type": "stream",
     "text": [
      "Deleted /user/root/HW2/eda-output\n"
     ]
    }
   ],
   "source": [
    "# part b - clear output directory in HDFS (RUN THIS CELL AS IS)\n",
    "!hdfs dfs -rm -r {HDFS_DIR}/eda-output"
   ]
  },
  {
   "cell_type": "code",
   "execution_count": 22,
   "metadata": {},
   "outputs": [
    {
     "name": "stdout",
     "output_type": "stream",
     "text": [
      "packageJobJar: [] [/usr/lib/hadoop-mapreduce/hadoop-streaming-2.6.0-cdh5.15.1.jar] /tmp/streamjob546409547629075619.jar tmpDir=null\n",
      "19/09/18 05:47:23 INFO client.RMProxy: Connecting to ResourceManager at /0.0.0.0:8032\n",
      "19/09/18 05:47:24 INFO client.RMProxy: Connecting to ResourceManager at /0.0.0.0:8032\n",
      "19/09/18 05:47:24 INFO mapred.FileInputFormat: Total input paths to process : 1\n",
      "19/09/18 05:47:24 INFO mapreduce.JobSubmitter: number of splits:2\n",
      "19/09/18 05:47:25 INFO mapreduce.JobSubmitter: Submitting tokens for job: job_1568784942760_0003\n",
      "19/09/18 05:47:25 INFO impl.YarnClientImpl: Submitted application application_1568784942760_0003\n",
      "19/09/18 05:47:25 INFO mapreduce.Job: The url to track the job: http://docker.w261:8088/proxy/application_1568784942760_0003/\n",
      "19/09/18 05:47:25 INFO mapreduce.Job: Running job: job_1568784942760_0003\n",
      "19/09/18 05:47:34 INFO mapreduce.Job: Job job_1568784942760_0003 running in uber mode : false\n",
      "19/09/18 05:47:34 INFO mapreduce.Job:  map 0% reduce 0%\n",
      "19/09/18 05:47:43 INFO mapreduce.Job:  map 50% reduce 0%\n",
      "19/09/18 05:47:44 INFO mapreduce.Job:  map 100% reduce 0%\n",
      "19/09/18 05:47:53 INFO mapreduce.Job:  map 100% reduce 50%\n",
      "19/09/18 05:47:54 INFO mapreduce.Job:  map 100% reduce 100%\n",
      "19/09/18 05:47:54 INFO mapreduce.Job: Job job_1568784942760_0003 completed successfully\n",
      "19/09/18 05:47:54 INFO mapreduce.Job: Counters: 50\n",
      "\tFile System Counters\n",
      "\t\tFILE: Number of bytes read=177959\n",
      "\t\tFILE: Number of bytes written=955020\n",
      "\t\tFILE: Number of read operations=0\n",
      "\t\tFILE: Number of large read operations=0\n",
      "\t\tFILE: Number of write operations=0\n",
      "\t\tHDFS: Number of bytes read=217061\n",
      "\t\tHDFS: Number of bytes written=119173\n",
      "\t\tHDFS: Number of read operations=12\n",
      "\t\tHDFS: Number of large read operations=0\n",
      "\t\tHDFS: Number of write operations=4\n",
      "\tJob Counters \n",
      "\t\tKilled map tasks=1\n",
      "\t\tLaunched map tasks=2\n",
      "\t\tLaunched reduce tasks=2\n",
      "\t\tData-local map tasks=2\n",
      "\t\tTotal time spent by all maps in occupied slots (ms)=14060\n",
      "\t\tTotal time spent by all reduces in occupied slots (ms)=14330\n",
      "\t\tTotal time spent by all map tasks (ms)=14060\n",
      "\t\tTotal time spent by all reduce tasks (ms)=14330\n",
      "\t\tTotal vcore-milliseconds taken by all map tasks=14060\n",
      "\t\tTotal vcore-milliseconds taken by all reduce tasks=14330\n",
      "\t\tTotal megabyte-milliseconds taken by all map tasks=14397440\n",
      "\t\tTotal megabyte-milliseconds taken by all reduce tasks=14673920\n",
      "\tMap-Reduce Framework\n",
      "\t\tMap input records=100\n",
      "\t\tMap output records=31490\n",
      "\t\tMap output bytes=306018\n",
      "\t\tMap output materialized bytes=177971\n",
      "\t\tInput split bytes=214\n",
      "\t\tCombine input records=31490\n",
      "\t\tCombine output records=13096\n",
      "\t\tReduce input groups=5065\n",
      "\t\tReduce shuffle bytes=177971\n",
      "\t\tReduce input records=13096\n",
      "\t\tReduce output records=10130\n",
      "\t\tSpilled Records=26192\n",
      "\t\tShuffled Maps =4\n",
      "\t\tFailed Shuffles=0\n",
      "\t\tMerged Map outputs=4\n",
      "\t\tGC time elapsed (ms)=218\n",
      "\t\tCPU time spent (ms)=6060\n",
      "\t\tPhysical memory (bytes) snapshot=965480448\n",
      "\t\tVirtual memory (bytes) snapshot=5496487936\n",
      "\t\tTotal committed heap usage (bytes)=695205888\n",
      "\tShuffle Errors\n",
      "\t\tBAD_ID=0\n",
      "\t\tCONNECTION=0\n",
      "\t\tIO_ERROR=0\n",
      "\t\tWRONG_LENGTH=0\n",
      "\t\tWRONG_MAP=0\n",
      "\t\tWRONG_REDUCE=0\n",
      "\tFile Input Format Counters \n",
      "\t\tBytes Read=216847\n",
      "\tFile Output Format Counters \n",
      "\t\tBytes Written=119173\n",
      "19/09/18 05:47:54 INFO streaming.StreamJob: Output directory: /user/root/HW2/eda-output\n"
     ]
    }
   ],
   "source": [
    "# part b - write your Hadoop streaming job here\n",
    "!hadoop jar {JAR_FILE} \\\n",
    "  -files EnronEDA/reducer.py,EnronEDA/mapper.py \\\n",
    "  -mapper mapper.py \\\n",
    "  -combiner reducer.py \\\n",
    "  -reducer reducer.py \\\n",
    "  -input {HDFS_DIR}/enron.txt \\\n",
    "  -output {HDFS_DIR}/eda-output \\\n",
    "  -numReduceTasks 2 \\\n",
    "  -cmdenv PATH={PATH}"
   ]
  },
  {
   "cell_type": "markdown",
   "metadata": {},
   "source": [
    "# Question 6: Document Classification Task Overview.\n",
    "The week 2 assigned reading from Chapter 13 of _Introduction to Information Retrieval_ by Manning, Raghavan and Schutze provides a thorough introduction to the document classification task and the math behind Naive Bayes. In this question we'll use the example from Table 13.1 (reproduced below) to 'train' an unsmoothed Multinomial Naive Bayes model and classify a test document by hand.\n",
    "\n",
    "<table>\n",
    "<th>DocID</th>\n",
    "<th>Class</th>\n",
    "<th>Subject</th>\n",
    "<th>Body</th>\n",
    "<tr><td>Doc1</td><td>1</td><td></td><td>Chinese Beijing Chinese</td></tr>\n",
    "<tr><td>Doc2</td><td>1</td><td></td><td>Chinese Chinese Shanghai</td></tr>\n",
    "<tr><td>Doc3</td><td>1</td><td></td><td>Chinese Macao</td></tr>\n",
    "<tr><td>Doc4</td><td>0</td><td></td><td>Tokyo Japan Chinese</td></tr>\n",
    "</table>\n",
    "\n",
    "### Q6 Tasks:\n",
    "* __a) short response:__ Equation 13.3 in Manning, Raghavan and Shutze shows how a Multinomial Naive Bayes model classifies a document. It predicts the class, $c$, for which the estimated conditional probability of the class given the document's contents,  $\\hat{P}(c|d)$, is greatest. In this equation what two pieces of information are required to calculate  $\\hat{P}(c|d)$? Your answer should include both mathematical notatation and verbal explanation.\n",
    "\n",
    "\n",
    "* __b) short response:__ The Enron data includes two classes of documents: `spam` and `ham` (they're actually labeled `1` and `0`). In plain English, explain what  $\\hat{P}(c)$ and   $\\hat{P}(t_{k} | c)$ mean in the context of this data. How will we would estimate these values from a training corpus? How many passes over the data would we need to make to retrieve this information for all classes and all words?\n",
    "\n",
    "\n",
    "* __c) hand calculations:__ Above we've reproduced the document classification example from the textbook (we added an empty subject field to mimic the Enron data format). Remember that the classes in this \"Chinese Example\" are `1` (about China) and `0` (not about China). Calculate the class priors and the conditional probabilities for an __unsmoothed__ Multinomial Naive Bayes model trained on this data. Show the calculations that lead to your result using markdown and $\\LaTeX$ in the space provided or by embedding an image of your hand written work. [`NOTE:` _Your results should NOT match those in the text -- they are training a model with +1 smoothing you are training a model without smoothing_]\n",
    "\n",
    "\n",
    "* __d) hand calculations:__ Use the model you trained to classify the following test document: `Chinese Chinese Chinese Tokyo Japan`. Show the calculations that lead to your result using markdown and   $\\LaTeX$ in the space provided or by embedding an image of your hand written work.\n",
    "\n",
    "\n",
    "* __e) short response:__ Compare the classification you get from this unsmoothed model in `d`/`e` to the results in the textbook's \"Example 1\" which reflects a model with Laplace plus 1 smoothing. How does smoothing affect our inference?"
   ]
  },
  {
   "cell_type": "markdown",
   "metadata": {},
   "source": [
    "### Q6 Student Answers:\n",
    "> __a)__ To obtain the conditional probability of $c$ given $d$, $\\hat{P}(c|d)$, we have to know two things: 1) $\\hat{P}(c)$, which is the prior probability. This represents the overall probability of $c$.  2) $\\hat{P}(t_k|c)$ for all terms in the vocabulary. $\\hat{P}(t_k|c)$ is a measure of how much evidence $t_k$ contributes that $c$ is the correct class. [source: Introduction to Information Retrieval]\n",
    "\n",
    "> __b)__ For the Enron data, $\\hat{P}(c)$ refers to the prior probability of a document being spam. $\\hat{P}(t_k|c)$ is the conditional probability that a particular term occuring in a spam document. We can estimate $\\hat{P}(c)$ by taking calculating the percentage of documents that are labeled as spam. We can estimate $\\hat{P}(t_k|c)$ by dividing the number of occurrences of a particular word in the spam class by the total word count in the spam class. We will need to pass over the data twice. In the first pass, we can partition the data into 2 separate classes (ham and spam) and sort the words. In the second pass, we can keep a running total of the total word count while we aggregate the counts for each unique word. \n",
    "\n",
    "> __c)__ Since there are 4 docs with 3 being class 1 and 1 being class 0, the prior probability are $\\hat{P}(c)$=3/4 and $\\hat{P}(\\bar{c})$=1/4. And we have the following conditional probabilities. \n",
    "\n",
    "> For class 1, there are 8 words so the denominator is 8. The numerator is the number of occurrences of that word in class 1.\n",
    "\n",
    "> $\\hat{P}($Chinese$|c)$ = 5/8 \n",
    "\n",
    "> $\\hat{P}($Beijing$|c)$ = $\\hat{P}($Shanghai$|c)$ = $\\hat{P}($Macao$|c)$ = 1/8\n",
    "\n",
    "> $\\hat{P}($Tokyo$|c)$ = $\\hat{P}($Japan$|c)$ = 0/8 = 0\n",
    "\n",
    "> For class 0, there are 3 words so the denominator is 3. The numerator is the number of occurrences of that word in class 0.\n",
    "\n",
    "> $\\hat{P}($Chinese$|\\bar{c})$ = $\\hat{P}($Tokyo$|\\bar{c})$ = $\\hat{P}($Japan$|\\bar{c})$ = 1/3\n",
    "\n",
    "> $\\hat{P}($Beijing$|\\bar{c})$ = $\\hat{P}($Shanghai$|\\bar{c})$ = $\\hat{P}($Macao$|\\bar{c})$ = 0/3 = 0\n",
    "\n",
    "> __d)__ Let $d_5$ = Chinese Chinese Chinese Tokyo Japan.\n",
    "\n",
    "> $\\hat{P}(c|d_5)$ $\\approx$ $\\hat{P}(c)$ * $\\hat{P}($Chinese$|c)$ * $\\hat{P}($Chinese$|c)$ * $\\hat{P}($Chinese$|c)$ * $\\hat{P}($Tokyo$|c)$ * $\\hat{P}($Japan$|c)$ = 3/4 * (5/8)$^3$ * 0 * 0 = 0\n",
    "\n",
    "> $\\hat{P}(\\bar{c}|d_5)$ $\\approx$ $\\hat{P}(\\bar{c})$ * $\\hat{P}($Chinese$|\\bar{c})$ * $\\hat{P}($Chinese$|\\bar{c})$ * $\\hat{P}($Chinese$|\\bar{c})$ * $\\hat{P}($Tokyo$|\\bar{c})$ * $\\hat{P}($Japan$|\\bar{c})$ = 1/4 * (1/3)$^3$ * 1/3 * 1/3 $\\approx$ 0.001\n",
    "\n",
    "> __e)__ The unsmoothed model ran into zero probability problem so when one of the conditional probability is zero, the resulting probability becomes zero and makes it difficult to do inference. The Laplace plus 1 smoothing mitigates this zero probability problem.\n"
   ]
  },
  {
   "cell_type": "code",
   "execution_count": null,
   "metadata": {},
   "outputs": [],
   "source": [
    "# part d/e - if you didn't write out your calcuations above, embed a picture of them here:\n",
    "from IPython.display import Image\n",
    "Image(filename=\"path-to-hand-calulations-image.png\")"
   ]
  },
  {
   "cell_type": "markdown",
   "metadata": {},
   "source": [
    "# Question 7: Naive Bayes Inference.\n",
    "In the next two questions you'll write code to parallelize the Naive Bayes calculations that you performed above. We'll do this in two phases: one MapReduce job to perform training and a second MapReduce to perform inference. While in practice we'd need to train a model before we can use it to classify documents, for learning purposes we're going to develop our code in the opposite order. By first focusing on the pieces of information/format we need to perform the classification (inference) task you should find it easier to develop a solid implementation for training phase when you get to question 8 below. In both of these questions we'll continue to use the Chinese example corpus from the textbook to help us test our MapReduce code as we develop it. Below we've reproduced the corpus, test set and model in text format that matches the Enron data.\n",
    "\n",
    "### Q7 Tasks:\n",
    "* __a) short response:__ run the provided cells to create the example files and load them in to HDFS. Then take a closer look at __`NBmodel.txt`__. This text file represents a Naive Bayes model trained (with Laplace +1 smoothing) on the example corpus. What are the 'keys' and 'values' in this file? Which record means something slightly different than the rest? The value field of each record includes two numbers which will be helpful for debugging but which we don't actually need to perform inference -- what are they? [`HINT`: _This file represents the model from Example 13.1 in the textbook, if you're having trouble getting oriented try comparing our file to the numbers in that example._]\n",
    "\n",
    "\n",
    "* __b) short response:__ When performing Naive Bayes in practice instead of multiplying the probabilities (as in equation 13.3) we add their logs (as in equation 13.4). Why do we choose to work with log probabilities? If we had an unsmoothed model, what potential error could arise from this transformation?\n",
    "\n",
    "\n",
    "* __c) short response:__ Documents 6 and 8 in the test set include a word that did not appear in the training corpus (and as a result does not appear in the model). What should we do at inference time when we need a class conditional probability for this word?\n",
    "\n",
    "\n",
    "* __d) short response:__ The goal of our MapReduce job is to stream over the test set and classify each document by peforming the calculation from equation 13.4. To do this we'll load the model file (which contains the probabilities for equation 13.4) into memory on the nodes where we do our mapping. This is called an in-memory join. Does loading a model 'state' like this depart from the functional programming principles? Explain why or why not. From a scability perspective when would this kind of memory use be justified? when would it be unwise?\n",
    "\n",
    "\n",
    "* __e) code:__ Complete the code in __`NaiveBayes/classify_mapper.py`__. Read the docstring carefully to understand how this script should work and the format it should return. Run the provided unit tests to confirm that your script works as expected then write a Hadoop streaming job to classify the Chinese example test set. [`HINT 1:` _you shouldn't need a reducer for this one._ `HINT 2:` _Don't forget to add the model file to the_ `-files` _parameter in your Hadoop streaming job so that it gets shipped to the mapper nodes where it will be accessed by your script._]\n",
    "\n",
    "\n",
    "* __f) short response:__ In our test example and in the Enron data set we have fairly short documents. Since these fit fine in memory on a mapper node we didn't need a reducer and could just do all of our calculations in the mapper. However with much longer documents (eg. books) we might want a higher level of parallelization -- for example we might want to process parts of a document on different nodes. In this hypothetical scenario how would our algorithm design change? What could the mappers still do? What key-value structure would they emit? What would the reducers have to do as a last step?"
   ]
  },
  {
   "cell_type": "markdown",
   "metadata": {},
   "source": [
    "### Q7 Student Answers:\n",
    "> __a)__ The keys are the unique words in the document. The values, consisting of 4 numbers, are the number of occurrences of the word in each class (class 0 and class 1), followed the conditional probabilities in class 0 and class 1. The \"ClassPriors\" record is different from the rest because it represents information about the whole class rather than a single word. We will need the probability numbers for inference, but the number of occurrences will be useful for debugging. \n",
    "\n",
    "> __b)__ We use logs because multiplying the probabilities, which are floats, can cause floating point underflow. If we had an unsmoothed model, some probabilities may be zero and the log tranformation will be undefined. \n",
    "\n",
    "> __c)__ We can apply Laplace smoothing to avoid running into the zero probability problem for unseen words. This would be a smoothed model. \n",
    "\n",
    "> __d)__ The in-memory join doesn't quite violate the functional programming principles. This is not exactly a shared state between processes because the model file only contains probabilities, which do not need updating. The in-memory join should not create a bottleneck or race condition. However, since each mapper will load the probabilities into memory, this only works well if the vocabulary is small. If the vocabulary is too big and/or there is a lot of mappers, memory may run out. \n",
    "\n",
    "> __e)__ Complete the coding portion of this question before answering 'f'.\n",
    "\n",
    "> __f)__ We can split the documents and have multiple mappers process different parts of the documents at the same time. The mappers will still look up log probabilities from the trained model and aggregate the probabilities. The key-value structure emitted would be docID and the cumulative log probabilities of the partial document being processed. The reducers would combine all the log probabilities of a particular document (with the same docID) and then check to see which class has higher probability and produce the prediction as the last step.\n"
   ]
  },
  {
   "cell_type": "markdown",
   "metadata": {},
   "source": [
    "Run these cells to create the example corpus and model."
   ]
  },
  {
   "cell_type": "code",
   "execution_count": 23,
   "metadata": {},
   "outputs": [
    {
     "name": "stdout",
     "output_type": "stream",
     "text": [
      "Overwriting NaiveBayes/chineseTrain.txt\n"
     ]
    }
   ],
   "source": [
    "%%writefile NaiveBayes/chineseTrain.txt\n",
    "D1\t1\t\tChinese Beijing Chinese\n",
    "D2\t1\t\tChinese Chinese Shanghai\n",
    "D3\t1\t\tChinese Macao\n",
    "D4\t0\t\tTokyo Japan Chinese"
   ]
  },
  {
   "cell_type": "code",
   "execution_count": 24,
   "metadata": {},
   "outputs": [
    {
     "name": "stdout",
     "output_type": "stream",
     "text": [
      "Overwriting NaiveBayes/chineseTest.txt\n"
     ]
    }
   ],
   "source": [
    "%%writefile NaiveBayes/chineseTest.txt\n",
    "D5\t1\t\tChinese Chinese Chinese Tokyo Japan\n",
    "D6\t1\t\tBeijing Shanghai Trade\n",
    "D7\t0\t\tJapan Macao Tokyo\n",
    "D8\t0\t\tTokyo Japan Trade"
   ]
  },
  {
   "cell_type": "code",
   "execution_count": 25,
   "metadata": {},
   "outputs": [
    {
     "name": "stdout",
     "output_type": "stream",
     "text": [
      "Overwriting NBmodel.txt\n"
     ]
    }
   ],
   "source": [
    "%%writefile NBmodel.txt\n",
    "beijing\t0.0,1.0,0.111111111111,0.142857142857\n",
    "chinese\t1.0,5.0,0.222222222222,0.428571428571\n",
    "tokyo\t1.0,0.0,0.222222222222,0.0714285714286\n",
    "shanghai\t0.0,1.0,0.111111111111,0.142857142857\n",
    "ClassPriors\t1.0,3.0,0.25,0.75\n",
    "japan\t1.0,0.0,0.222222222222,0.0714285714286\n",
    "macao\t0.0,1.0,0.111111111111,0.142857142857"
   ]
  },
  {
   "cell_type": "code",
   "execution_count": 26,
   "metadata": {},
   "outputs": [],
   "source": [
    "# load the data files into HDFS\n",
    "!hdfs dfs -copyFromLocal NaiveBayes/chineseTrain.txt {HDFS_DIR}\n",
    "!hdfs dfs -copyFromLocal NaiveBayes/chineseTest.txt {HDFS_DIR}"
   ]
  },
  {
   "cell_type": "markdown",
   "metadata": {},
   "source": [
    "Your work for `part e` starts here:"
   ]
  },
  {
   "cell_type": "code",
   "execution_count": 27,
   "metadata": {},
   "outputs": [],
   "source": [
    "# part e - do your work in NaiveBayes/classify_mapper.py first, then run this cell.\n",
    "!chmod a+x NaiveBayes/classify_mapper.py"
   ]
  },
  {
   "cell_type": "code",
   "execution_count": 28,
   "metadata": {},
   "outputs": [
    {
     "name": "stdout",
     "output_type": "stream",
     "text": [
      "d5  1  -8.90668134500626   -8.10769031284611   1\n",
      "d6  1  -5.780743515794329  -4.179502370564408  1\n",
      "d7  0  -6.591673732011658  -7.511706880737812  0\n",
      "d8  0  -4.394449154674438  -5.565796731681498  0\n"
     ]
    }
   ],
   "source": [
    "# part e - unit test NaiveBayes/classify_mapper.py (RUN THIS CELL AS IS)\n",
    "!cat NaiveBayes/chineseTest.txt | NaiveBayes/classify_mapper.py | column -t"
   ]
  },
  {
   "cell_type": "code",
   "execution_count": 29,
   "metadata": {},
   "outputs": [
    {
     "name": "stdout",
     "output_type": "stream",
     "text": [
      "rm: `/user/root/HW2/chinese-output': No such file or directory\n"
     ]
    }
   ],
   "source": [
    "# part e - clear the output directory in HDFS (RUN THIS CELL AS IS)\n",
    "!hdfs dfs -rm -r {HDFS_DIR}/chinese-output"
   ]
  },
  {
   "cell_type": "code",
   "execution_count": 30,
   "metadata": {},
   "outputs": [
    {
     "name": "stdout",
     "output_type": "stream",
     "text": [
      "packageJobJar: [] [/usr/lib/hadoop-mapreduce/hadoop-streaming-2.6.0-cdh5.15.1.jar] /tmp/streamjob7098974862459128983.jar tmpDir=null\n",
      "19/09/18 06:17:22 INFO client.RMProxy: Connecting to ResourceManager at /0.0.0.0:8032\n",
      "19/09/18 06:17:22 INFO client.RMProxy: Connecting to ResourceManager at /0.0.0.0:8032\n",
      "19/09/18 06:17:23 INFO mapred.FileInputFormat: Total input paths to process : 1\n",
      "19/09/18 06:17:23 INFO mapreduce.JobSubmitter: number of splits:2\n",
      "19/09/18 06:17:23 INFO mapreduce.JobSubmitter: Submitting tokens for job: job_1568784942760_0004\n",
      "19/09/18 06:17:24 INFO impl.YarnClientImpl: Submitted application application_1568784942760_0004\n",
      "19/09/18 06:17:24 INFO mapreduce.Job: The url to track the job: http://docker.w261:8088/proxy/application_1568784942760_0004/\n",
      "19/09/18 06:17:24 INFO mapreduce.Job: Running job: job_1568784942760_0004\n",
      "19/09/18 06:17:32 INFO mapreduce.Job: Job job_1568784942760_0004 running in uber mode : false\n",
      "19/09/18 06:17:32 INFO mapreduce.Job:  map 0% reduce 0%\n",
      "19/09/18 06:17:41 INFO mapreduce.Job:  map 50% reduce 0%\n",
      "19/09/18 06:17:42 INFO mapreduce.Job:  map 100% reduce 0%\n",
      "19/09/18 06:17:48 INFO mapreduce.Job:  map 100% reduce 100%\n",
      "19/09/18 06:17:49 INFO mapreduce.Job: Job job_1568784942760_0004 completed successfully\n",
      "19/09/18 06:17:50 INFO mapreduce.Job: Counters: 49\n",
      "\tFile System Counters\n",
      "\t\tFILE: Number of bytes read=192\n",
      "\t\tFILE: Number of bytes written=448802\n",
      "\t\tFILE: Number of read operations=0\n",
      "\t\tFILE: Number of large read operations=0\n",
      "\t\tFILE: Number of write operations=0\n",
      "\t\tHDFS: Number of bytes read=403\n",
      "\t\tHDFS: Number of bytes written=178\n",
      "\t\tHDFS: Number of read operations=9\n",
      "\t\tHDFS: Number of large read operations=0\n",
      "\t\tHDFS: Number of write operations=2\n",
      "\tJob Counters \n",
      "\t\tLaunched map tasks=2\n",
      "\t\tLaunched reduce tasks=1\n",
      "\t\tData-local map tasks=2\n",
      "\t\tTotal time spent by all maps in occupied slots (ms)=12811\n",
      "\t\tTotal time spent by all reduces in occupied slots (ms)=5211\n",
      "\t\tTotal time spent by all map tasks (ms)=12811\n",
      "\t\tTotal time spent by all reduce tasks (ms)=5211\n",
      "\t\tTotal vcore-milliseconds taken by all map tasks=12811\n",
      "\t\tTotal vcore-milliseconds taken by all reduce tasks=5211\n",
      "\t\tTotal megabyte-milliseconds taken by all map tasks=13118464\n",
      "\t\tTotal megabyte-milliseconds taken by all reduce tasks=5336064\n",
      "\tMap-Reduce Framework\n",
      "\t\tMap input records=4\n",
      "\t\tMap output records=4\n",
      "\t\tMap output bytes=178\n",
      "\t\tMap output materialized bytes=198\n",
      "\t\tInput split bytes=226\n",
      "\t\tCombine input records=0\n",
      "\t\tCombine output records=0\n",
      "\t\tReduce input groups=4\n",
      "\t\tReduce shuffle bytes=198\n",
      "\t\tReduce input records=4\n",
      "\t\tReduce output records=4\n",
      "\t\tSpilled Records=8\n",
      "\t\tShuffled Maps =2\n",
      "\t\tFailed Shuffles=0\n",
      "\t\tMerged Map outputs=2\n",
      "\t\tGC time elapsed (ms)=148\n",
      "\t\tCPU time spent (ms)=2900\n",
      "\t\tPhysical memory (bytes) snapshot=790130688\n",
      "\t\tVirtual memory (bytes) snapshot=4115136512\n",
      "\t\tTotal committed heap usage (bytes)=576716800\n",
      "\tShuffle Errors\n",
      "\t\tBAD_ID=0\n",
      "\t\tCONNECTION=0\n",
      "\t\tIO_ERROR=0\n",
      "\t\tWRONG_LENGTH=0\n",
      "\t\tWRONG_MAP=0\n",
      "\t\tWRONG_REDUCE=0\n",
      "\tFile Input Format Counters \n",
      "\t\tBytes Read=177\n",
      "\tFile Output Format Counters \n",
      "\t\tBytes Written=178\n",
      "19/09/18 06:17:50 INFO streaming.StreamJob: Output directory: /user/root/HW2/chinese-output\n"
     ]
    }
   ],
   "source": [
    "# part e - write your Hadooop streaming job here\n",
    "!hadoop jar {JAR_FILE} \\\n",
    "  -files NBmodel.txt,NaiveBayes/classify_mapper.py \\\n",
    "  -mapper classify_mapper.py \\\n",
    "  -reducer /bin/cat \\\n",
    "  -input {HDFS_DIR}/chineseTest.txt \\\n",
    "  -output {HDFS_DIR}/chinese-output \\\n",
    "  -cmdenv PATH={PATH}"
   ]
  },
  {
   "cell_type": "code",
   "execution_count": 31,
   "metadata": {},
   "outputs": [],
   "source": [
    "# part e - retrieve test set results from HDFS (RUN THIS CELL AS IS)\n",
    "!hdfs dfs -cat {HDFS_DIR}/chinese-output/part-000* > NaiveBayes/chineseResults.txt"
   ]
  },
  {
   "cell_type": "code",
   "execution_count": 32,
   "metadata": {},
   "outputs": [
    {
     "name": "stdout",
     "output_type": "stream",
     "text": [
      "d5  1  -8.90668134500626   -8.10769031284611   1\n",
      "d6  1  -5.780743515794329  -4.179502370564408  1\n",
      "d7  0  -6.591673732011658  -7.511706880737812  0\n",
      "d8  0  -4.394449154674438  -5.565796731681498  0\n"
     ]
    }
   ],
   "source": [
    "# part e - take a look (RUN THIS CELL AS IS)\n",
    "!cat NaiveBayes/chineseResults.txt | column -t"
   ]
  },
  {
   "cell_type": "markdown",
   "metadata": {},
   "source": [
    "<table>\n",
    "<th> Expected output for the test set:</th>\n",
    "<tr align=Left><td><pre>\n",
    "d5\t1\t-8.90668134\t-8.10769031\t1\n",
    "d6\t1\t-5.78074351\t-4.17950237\t1\n",
    "d7\t0\t-6.59167373\t-7.51170688\t0\n",
    "d8\t0\t-4.39444915\t-5.56579673\t0\n",
    "</pre></td><tr>\n",
    "</table>"
   ]
  },
  {
   "cell_type": "markdown",
   "metadata": {},
   "source": [
    "# Question 8: Naive Bayes Training.\n",
    "In Question 7 we used a model that we had trained by hand. Next we'll develop the code to do that same training in parallel, making it suitable for use with larger corpora (like the Enron emails). The end result of the MapReduce job you write in this question should be a model text file that looks just like the example (`NBmodel.txt`) that we created by hand above.\n",
    "\n",
    "To refresh your memory about the training process take a look at  `6a` and `6b` where you described the pieces of information you'll need to collect in order to encode a Multinomial Naive Bayes model. We now want to retrieve those pieces of information while streaming over a corpus. The bulk of the task will be very similar to the word counting excercises you've already done but you may want to consider a slightly different key-value record structure to efficiently tally counts for each class. \n",
    "\n",
    "The most challenging (interesting?) design question will be how to retrieve the totals (# of documents and # of words in documents for each class). Of course, counting these numbers is easy. The hard part is the timing: you'll need to make sure you have the counts totalled up _before_ you start estimating the class conditional probabilities for each word. It would be best (i.e. most scalable) if we could find a way to do this tallying without storing the whole vocabulary in memory... Use an appropriate MapReduce design pattern to implement this efficiently! \n",
    "\n",
    "\n",
    "### Q8 Tasks:\n",
    "* __a) make a plan:__  Fill in the docstrings for __`NaiveBayes/train_mapper.py`__ and __`NaiveBayes/train_reducer.py`__ to appropriately reflect the format that each script will input/output. [`HINT:` _the input files_ (`enronemail_1h.txt` & `chineseTrain.txt`) _have a prespecified format and your output file should match_ `NBmodel.txt` _so you really only have to decide on an internal format for Hadoop_].\n",
    "\n",
    "\n",
    "* __b) implement it:__ Complete the code in __`NaiveBayes/train_mapper.py`__ and __`NaiveBayes/train_reducer.py`__ so that together they train a Multinomial Naive Bayes model __with no smoothing__. Make sure your end result is formatted correctly (see note above). Test your scripts independently and together (using `chineseTrain.txt` or test input of your own devising). When you are satisfied with your Python code design and run a Hadoop streaming command to run your job in parallel on the __chineseTrain.txt__. Confirm that your trained model matches your hand calculations from Question 5.\n",
    "\n",
    "\n",
    "* __c) short response:__ We saw in Question 6 that adding Laplace +1 smoothing makes our classifications less sensitve to rare words. However implementing this technique requires access to one additional piece of information that we had not previously used in our Naive Bayes training. What is that extra piece of information? [`HINT:` see equation 13.7 in Manning, Raghavan and Schutze].\n",
    "\n",
    "\n",
    "* __d) short response:__ There are a couple of approaches that we could take to handle the extra piece of information you identified in `c`: 1) if we knew this extra information beforehand, we could provide it to our reducer as a configurable parameter for the vocab size dynamically (_where would we get it in the first place?_). Or 2) we could compute it in the reducer without storing any bulky information in memory but then we'd need some postprocessing or a second MapReduce job to complete the calculation (_why?_). Breifly explain what is non-ideal about each of these options. \n",
    "\n",
    "\n",
    "* __e) code + short response:__ Choose one of the 2 options above. State your choice & reasoning in the space below then use that strategy to complete the code in __`NaiveBayes/train_reducer_smooth.py`__. Test this alternate reducer then write and run a Hadoop streaming job to train an MNB model with smoothing on the Chinese example. Your results should match the model that we provided for you above (and the calculations in the textbook example). [`HINT:` _don't start from scratch with this one -- you can just copy over your reducer code from part `b` and make the needed modifications_]."
   ]
  },
  {
   "cell_type": "markdown",
   "metadata": {},
   "source": [
    "\n",
    "__IMPORTANT NOTE:__ For full credit on this question, your code must work with multiple reducers. [`HINT:`_You will need to implement custom partitioning - [Total Order Sort Notebook](https://github.com/UCB-w261/main/tree/master/HelpfulResources/TotalSortGuide/_total-sort-guide-spark2.01-JAN27-2017.ipynb)]\n"
   ]
  },
  {
   "cell_type": "markdown",
   "metadata": {},
   "source": [
    "### Q8 Student Answers:\n",
    "> __c)__ The Laplace smoothing requires the vocabulary count (the number of unique words).\n",
    "\n",
    "> __d)__ For option 1, if we have the total vocabulary count, we can pass it to the reducer and not need to run a second MapReduce job. However, we would need preprocessing, or a second MapReduce job, to get the vocab count in the first place. For option 2, if the vocab count is not available, it is impossible to compute the vocab count directly using 1 MapReduce job without postprocessing. Each reducer can only compute the count of unique words in its own file. Without another step to combine the count, there would be no way to add the unique word counts from each reducer together. \n",
    "\n",
    "> __e)__ Given that both options require additional processing beyond a single MapReduce job, getting the vocab count ahead of time is a better option because once the vocab count is determined, there is no need to recompute that. Option 2 would require that we run MapReduce twice (or MapReduce + postprocessing step) every time we need to run or debug the job. \n"
   ]
  },
  {
   "cell_type": "code",
   "execution_count": 33,
   "metadata": {},
   "outputs": [
    {
     "name": "stdout",
     "output_type": "stream",
     "text": [
      "=========== MAPPER DOCSTRING ============\n",
      "Mapper reads in text documents and emits word counts by class.\n",
      "INPUT:                                                    \n",
      "    DocID \\t true_class \\t subject \\t body                \n",
      "OUTPUT:                                                   \n",
      "    partitionKey \\t word \\t class0_partialCount,class1_partialCount       \n",
      "    \n",
      "=========== REDUCER DOCSTRING ============\n",
      "Reducer aggregates word counts by class and emits frequencies.\n",
      "    \n",
      "INPUT:\n",
      "    partitionKey \\t word \\t class0_partialCount,class1_partialCount\n",
      "OUTPUT:\n",
      "    word \\t ham_totalCount \\t spam_totalCount \\t P(ham|doc) \\t P(spam|doc)\n"
     ]
    }
   ],
   "source": [
    "# part a - do your work in train_mapper.py and train_reducer.py then RUN THIS CELL AS IS\n",
    "!chmod a+x NaiveBayes/train_mapper.py\n",
    "!chmod a+x NaiveBayes/train_reducer.py\n",
    "!echo \"=========== MAPPER DOCSTRING ============\"\n",
    "!head -n 8 NaiveBayes/train_mapper.py | tail -n 6\n",
    "!echo \"=========== REDUCER DOCSTRING ============\"\n",
    "!head -n 8 NaiveBayes/train_reducer.py | tail -n 6"
   ]
  },
  {
   "cell_type": "markdown",
   "metadata": {},
   "source": [
    "__`part b starts here`:__ MNB _without_ Smoothing (training on Chinese Example Corpus)."
   ]
  },
  {
   "cell_type": "code",
   "execution_count": 34,
   "metadata": {},
   "outputs": [
    {
     "name": "stdout",
     "output_type": "stream",
     "text": [
      "A\tchinese\t0,1\n",
      "A\tbeijing\t0,1\n",
      "A\tchinese\t0,1\n",
      "A\tchinese\t0,1\n",
      "A\tchinese\t0,1\n",
      "A\tshanghai\t0,1\n",
      "A\tchinese\t0,1\n",
      "A\tmacao\t0,1\n",
      "A\ttokyo\t1,0\n",
      "A\tjapan\t1,0\n",
      "A\tchinese\t1,0\n",
      "A\t*docTotals\t1,3\n",
      "A\t*wordTotals\t3,8\n"
     ]
    }
   ],
   "source": [
    "# part b - write a unit test for your mapper here\n",
    "!cat NaiveBayes/chineseTrain.txt | NaiveBayes/train_mapper.py "
   ]
  },
  {
   "cell_type": "code",
   "execution_count": 35,
   "metadata": {},
   "outputs": [
    {
     "name": "stdout",
     "output_type": "stream",
     "text": [
      "chinese\t0,4,0.0,0.6666666666666666\n",
      "shanghai\t0,1,0.0,0.16666666666666666\n",
      "tokyo\t1,0,1.0,0.0\n",
      "ClassPriors\t1.0,3.0,0.25,0.75\n"
     ]
    }
   ],
   "source": [
    "# part b - write a unit test for your reducer here\n",
    "!echo -e 'A\t*docTotals\t1,3\\nA\t*wordTotals\\t1,6\\nA\tchinese\t0,1\\nA\tchinese\t0,1\\nA\tchinese\t0,1\\nA\tchinese\t0,1\\nA\tshanghai\t0,1\\nA\ttokyo\t1,0' | NaiveBayes/train_reducer.py"
   ]
  },
  {
   "cell_type": "code",
   "execution_count": 36,
   "metadata": {},
   "outputs": [
    {
     "name": "stdout",
     "output_type": "stream",
     "text": [
      "beijing\t0,1,0.0,0.125\n",
      "chinese\t1,5,0.3333333333333333,0.625\n",
      "japan\t1,0,0.3333333333333333,0.0\n",
      "macao\t0,1,0.0,0.125\n",
      "shanghai\t0,1,0.0,0.125\n",
      "tokyo\t1,0,0.3333333333333333,0.0\n",
      "ClassPriors\t1.0,3.0,0.25,0.75\n"
     ]
    }
   ],
   "source": [
    "# part b - write a systems test for your mapper + reducer together here\n",
    "!cat NaiveBayes/chineseTrain.txt | NaiveBayes/train_mapper.py | sort -k2 | NaiveBayes/train_reducer.py"
   ]
  },
  {
   "cell_type": "code",
   "execution_count": 37,
   "metadata": {},
   "outputs": [
    {
     "name": "stdout",
     "output_type": "stream",
     "text": [
      "rm: `/user/root/HW2/unsmoothNB-output': No such file or directory\n"
     ]
    }
   ],
   "source": [
    "# part b - clear (and name) an output directory in HDFS for your unsmoothed chinese NB model\n",
    "!hdfs dfs -rm -r {HDFS_DIR}/unsmoothNB-output"
   ]
  },
  {
   "cell_type": "code",
   "execution_count": 38,
   "metadata": {},
   "outputs": [
    {
     "name": "stdout",
     "output_type": "stream",
     "text": [
      "packageJobJar: [] [/usr/lib/hadoop-mapreduce/hadoop-streaming-2.6.0-cdh5.15.1.jar] /tmp/streamjob4323052167475125489.jar tmpDir=null\n",
      "19/09/18 06:47:01 INFO client.RMProxy: Connecting to ResourceManager at /0.0.0.0:8032\n",
      "19/09/18 06:47:01 INFO client.RMProxy: Connecting to ResourceManager at /0.0.0.0:8032\n",
      "19/09/18 06:47:02 INFO mapred.FileInputFormat: Total input paths to process : 1\n",
      "19/09/18 06:47:02 INFO mapreduce.JobSubmitter: number of splits:2\n",
      "19/09/18 06:47:03 INFO mapreduce.JobSubmitter: Submitting tokens for job: job_1568784942760_0005\n",
      "19/09/18 06:47:03 INFO impl.YarnClientImpl: Submitted application application_1568784942760_0005\n",
      "19/09/18 06:47:03 INFO mapreduce.Job: The url to track the job: http://docker.w261:8088/proxy/application_1568784942760_0005/\n",
      "19/09/18 06:47:03 INFO mapreduce.Job: Running job: job_1568784942760_0005\n",
      "19/09/18 06:47:12 INFO mapreduce.Job: Job job_1568784942760_0005 running in uber mode : false\n",
      "19/09/18 06:47:12 INFO mapreduce.Job:  map 0% reduce 0%\n",
      "19/09/18 06:47:23 INFO mapreduce.Job:  map 100% reduce 0%\n",
      "19/09/18 06:47:33 INFO mapreduce.Job:  map 100% reduce 100%\n",
      "19/09/18 06:47:34 INFO mapreduce.Job: Job job_1568784942760_0005 completed successfully\n",
      "19/09/18 06:47:35 INFO mapreduce.Job: Counters: 49\n",
      "\tFile System Counters\n",
      "\t\tFILE: Number of bytes read=339\n",
      "\t\tFILE: Number of bytes written=600912\n",
      "\t\tFILE: Number of read operations=0\n",
      "\t\tFILE: Number of large read operations=0\n",
      "\t\tFILE: Number of write operations=0\n",
      "\t\tHDFS: Number of bytes read=387\n",
      "\t\tHDFS: Number of bytes written=198\n",
      "\t\tHDFS: Number of read operations=12\n",
      "\t\tHDFS: Number of large read operations=0\n",
      "\t\tHDFS: Number of write operations=4\n",
      "\tJob Counters \n",
      "\t\tLaunched map tasks=2\n",
      "\t\tLaunched reduce tasks=2\n",
      "\t\tData-local map tasks=2\n",
      "\t\tTotal time spent by all maps in occupied slots (ms)=14097\n",
      "\t\tTotal time spent by all reduces in occupied slots (ms)=14583\n",
      "\t\tTotal time spent by all map tasks (ms)=14097\n",
      "\t\tTotal time spent by all reduce tasks (ms)=14583\n",
      "\t\tTotal vcore-milliseconds taken by all map tasks=14097\n",
      "\t\tTotal vcore-milliseconds taken by all reduce tasks=14583\n",
      "\t\tTotal megabyte-milliseconds taken by all map tasks=14435328\n",
      "\t\tTotal megabyte-milliseconds taken by all reduce tasks=14932992\n",
      "\tMap-Reduce Framework\n",
      "\t\tMap input records=4\n",
      "\t\tMap output records=19\n",
      "\t\tMap output bytes=289\n",
      "\t\tMap output materialized bytes=351\n",
      "\t\tInput split bytes=228\n",
      "\t\tCombine input records=0\n",
      "\t\tCombine output records=0\n",
      "\t\tReduce input groups=10\n",
      "\t\tReduce shuffle bytes=351\n",
      "\t\tReduce input records=19\n",
      "\t\tReduce output records=7\n",
      "\t\tSpilled Records=38\n",
      "\t\tShuffled Maps =4\n",
      "\t\tFailed Shuffles=0\n",
      "\t\tMerged Map outputs=4\n",
      "\t\tGC time elapsed (ms)=176\n",
      "\t\tCPU time spent (ms)=3520\n",
      "\t\tPhysical memory (bytes) snapshot=929009664\n",
      "\t\tVirtual memory (bytes) snapshot=5491621888\n",
      "\t\tTotal committed heap usage (bytes)=678952960\n",
      "\tShuffle Errors\n",
      "\t\tBAD_ID=0\n",
      "\t\tCONNECTION=0\n",
      "\t\tIO_ERROR=0\n",
      "\t\tWRONG_LENGTH=0\n",
      "\t\tWRONG_MAP=0\n",
      "\t\tWRONG_REDUCE=0\n",
      "\tFile Input Format Counters \n",
      "\t\tBytes Read=159\n",
      "\tFile Output Format Counters \n",
      "\t\tBytes Written=198\n",
      "19/09/18 06:47:35 INFO streaming.StreamJob: Output directory: /user/root/HW2/unsmoothNB-output\n"
     ]
    }
   ],
   "source": [
    "# part b - write your hadoop streaming job\n",
    "!hadoop jar {JAR_FILE} \\\n",
    "  -D stream.num.map.output.key.fields=2 \\\n",
    "  -D mapreduce.job.output.key.comparator.class=org.apache.hadoop.mapred.lib.KeyFieldBasedComparator \\\n",
    "  -D mapreduce.partition.keycomparator.options=-k2,2\\\n",
    "  -files NaiveBayes/train_mapper.py,NaiveBayes/train_reducer.py \\\n",
    "  -mapper train_mapper.py \\\n",
    "  -reducer train_reducer.py \\\n",
    "  -input {HDFS_DIR}/chineseTrain.txt \\\n",
    "  -output {HDFS_DIR}/unsmoothNB-output \\\n",
    "  -numReduceTasks 2 \\\n",
    "  -cmdenv PATH={PATH} "
   ]
  },
  {
   "cell_type": "code",
   "execution_count": 39,
   "metadata": {},
   "outputs": [],
   "source": [
    "# part b - extract your results (i.e. model) to a local file\n",
    "!hdfs dfs -cat {HDFS_DIR}/unsmoothNB-output/part-000* > NaiveBayes/unsmoothNBResults.txt"
   ]
  },
  {
   "cell_type": "code",
   "execution_count": 40,
   "metadata": {},
   "outputs": [
    {
     "name": "stdout",
     "output_type": "stream",
     "text": [
      "beijing\t0,1,0.0,0.125\n",
      "chinese\t1,5,0.3333333333333333,0.625\n",
      "japan\t1,0,0.3333333333333333,0.0\n",
      "macao\t0,1,0.0,0.125\n",
      "shanghai\t0,1,0.0,0.125\n",
      "tokyo\t1,0,0.3333333333333333,0.0\n",
      "ClassPriors\t1.0,3.0,0.25,0.75\n"
     ]
    }
   ],
   "source": [
    "# part b - print your model so that we can confirm that it matches expected results\n",
    "!cat NaiveBayes/unsmoothNBResults.txt"
   ]
  },
  {
   "cell_type": "code",
   "execution_count": 41,
   "metadata": {},
   "outputs": [
    {
     "name": "stdout",
     "output_type": "stream",
     "text": [
      "D1\t1\t\tChinese Beijing Chinese\n",
      "D2\t1\t\tChinese Chinese Shanghai\n",
      "D3\t1\t\tChinese Macao\n",
      "D4\t0\t\tTokyo Japan Chinese"
     ]
    }
   ],
   "source": [
    "!cat NaiveBayes/chineseTrain.txt"
   ]
  },
  {
   "cell_type": "markdown",
   "metadata": {},
   "source": [
    "__`part e starts here`:__ MNB _with_ Smoothing (training on Chinese Example Corpus)."
   ]
  },
  {
   "cell_type": "code",
   "execution_count": 42,
   "metadata": {},
   "outputs": [
    {
     "name": "stdout",
     "output_type": "stream",
     "text": [
      "chinese\t0,4,0.14285714285714285,0.4166666666666667\n",
      "shanghai\t0,1,0.14285714285714285,0.16666666666666666\n",
      "tokyo\t1,0,0.2857142857142857,0.08333333333333333\n",
      "ClassPriors\t1.0,3.0,0.25,0.75\n"
     ]
    }
   ],
   "source": [
    "# part e - write a unit test for your NEW reducer here\n",
    "!chmod a+x NaiveBayes/train_reducer_smooth.py\n",
    "!echo -e 'A\t*docTotals\t1,3\\nA\t*wordTotals\\t1,6\\nA\tchinese\t0,1\\nA\tchinese\t0,1\\nA\tchinese\t0,1\\nA\tchinese\t0,1\\nA\tshanghai\t0,1\\nA\ttokyo\t1,0' | NaiveBayes/train_reducer_smooth.py"
   ]
  },
  {
   "cell_type": "code",
   "execution_count": 43,
   "metadata": {},
   "outputs": [
    {
     "name": "stdout",
     "output_type": "stream",
     "text": [
      "beijing\t0,1,0.1111111111111111,0.14285714285714285\n",
      "chinese\t1,5,0.2222222222222222,0.42857142857142855\n",
      "japan\t1,0,0.2222222222222222,0.07142857142857142\n",
      "macao\t0,1,0.1111111111111111,0.14285714285714285\n",
      "shanghai\t0,1,0.1111111111111111,0.14285714285714285\n",
      "tokyo\t1,0,0.2222222222222222,0.07142857142857142\n",
      "ClassPriors\t1.0,3.0,0.25,0.75\n"
     ]
    }
   ],
   "source": [
    "# part e - write a systems test for your mapper + reducer together here\n",
    "!cat NaiveBayes/chineseTrain.txt | NaiveBayes/train_mapper.py | sort -k2 | NaiveBayes/train_reducer_smooth.py"
   ]
  },
  {
   "cell_type": "code",
   "execution_count": 44,
   "metadata": {},
   "outputs": [
    {
     "name": "stdout",
     "output_type": "stream",
     "text": [
      "rm: `/user/root/HW2/smoothNB-output': No such file or directory\n"
     ]
    }
   ],
   "source": [
    "# part e - clear (and name) an output directory in HDFS for your SMOOTHED chinese NB model\n",
    "!hdfs dfs -rm -r {HDFS_DIR}/smoothNB-output"
   ]
  },
  {
   "cell_type": "code",
   "execution_count": 45,
   "metadata": {},
   "outputs": [
    {
     "name": "stdout",
     "output_type": "stream",
     "text": [
      "packageJobJar: [] [/usr/lib/hadoop-mapreduce/hadoop-streaming-2.6.0-cdh5.15.1.jar] /tmp/streamjob6408305952899647390.jar tmpDir=null\n",
      "19/09/18 06:48:18 INFO client.RMProxy: Connecting to ResourceManager at /0.0.0.0:8032\n",
      "19/09/18 06:48:19 INFO client.RMProxy: Connecting to ResourceManager at /0.0.0.0:8032\n",
      "19/09/18 06:48:20 INFO mapred.FileInputFormat: Total input paths to process : 1\n",
      "19/09/18 06:48:20 INFO mapreduce.JobSubmitter: number of splits:2\n",
      "19/09/18 06:48:20 INFO mapreduce.JobSubmitter: Submitting tokens for job: job_1568784942760_0006\n",
      "19/09/18 06:48:21 INFO impl.YarnClientImpl: Submitted application application_1568784942760_0006\n",
      "19/09/18 06:48:21 INFO mapreduce.Job: The url to track the job: http://docker.w261:8088/proxy/application_1568784942760_0006/\n",
      "19/09/18 06:48:21 INFO mapreduce.Job: Running job: job_1568784942760_0006\n",
      "19/09/18 06:48:31 INFO mapreduce.Job: Job job_1568784942760_0006 running in uber mode : false\n",
      "19/09/18 06:48:31 INFO mapreduce.Job:  map 0% reduce 0%\n",
      "19/09/18 06:48:40 INFO mapreduce.Job:  map 50% reduce 0%\n",
      "19/09/18 06:48:41 INFO mapreduce.Job:  map 100% reduce 0%\n",
      "19/09/18 06:48:50 INFO mapreduce.Job:  map 100% reduce 50%\n",
      "19/09/18 06:48:51 INFO mapreduce.Job:  map 100% reduce 100%\n",
      "19/09/18 06:48:51 INFO mapreduce.Job: Job job_1568784942760_0006 completed successfully\n",
      "19/09/18 06:48:52 INFO mapreduce.Job: Counters: 49\n",
      "\tFile System Counters\n",
      "\t\tFILE: Number of bytes read=339\n",
      "\t\tFILE: Number of bytes written=601044\n",
      "\t\tFILE: Number of read operations=0\n",
      "\t\tFILE: Number of large read operations=0\n",
      "\t\tFILE: Number of write operations=0\n",
      "\t\tHDFS: Number of bytes read=387\n",
      "\t\tHDFS: Number of bytes written=331\n",
      "\t\tHDFS: Number of read operations=12\n",
      "\t\tHDFS: Number of large read operations=0\n",
      "\t\tHDFS: Number of write operations=4\n",
      "\tJob Counters \n",
      "\t\tLaunched map tasks=2\n",
      "\t\tLaunched reduce tasks=2\n",
      "\t\tData-local map tasks=2\n",
      "\t\tTotal time spent by all maps in occupied slots (ms)=14977\n",
      "\t\tTotal time spent by all reduces in occupied slots (ms)=15349\n",
      "\t\tTotal time spent by all map tasks (ms)=14977\n",
      "\t\tTotal time spent by all reduce tasks (ms)=15349\n",
      "\t\tTotal vcore-milliseconds taken by all map tasks=14977\n",
      "\t\tTotal vcore-milliseconds taken by all reduce tasks=15349\n",
      "\t\tTotal megabyte-milliseconds taken by all map tasks=15336448\n",
      "\t\tTotal megabyte-milliseconds taken by all reduce tasks=15717376\n",
      "\tMap-Reduce Framework\n",
      "\t\tMap input records=4\n",
      "\t\tMap output records=19\n",
      "\t\tMap output bytes=289\n",
      "\t\tMap output materialized bytes=351\n",
      "\t\tInput split bytes=228\n",
      "\t\tCombine input records=0\n",
      "\t\tCombine output records=0\n",
      "\t\tReduce input groups=10\n",
      "\t\tReduce shuffle bytes=351\n",
      "\t\tReduce input records=19\n",
      "\t\tReduce output records=7\n",
      "\t\tSpilled Records=38\n",
      "\t\tShuffled Maps =4\n",
      "\t\tFailed Shuffles=0\n",
      "\t\tMerged Map outputs=4\n",
      "\t\tGC time elapsed (ms)=219\n",
      "\t\tCPU time spent (ms)=3600\n",
      "\t\tPhysical memory (bytes) snapshot=927432704\n",
      "\t\tVirtual memory (bytes) snapshot=5494632448\n",
      "\t\tTotal committed heap usage (bytes)=668991488\n",
      "\tShuffle Errors\n",
      "\t\tBAD_ID=0\n",
      "\t\tCONNECTION=0\n",
      "\t\tIO_ERROR=0\n",
      "\t\tWRONG_LENGTH=0\n",
      "\t\tWRONG_MAP=0\n",
      "\t\tWRONG_REDUCE=0\n",
      "\tFile Input Format Counters \n",
      "\t\tBytes Read=159\n",
      "\tFile Output Format Counters \n",
      "\t\tBytes Written=331\n",
      "19/09/18 06:48:52 INFO streaming.StreamJob: Output directory: /user/root/HW2/smoothNB-output\n"
     ]
    }
   ],
   "source": [
    "# part e - write your hadoop streaming job\n",
    "!hadoop jar {JAR_FILE} \\\n",
    "  -D stream.num.map.output.key.fields=2 \\\n",
    "  -D mapreduce.job.output.key.comparator.class=org.apache.hadoop.mapred.lib.KeyFieldBasedComparator \\\n",
    "  -D mapreduce.partition.keycomparator.options=-k2,2\\\n",
    "  -files NaiveBayes/train_mapper.py,NaiveBayes/train_reducer_smooth.py \\\n",
    "  -mapper train_mapper.py \\\n",
    "  -reducer train_reducer_smooth.py \\\n",
    "  -input {HDFS_DIR}/chineseTrain.txt \\\n",
    "  -output {HDFS_DIR}/smoothNB-output \\\n",
    "  -numReduceTasks 2 \\\n",
    "  -cmdenv PATH={PATH} "
   ]
  },
  {
   "cell_type": "code",
   "execution_count": 46,
   "metadata": {},
   "outputs": [
    {
     "name": "stdout",
     "output_type": "stream",
     "text": [
      "beijing\t0,1,0.1111111111111111,0.14285714285714285\n",
      "chinese\t1,5,0.2222222222222222,0.42857142857142855\n",
      "japan\t1,0,0.2222222222222222,0.07142857142857142\n",
      "macao\t0,1,0.1111111111111111,0.14285714285714285\n",
      "shanghai\t0,1,0.1111111111111111,0.14285714285714285\n",
      "tokyo\t1,0,0.2222222222222222,0.07142857142857142\n",
      "ClassPriors\t1.0,3.0,0.25,0.75\n"
     ]
    }
   ],
   "source": [
    "# part e - extract your results (i.e. model) to a local file\n",
    "!hdfs dfs -cat {HDFS_DIR}/smoothNB-output/part-000* > NaiveBayes/smoothNBResults.txt\n",
    "!cat NaiveBayes/smoothNBResults.txt"
   ]
  },
  {
   "cell_type": "markdown",
   "metadata": {},
   "source": [
    "# Question 9: Enron Ham/Spam NB Classifier & Results.\n",
    "\n",
    "Fantastic work. We're finally ready to perform Spam Classification on the Enron Corpus. In this question you'll run the analysis you've developed, report its performance, and draw some conclusions.\n",
    "\n",
    "### Q9 Tasks:\n",
    "* __a) train/test split:__ Run the provided code to split our Enron file into a training set and testing set then load them into HDFS. \n",
    "\n",
    "[`NOTE:` _Make sure you re calculate the vocab size for just the training set!_]\n",
    "\n",
    "* __b) train 2 models:__ Write Hadoop Streaming jobs to train MNB Models on the training set with and without smoothing. Save your models to local files at __`NaiveBayes/Unsmoothed/NBmodel.txt`__ and __`NaiveBayes/Smoothed/NBmodel.txt`__. [`NOTE:` _This naming is important because we wrote our classification task so that it expects a file of that name... if this inelegance frustrates you there is an alternative that would involve a few adjustments to your code [read more about it here](http://www.tnoda.com/blog/2013-11-23)._] Finally run the checks that we provide to confirm that your results are correct.\n",
    "\n",
    "\n",
    "* __c) code:__ Recall that we designed our classification job with just a mapper. An efficient way to report the performance of our models would be to simply add a reducer phase to this job and compute precision and recall right there. Complete the code in __`NaiveBayes/evaluation_reducer.py`__ and then write Hadoop jobs to evaluate your two models on the test set. Report their performance side by side. [`NOTE:` if you need a refresher on precision, recall and F1-score [Wikipedia](https://en.wikipedia.org/wiki/F1_score) is a good resource.]\n",
    "\n",
    "\n",
    "* __d) short response:__ Compare the performance of your two models. What do you notice about the unsmoothed model's predictions? Can you guess why this is happening? Which evaluation measure do you think is most relevant in our use case? [`NOTE:` _Feel free to answer using your common sense but if you want more information on evaluating the classification task checkout_ [this blogpost](https://tryolabs.com/blog/2013/03/25/why-accuracy-alone-bad-measure-classification-tasks-and-what-we-can-do-about-it/\n",
    ") or [this paper](http://www.flinders.edu.au/science_engineering/fms/School-CSEM/publications/tech_reps-research_artfcts/TRRA_2007.pdf\n",
    ")]\n",
    "\n",
    "\n",
    "* __e) code + short response:__ Let's look at the top ten words with the highest conditional probability in `Spam` and in `Ham`. We'll do this by writing a Hadoop job that sorts the model file (`NaiveBayes/Smoothed/NBmodel.py`). Normally we'd have to run two jobs -- one that sorts on $P(word|ham)$ and another that sorts on $P(word|spam)$. However if we slighly modify the data format in the model file then we can get the top words in each class with just one job. We've written a mapper that will do just this for you. Read through __`NaiveBayes/model_sort_mapper.py`__ and then briefly explain how this mapper will allow us to partition and sort our model file. Write a Hadoop job that uses our mapper and `/bin/cat` for a reducer to partition and sort. Print out the top 10 words in each class (where 'top' == highest conditional probability).[`HINT:` _this should remind you a lot of what we did in Question 6._]\n",
    "\n",
    "\n",
    "* __f) short response:__ What do you notice about the 'top words' we printed in `e`? How would increasing the smoothing parameter 'k' affect the probabilities for the top words that you identified for 'e'. How would they affect the probabilities of words that occur much more in one class than another? In summary, how does the smoothing parameter 'k' affect the bias and the variance of our model. [`NOTE:` _you do not need to code anything for this task, but if you are struggling with it you could try changing 'k' and see what happens to the test set. We don't recommend doing this exploration with the Enron data because it will be harder to see the impact with such a big vocabulary_]"
   ]
  },
  {
   "cell_type": "markdown",
   "metadata": {},
   "source": [
    "### Q9 Student Answers:\n",
    "> __d)__ The unsmoothed version performed significantly worse. This is because this model does not handle the zero probability issue well so a lot of documents end up having zero probability, causing a lot of false negatives. This means whenever we have an unseen word, the model will not predict well.\n",
    "\n",
    "> __e)__ model_sort_mapper adds two additional fields in the output, $maxClass$ and $maxClassP$. Since we now know the class the word belongs to and the corresponding probability, we can partition based on the class (using 2 partitions since we have 2 classes) and then sort by the probability. We can then print the top 10 words by printing the first 10 words from each of the 2 partition files. \n",
    "\n",
    "> __f)__ The top words are rather common words, not the words that would differentiate between ham and spam. If we increase K, we will increase the bias and decrease the variance of our model. This is because as K becomes bigger, the probabilities will become more similar. As K approaches infinity, the probabilities will become the same, therefore, the variance will decrease. As K increases, more errors are introduced to the model and therefore the bias is increased. "
   ]
  },
  {
   "cell_type": "markdown",
   "metadata": {},
   "source": [
    "__Test/Train split__"
   ]
  },
  {
   "cell_type": "code",
   "execution_count": 47,
   "metadata": {},
   "outputs": [],
   "source": [
    "# part a - test/train split (RUN THIS CELL AS IS)\n",
    "!head -n 80 data/enronemail_1h.txt > data/enron_train.txt\n",
    "!tail -n 20 data/enronemail_1h.txt > data/enron_test.txt\n",
    "!hdfs dfs -copyFromLocal data/enron_train.txt {HDFS_DIR}\n",
    "!hdfs dfs -copyFromLocal data/enron_test.txt {HDFS_DIR}"
   ]
  },
  {
   "cell_type": "markdown",
   "metadata": {},
   "source": [
    "__Training__ (Enron MNB Model _without smoothing_ )"
   ]
  },
  {
   "cell_type": "code",
   "execution_count": 48,
   "metadata": {},
   "outputs": [
    {
     "name": "stdout",
     "output_type": "stream",
     "text": [
      "rm: `/user/root/HW2/enron-model': No such file or directory\n",
      "packageJobJar: [] [/usr/lib/hadoop-mapreduce/hadoop-streaming-2.6.0-cdh5.15.1.jar] /tmp/streamjob7123208155521122298.jar tmpDir=null\n",
      "19/09/18 07:07:40 INFO client.RMProxy: Connecting to ResourceManager at /0.0.0.0:8032\n",
      "19/09/18 07:07:41 INFO client.RMProxy: Connecting to ResourceManager at /0.0.0.0:8032\n",
      "19/09/18 07:07:42 INFO mapred.FileInputFormat: Total input paths to process : 1\n",
      "19/09/18 07:07:42 INFO mapreduce.JobSubmitter: number of splits:2\n",
      "19/09/18 07:07:42 INFO mapreduce.JobSubmitter: Submitting tokens for job: job_1568784942760_0007\n",
      "19/09/18 07:07:43 INFO impl.YarnClientImpl: Submitted application application_1568784942760_0007\n",
      "19/09/18 07:07:43 INFO mapreduce.Job: The url to track the job: http://docker.w261:8088/proxy/application_1568784942760_0007/\n",
      "19/09/18 07:07:43 INFO mapreduce.Job: Running job: job_1568784942760_0007\n",
      "19/09/18 07:07:52 INFO mapreduce.Job: Job job_1568784942760_0007 running in uber mode : false\n",
      "19/09/18 07:07:52 INFO mapreduce.Job:  map 0% reduce 0%\n",
      "19/09/18 07:08:03 INFO mapreduce.Job:  map 100% reduce 0%\n",
      "19/09/18 07:08:14 INFO mapreduce.Job:  map 100% reduce 100%\n",
      "19/09/18 07:08:15 INFO mapreduce.Job: Job job_1568784942760_0007 completed successfully\n",
      "19/09/18 07:08:16 INFO mapreduce.Job: Counters: 49\n",
      "\tFile System Counters\n",
      "\t\tFILE: Number of bytes read=343662\n",
      "\t\tFILE: Number of bytes written=1287530\n",
      "\t\tFILE: Number of read operations=0\n",
      "\t\tFILE: Number of large read operations=0\n",
      "\t\tFILE: Number of write operations=0\n",
      "\t\tHDFS: Number of bytes read=167388\n",
      "\t\tHDFS: Number of bytes written=186927\n",
      "\t\tHDFS: Number of read operations=12\n",
      "\t\tHDFS: Number of large read operations=0\n",
      "\t\tHDFS: Number of write operations=4\n",
      "\tJob Counters \n",
      "\t\tLaunched map tasks=2\n",
      "\t\tLaunched reduce tasks=2\n",
      "\t\tData-local map tasks=2\n",
      "\t\tTotal time spent by all maps in occupied slots (ms)=16359\n",
      "\t\tTotal time spent by all reduces in occupied slots (ms)=17223\n",
      "\t\tTotal time spent by all map tasks (ms)=16359\n",
      "\t\tTotal time spent by all reduce tasks (ms)=17223\n",
      "\t\tTotal vcore-milliseconds taken by all map tasks=16359\n",
      "\t\tTotal vcore-milliseconds taken by all reduce tasks=17223\n",
      "\t\tTotal megabyte-milliseconds taken by all map tasks=16751616\n",
      "\t\tTotal megabyte-milliseconds taken by all reduce tasks=17636352\n",
      "\tMap-Reduce Framework\n",
      "\t\tMap input records=80\n",
      "\t\tMap output records=25075\n",
      "\t\tMap output bytes=293500\n",
      "\t\tMap output materialized bytes=343674\n",
      "\t\tInput split bytes=226\n",
      "\t\tCombine input records=0\n",
      "\t\tCombine output records=0\n",
      "\t\tReduce input groups=4559\n",
      "\t\tReduce shuffle bytes=343674\n",
      "\t\tReduce input records=25075\n",
      "\t\tReduce output records=4556\n",
      "\t\tSpilled Records=50150\n",
      "\t\tShuffled Maps =4\n",
      "\t\tFailed Shuffles=0\n",
      "\t\tMerged Map outputs=4\n",
      "\t\tGC time elapsed (ms)=228\n",
      "\t\tCPU time spent (ms)=5830\n",
      "\t\tPhysical memory (bytes) snapshot=981590016\n",
      "\t\tVirtual memory (bytes) snapshot=5497761792\n",
      "\t\tTotal committed heap usage (bytes)=767557632\n",
      "\tShuffle Errors\n",
      "\t\tBAD_ID=0\n",
      "\t\tCONNECTION=0\n",
      "\t\tIO_ERROR=0\n",
      "\t\tWRONG_LENGTH=0\n",
      "\t\tWRONG_MAP=0\n",
      "\t\tWRONG_REDUCE=0\n",
      "\tFile Input Format Counters \n",
      "\t\tBytes Read=167162\n",
      "\tFile Output Format Counters \n",
      "\t\tBytes Written=186927\n",
      "19/09/18 07:08:16 INFO streaming.StreamJob: Output directory: /user/root/HW2/enron-model\n",
      "mkdir: cannot create directory `NaiveBayes/Unsmoothed': File exists\n"
     ]
    }
   ],
   "source": [
    "# part b -  Unsmoothed model (FILL IN THE MISSING CODE BELOW)\n",
    "\n",
    "# clear the output directory\n",
    "!hdfs dfs -rm -r {HDFS_DIR}/enron-model\n",
    "\n",
    "# hadoop command\n",
    "!hadoop jar {JAR_FILE} \\\n",
    "  -D stream.num.map.output.key.fields=2 \\\n",
    "  -D mapreduce.job.output.key.comparator.class=org.apache.hadoop.mapred.lib.KeyFieldBasedComparator \\\n",
    "  -D mapreduce.partition.keycomparator.options=-k2,2\\\n",
    "  -files NaiveBayes/train_mapper.py,NaiveBayes/train_reducer.py \\\n",
    "  -mapper train_mapper.py \\\n",
    "  -reducer train_reducer.py \\\n",
    "  -input {HDFS_DIR}/enron_train.txt \\\n",
    "  -output {HDFS_DIR}/enron-model \\\n",
    "  -numReduceTasks 2 \\\n",
    "  -cmdenv PATH={PATH} \n",
    "\n",
    "# save the model locally\n",
    "!mkdir NaiveBayes/Unsmoothed\n",
    "!hdfs dfs -cat {HDFS_DIR}/enron-model/part-000* > NaiveBayes/Unsmoothed/NBmodel.txt"
   ]
  },
  {
   "cell_type": "code",
   "execution_count": 49,
   "metadata": {},
   "outputs": [
    {
     "name": "stdout",
     "output_type": "stream",
     "text": [
      "assistance\t2,4,0.0001725476662928134,0.00029682398337785694\n"
     ]
    }
   ],
   "source": [
    "# part b - check your UNSMOOTHED model results (RUN THIS CELL AS IS)\n",
    "!grep assistance NaiveBayes/Unsmoothed/NBmodel.txt\n",
    "# EXPECTED OUTPUT: assistance\t2,4,0.000172547666293,0.000296823983378"
   ]
  },
  {
   "cell_type": "code",
   "execution_count": 50,
   "metadata": {},
   "outputs": [
    {
     "name": "stdout",
     "output_type": "stream",
     "text": [
      "money\t1,22,8.62738331464067e-05,0.001632531908578213\n"
     ]
    }
   ],
   "source": [
    "# part b - check your UNSMOOTHED model results (RUN THIS CELL AS IS)\n",
    "!grep money NaiveBayes/Unsmoothed/NBmodel.txt\n",
    "# EXPECTED OUTPUT: money\t1,22,8.62738331464e-05,0.00163253190858"
   ]
  },
  {
   "cell_type": "markdown",
   "metadata": {},
   "source": [
    "__Training__ (Enron MNB Model _with Laplace +1 smoothing_ )"
   ]
  },
  {
   "cell_type": "code",
   "execution_count": 51,
   "metadata": {},
   "outputs": [
    {
     "name": "stdout",
     "output_type": "stream",
     "text": [
      "rm: `/user/root/HW2/smooth-model': No such file or directory\n",
      "packageJobJar: [] [/usr/lib/hadoop-mapreduce/hadoop-streaming-2.6.0-cdh5.15.1.jar] /tmp/streamjob7410488173441029252.jar tmpDir=null\n",
      "19/09/18 07:08:28 INFO client.RMProxy: Connecting to ResourceManager at /0.0.0.0:8032\n",
      "19/09/18 07:08:29 INFO client.RMProxy: Connecting to ResourceManager at /0.0.0.0:8032\n",
      "19/09/18 07:08:30 INFO mapred.FileInputFormat: Total input paths to process : 1\n",
      "19/09/18 07:08:30 INFO mapreduce.JobSubmitter: number of splits:2\n",
      "19/09/18 07:08:30 INFO mapreduce.JobSubmitter: Submitting tokens for job: job_1568784942760_0008\n",
      "19/09/18 07:08:31 INFO impl.YarnClientImpl: Submitted application application_1568784942760_0008\n",
      "19/09/18 07:08:31 INFO mapreduce.Job: The url to track the job: http://docker.w261:8088/proxy/application_1568784942760_0008/\n",
      "19/09/18 07:08:31 INFO mapreduce.Job: Running job: job_1568784942760_0008\n",
      "19/09/18 07:08:40 INFO mapreduce.Job: Job job_1568784942760_0008 running in uber mode : false\n",
      "19/09/18 07:08:40 INFO mapreduce.Job:  map 0% reduce 0%\n",
      "19/09/18 07:08:50 INFO mapreduce.Job:  map 50% reduce 0%\n",
      "19/09/18 07:08:51 INFO mapreduce.Job:  map 100% reduce 0%\n",
      "19/09/18 07:09:02 INFO mapreduce.Job:  map 100% reduce 50%\n",
      "19/09/18 07:09:03 INFO mapreduce.Job:  map 100% reduce 100%\n",
      "19/09/18 07:09:03 INFO mapreduce.Job: Job job_1568784942760_0008 completed successfully\n",
      "19/09/18 07:09:03 INFO mapreduce.Job: Counters: 50\n",
      "\tFile System Counters\n",
      "\t\tFILE: Number of bytes read=343662\n",
      "\t\tFILE: Number of bytes written=1287674\n",
      "\t\tFILE: Number of read operations=0\n",
      "\t\tFILE: Number of large read operations=0\n",
      "\t\tFILE: Number of write operations=0\n",
      "\t\tHDFS: Number of bytes read=167388\n",
      "\t\tHDFS: Number of bytes written=254176\n",
      "\t\tHDFS: Number of read operations=12\n",
      "\t\tHDFS: Number of large read operations=0\n",
      "\t\tHDFS: Number of write operations=4\n",
      "\tJob Counters \n",
      "\t\tKilled map tasks=1\n",
      "\t\tLaunched map tasks=2\n",
      "\t\tLaunched reduce tasks=2\n",
      "\t\tData-local map tasks=2\n",
      "\t\tTotal time spent by all maps in occupied slots (ms)=16843\n",
      "\t\tTotal time spent by all reduces in occupied slots (ms)=18953\n",
      "\t\tTotal time spent by all map tasks (ms)=16843\n",
      "\t\tTotal time spent by all reduce tasks (ms)=18953\n",
      "\t\tTotal vcore-milliseconds taken by all map tasks=16843\n",
      "\t\tTotal vcore-milliseconds taken by all reduce tasks=18953\n",
      "\t\tTotal megabyte-milliseconds taken by all map tasks=17247232\n",
      "\t\tTotal megabyte-milliseconds taken by all reduce tasks=19407872\n",
      "\tMap-Reduce Framework\n",
      "\t\tMap input records=80\n",
      "\t\tMap output records=25075\n",
      "\t\tMap output bytes=293500\n",
      "\t\tMap output materialized bytes=343674\n",
      "\t\tInput split bytes=226\n",
      "\t\tCombine input records=0\n",
      "\t\tCombine output records=0\n",
      "\t\tReduce input groups=4559\n",
      "\t\tReduce shuffle bytes=343674\n",
      "\t\tReduce input records=25075\n",
      "\t\tReduce output records=4556\n",
      "\t\tSpilled Records=50150\n",
      "\t\tShuffled Maps =4\n",
      "\t\tFailed Shuffles=0\n",
      "\t\tMerged Map outputs=4\n",
      "\t\tGC time elapsed (ms)=195\n",
      "\t\tCPU time spent (ms)=6540\n",
      "\t\tPhysical memory (bytes) snapshot=1000607744\n",
      "\t\tVirtual memory (bytes) snapshot=5502619648\n",
      "\t\tTotal committed heap usage (bytes)=772276224\n",
      "\tShuffle Errors\n",
      "\t\tBAD_ID=0\n",
      "\t\tCONNECTION=0\n",
      "\t\tIO_ERROR=0\n",
      "\t\tWRONG_LENGTH=0\n",
      "\t\tWRONG_MAP=0\n",
      "\t\tWRONG_REDUCE=0\n",
      "\tFile Input Format Counters \n",
      "\t\tBytes Read=167162\n",
      "\tFile Output Format Counters \n",
      "\t\tBytes Written=254176\n",
      "19/09/18 07:09:03 INFO streaming.StreamJob: Output directory: /user/root/HW2/smooth-model\n",
      "mkdir: cannot create directory `NaiveBayes/Smoothed': File exists\n"
     ]
    }
   ],
   "source": [
    "# part b -  Smoothed model (FILL IN THE MISSING CODE BELOW)\n",
    "\n",
    "# clear the output directory\n",
    "!hdfs dfs -rm -r {HDFS_DIR}/smooth-model\n",
    "\n",
    "# hadoop command\n",
    "!hadoop jar {JAR_FILE} \\\n",
    "  -D stream.num.map.output.key.fields=2 \\\n",
    "  -D mapreduce.job.output.key.comparator.class=org.apache.hadoop.mapred.lib.KeyFieldBasedComparator \\\n",
    "  -D mapreduce.partition.keycomparator.options=-k2,2\\\n",
    "  -files NaiveBayes/train_mapper.py,NaiveBayes/train_reducer_smooth.py \\\n",
    "  -mapper train_mapper.py \\\n",
    "  -reducer train_reducer_smooth.py \\\n",
    "  -input {HDFS_DIR}/enron_train.txt \\\n",
    "  -output {HDFS_DIR}/smooth-model \\\n",
    "  -numReduceTasks 2 \\\n",
    "  -cmdenv PATH={PATH} \n",
    "\n",
    "# save the model locally\n",
    "!mkdir NaiveBayes/Smoothed\n",
    "!hdfs dfs -cat {HDFS_DIR}/smooth-model/part-000* > NaiveBayes/Smoothed/NBmodel.txt"
   ]
  },
  {
   "cell_type": "code",
   "execution_count": 52,
   "metadata": {},
   "outputs": [
    {
     "name": "stdout",
     "output_type": "stream",
     "text": [
      "assistance\t2,4,0.0001858045336306206,0.00027730020520215184\n"
     ]
    }
   ],
   "source": [
    "# part b - check your SMOOTHED model results (RUN THIS CELL AS IS)\n",
    "!grep assistance NaiveBayes/Smoothed/NBmodel.txt\n",
    "# EXPECTED OUTPUT: assistance\t2,4,0.000185804533631,0.000277300205202"
   ]
  },
  {
   "cell_type": "code",
   "execution_count": 53,
   "metadata": {},
   "outputs": [
    {
     "name": "stdout",
     "output_type": "stream",
     "text": [
      "money\t1,22,0.0001238696890870804,0.0012755809439298986\n"
     ]
    }
   ],
   "source": [
    "# part b - check your SMOOTHED model results (RUN THIS CELL AS IS)\n",
    "!grep money NaiveBayes/Smoothed/NBmodel.txt\n",
    "# EXPECTED OUTPUT: money\t1,22,0.000123869689087,0.00127558094393"
   ]
  },
  {
   "cell_type": "markdown",
   "metadata": {},
   "source": [
    "__Evaluation__"
   ]
  },
  {
   "cell_type": "code",
   "execution_count": 52,
   "metadata": {},
   "outputs": [],
   "source": [
    "# part c - write your code in NaiveBayes/evaluation_reducer.py then RUN THIS\n",
    "!chmod a+x NaiveBayes/evaluation_reducer.py"
   ]
  },
  {
   "cell_type": "code",
   "execution_count": 54,
   "metadata": {},
   "outputs": [
    {
     "name": "stdout",
     "output_type": "stream",
     "text": [
      "d5\t1\t-8.90668134500626\t-8.10769031284611\t True\n",
      "d6\t1\t-5.780743515794329\t-4.179502370564408\t True\n",
      "d7\t0\t-6.591673732011658\t-7.511706880737812\t True\n",
      "d8\t0\t-4.394449154674438\t-5.565796731681498\t True\n",
      "# Documents:\t4\n",
      "True Positives:\t2\n",
      "True Negatives:\t2\n",
      "False Positives:\t0\n",
      "False Negatives:\t0\n",
      "Accuracy\t1.0000\n",
      "Precision\t1.0000\n",
      "Recall\t1.0000\n",
      "F-Score\t1.0000\n"
     ]
    }
   ],
   "source": [
    "# part c - unit test your evaluation job on the chinese model (RUN THIS CELL AS IS)\n",
    "!cat NaiveBayes/chineseTest.txt | NaiveBayes/classify_mapper.py | NaiveBayes/evaluation_reducer.py"
   ]
  },
  {
   "cell_type": "code",
   "execution_count": 55,
   "metadata": {},
   "outputs": [
    {
     "name": "stdout",
     "output_type": "stream",
     "text": [
      "rm: `/user/root/HW2/unsmooth-model': No such file or directory\n",
      "packageJobJar: [] [/usr/lib/hadoop-mapreduce/hadoop-streaming-2.6.0-cdh5.15.1.jar] /tmp/streamjob6136906923000987123.jar tmpDir=null\n",
      "19/09/18 07:09:17 INFO client.RMProxy: Connecting to ResourceManager at /0.0.0.0:8032\n",
      "19/09/18 07:09:17 INFO client.RMProxy: Connecting to ResourceManager at /0.0.0.0:8032\n",
      "19/09/18 07:09:19 INFO mapred.FileInputFormat: Total input paths to process : 1\n",
      "19/09/18 07:09:19 INFO mapreduce.JobSubmitter: number of splits:2\n",
      "19/09/18 07:09:19 INFO mapreduce.JobSubmitter: Submitting tokens for job: job_1568784942760_0009\n",
      "19/09/18 07:09:19 INFO impl.YarnClientImpl: Submitted application application_1568784942760_0009\n",
      "19/09/18 07:09:19 INFO mapreduce.Job: The url to track the job: http://docker.w261:8088/proxy/application_1568784942760_0009/\n",
      "19/09/18 07:09:19 INFO mapreduce.Job: Running job: job_1568784942760_0009\n",
      "19/09/18 07:09:30 INFO mapreduce.Job: Job job_1568784942760_0009 running in uber mode : false\n",
      "19/09/18 07:09:30 INFO mapreduce.Job:  map 0% reduce 0%\n",
      "19/09/18 07:09:40 INFO mapreduce.Job:  map 100% reduce 0%\n",
      "19/09/18 07:09:49 INFO mapreduce.Job:  map 100% reduce 100%\n",
      "19/09/18 07:09:49 INFO mapreduce.Job: Job job_1568784942760_0009 completed successfully\n",
      "19/09/18 07:09:49 INFO mapreduce.Job: Counters: 50\n",
      "\tFile System Counters\n",
      "\t\tFILE: Number of bytes read=818\n",
      "\t\tFILE: Number of bytes written=451272\n",
      "\t\tFILE: Number of read operations=0\n",
      "\t\tFILE: Number of large read operations=0\n",
      "\t\tFILE: Number of write operations=0\n",
      "\t\tHDFS: Number of bytes read=49909\n",
      "\t\tHDFS: Number of bytes written=1015\n",
      "\t\tHDFS: Number of read operations=9\n",
      "\t\tHDFS: Number of large read operations=0\n",
      "\t\tHDFS: Number of write operations=2\n",
      "\tJob Counters \n",
      "\t\tKilled map tasks=1\n",
      "\t\tLaunched map tasks=2\n",
      "\t\tLaunched reduce tasks=1\n",
      "\t\tData-local map tasks=2\n",
      "\t\tTotal time spent by all maps in occupied slots (ms)=15480\n",
      "\t\tTotal time spent by all reduces in occupied slots (ms)=5246\n",
      "\t\tTotal time spent by all map tasks (ms)=15480\n",
      "\t\tTotal time spent by all reduce tasks (ms)=5246\n",
      "\t\tTotal vcore-milliseconds taken by all map tasks=15480\n",
      "\t\tTotal vcore-milliseconds taken by all reduce tasks=5246\n",
      "\t\tTotal megabyte-milliseconds taken by all map tasks=15851520\n",
      "\t\tTotal megabyte-milliseconds taken by all reduce tasks=5371904\n",
      "\tMap-Reduce Framework\n",
      "\t\tMap input records=20\n",
      "\t\tMap output records=20\n",
      "\t\tMap output bytes=772\n",
      "\t\tMap output materialized bytes=824\n",
      "\t\tInput split bytes=224\n",
      "\t\tCombine input records=0\n",
      "\t\tCombine output records=0\n",
      "\t\tReduce input groups=20\n",
      "\t\tReduce shuffle bytes=824\n",
      "\t\tReduce input records=20\n",
      "\t\tReduce output records=29\n",
      "\t\tSpilled Records=40\n",
      "\t\tShuffled Maps =2\n",
      "\t\tFailed Shuffles=0\n",
      "\t\tMerged Map outputs=2\n",
      "\t\tGC time elapsed (ms)=118\n",
      "\t\tCPU time spent (ms)=2750\n",
      "\t\tPhysical memory (bytes) snapshot=763420672\n",
      "\t\tVirtual memory (bytes) snapshot=4099612672\n",
      "\t\tTotal committed heap usage (bytes)=559415296\n",
      "\tShuffle Errors\n",
      "\t\tBAD_ID=0\n",
      "\t\tCONNECTION=0\n",
      "\t\tIO_ERROR=0\n",
      "\t\tWRONG_LENGTH=0\n",
      "\t\tWRONG_MAP=0\n",
      "\t\tWRONG_REDUCE=0\n",
      "\tFile Input Format Counters \n",
      "\t\tBytes Read=49685\n",
      "\tFile Output Format Counters \n",
      "\t\tBytes Written=1015\n",
      "19/09/18 07:09:49 INFO streaming.StreamJob: Output directory: /user/root/HW2/unsmooth-model\n"
     ]
    }
   ],
   "source": [
    "# part c - Evaluate the UNSMOOTHED Model Here (FILL IN THE MISSING CODE)\n",
    "\n",
    "# clear output directory\n",
    "!hdfs dfs -rm -r {HDFS_DIR}/unsmooth-model\n",
    "\n",
    "# hadoop job\n",
    "!hadoop jar {JAR_FILE} \\\n",
    "  -files NaiveBayes/Unsmoothed/NBmodel.txt,NaiveBayes/classify_mapper.py,NaiveBayes/evaluation_reducer.py \\\n",
    "  -mapper classify_mapper.py \\\n",
    "  -reducer evaluation_reducer.py \\\n",
    "  -input {HDFS_DIR}/enron_test.txt \\\n",
    "  -output {HDFS_DIR}/unsmooth-model \\\n",
    "  -cmdenv PATH={PATH}\n",
    "\n",
    "# retrieve results locally\n",
    "!hdfs dfs -cat {HDFS_DIR}/unsmooth-model/part-000* > NaiveBayes/Unsmoothed/results.txt"
   ]
  },
  {
   "cell_type": "code",
   "execution_count": 56,
   "metadata": {},
   "outputs": [
    {
     "name": "stdout",
     "output_type": "stream",
     "text": [
      "Deleted /user/root/HW2/smooth-model\n",
      "packageJobJar: [] [/usr/lib/hadoop-mapreduce/hadoop-streaming-2.6.0-cdh5.15.1.jar] /tmp/streamjob211340780112942520.jar tmpDir=null\n",
      "19/09/18 07:10:02 INFO client.RMProxy: Connecting to ResourceManager at /0.0.0.0:8032\n",
      "19/09/18 07:10:02 INFO client.RMProxy: Connecting to ResourceManager at /0.0.0.0:8032\n",
      "19/09/18 07:10:04 INFO mapred.FileInputFormat: Total input paths to process : 1\n",
      "19/09/18 07:10:04 INFO mapreduce.JobSubmitter: number of splits:2\n",
      "19/09/18 07:10:04 INFO mapreduce.JobSubmitter: Submitting tokens for job: job_1568784942760_0010\n",
      "19/09/18 07:10:04 INFO impl.YarnClientImpl: Submitted application application_1568784942760_0010\n",
      "19/09/18 07:10:04 INFO mapreduce.Job: The url to track the job: http://docker.w261:8088/proxy/application_1568784942760_0010/\n",
      "19/09/18 07:10:05 INFO mapreduce.Job: Running job: job_1568784942760_0010\n",
      "19/09/18 07:10:14 INFO mapreduce.Job: Job job_1568784942760_0010 running in uber mode : false\n",
      "19/09/18 07:10:14 INFO mapreduce.Job:  map 0% reduce 0%\n",
      "19/09/18 07:10:24 INFO mapreduce.Job:  map 100% reduce 0%\n",
      "19/09/18 07:10:33 INFO mapreduce.Job:  map 100% reduce 100%\n",
      "19/09/18 07:10:33 INFO mapreduce.Job: Job job_1568784942760_0010 completed successfully\n",
      "19/09/18 07:10:33 INFO mapreduce.Job: Counters: 49\n",
      "\tFile System Counters\n",
      "\t\tFILE: Number of bytes read=1349\n",
      "\t\tFILE: Number of bytes written=452319\n",
      "\t\tFILE: Number of read operations=0\n",
      "\t\tFILE: Number of large read operations=0\n",
      "\t\tFILE: Number of write operations=0\n",
      "\t\tHDFS: Number of bytes read=49909\n",
      "\t\tHDFS: Number of bytes written=1539\n",
      "\t\tHDFS: Number of read operations=9\n",
      "\t\tHDFS: Number of large read operations=0\n",
      "\t\tHDFS: Number of write operations=2\n",
      "\tJob Counters \n",
      "\t\tLaunched map tasks=2\n",
      "\t\tLaunched reduce tasks=1\n",
      "\t\tData-local map tasks=2\n",
      "\t\tTotal time spent by all maps in occupied slots (ms)=15204\n",
      "\t\tTotal time spent by all reduces in occupied slots (ms)=6263\n",
      "\t\tTotal time spent by all map tasks (ms)=15204\n",
      "\t\tTotal time spent by all reduce tasks (ms)=6263\n",
      "\t\tTotal vcore-milliseconds taken by all map tasks=15204\n",
      "\t\tTotal vcore-milliseconds taken by all reduce tasks=6263\n",
      "\t\tTotal megabyte-milliseconds taken by all map tasks=15568896\n",
      "\t\tTotal megabyte-milliseconds taken by all reduce tasks=6413312\n",
      "\tMap-Reduce Framework\n",
      "\t\tMap input records=20\n",
      "\t\tMap output records=20\n",
      "\t\tMap output bytes=1303\n",
      "\t\tMap output materialized bytes=1355\n",
      "\t\tInput split bytes=224\n",
      "\t\tCombine input records=0\n",
      "\t\tCombine output records=0\n",
      "\t\tReduce input groups=20\n",
      "\t\tReduce shuffle bytes=1355\n",
      "\t\tReduce input records=20\n",
      "\t\tReduce output records=29\n",
      "\t\tSpilled Records=40\n",
      "\t\tShuffled Maps =2\n",
      "\t\tFailed Shuffles=0\n",
      "\t\tMerged Map outputs=2\n",
      "\t\tGC time elapsed (ms)=128\n",
      "\t\tCPU time spent (ms)=2860\n",
      "\t\tPhysical memory (bytes) snapshot=790663168\n",
      "\t\tVirtual memory (bytes) snapshot=4136775680\n",
      "\t\tTotal committed heap usage (bytes)=575668224\n",
      "\tShuffle Errors\n",
      "\t\tBAD_ID=0\n",
      "\t\tCONNECTION=0\n",
      "\t\tIO_ERROR=0\n",
      "\t\tWRONG_LENGTH=0\n",
      "\t\tWRONG_MAP=0\n",
      "\t\tWRONG_REDUCE=0\n",
      "\tFile Input Format Counters \n",
      "\t\tBytes Read=49685\n",
      "\tFile Output Format Counters \n",
      "\t\tBytes Written=1539\n",
      "19/09/18 07:10:33 INFO streaming.StreamJob: Output directory: /user/root/HW2/smooth-model\n"
     ]
    }
   ],
   "source": [
    "# part c - Evaluate the SMOOTHED Model Here (FILL IN THE MISSING CODE)\n",
    "\n",
    "# clear output directory\n",
    "!hdfs dfs -rm -r {HDFS_DIR}/smooth-model\n",
    "\n",
    "# hadoop job\n",
    "!hadoop jar {JAR_FILE} \\\n",
    "  -files NaiveBayes/Smoothed/NBmodel.txt,NaiveBayes/classify_mapper.py,NaiveBayes/evaluation_reducer.py \\\n",
    "  -mapper classify_mapper.py \\\n",
    "  -reducer evaluation_reducer.py \\\n",
    "  -input {HDFS_DIR}/enron_test.txt \\\n",
    "  -output {HDFS_DIR}/smooth-model \\\n",
    "  -cmdenv PATH={PATH}\n",
    "\n",
    "# retrieve results locally\n",
    "!hdfs dfs -cat {HDFS_DIR}/smooth-model/part-000* > NaiveBayes/Smoothed/results.txt"
   ]
  },
  {
   "cell_type": "code",
   "execution_count": 57,
   "metadata": {},
   "outputs": [
    {
     "name": "stdout",
     "output_type": "stream",
     "text": [
      "=========== UNSMOOTHED MODEL ============\n",
      "# Documents:\t20\n",
      "True Positives:\t1\n",
      "True Negatives:\t9\n",
      "False Positives:\t0\n",
      "False Negatives:\t10\n",
      "Accuracy\t0.5000\n",
      "Precision\t1.0000\n",
      "Recall\t0.0909\n",
      "F-Score\t0.1667\n",
      "=========== SMOOTHED MODEL ============\n",
      "# Documents:\t20\n",
      "True Positives:\t11\n",
      "True Negatives:\t6\n",
      "False Positives:\t3\n",
      "False Negatives:\t0\n",
      "Accuracy\t0.8500\n",
      "Precision\t0.7857\n",
      "Recall\t1.0000\n",
      "F-Score\t0.8800\n"
     ]
    }
   ],
   "source": [
    "# part c - display results \n",
    "# NOTE: feel free to modify the tail commands to match the format of your results file\n",
    "print('=========== UNSMOOTHED MODEL ============')\n",
    "!tail -n 9 NaiveBayes/Unsmoothed/results.txt\n",
    "print('=========== SMOOTHED MODEL ============')\n",
    "!tail -n 9 NaiveBayes/Smoothed/results.txt"
   ]
  },
  {
   "cell_type": "markdown",
   "metadata": {},
   "source": [
    "__`EXPECTED RESULTS:`__ \n",
    "<table>\n",
    "<th>Unsmoothed Model</th>\n",
    "<th>Smoothed Model</th>\n",
    "<tr>\n",
    "<td><pre>\n",
    "# Documents:\t20\n",
    "True Positives:\t1\n",
    "True Negatives:\t9\n",
    "False Positives:\t0\n",
    "False Negatives:\t10\n",
    "Accuracy\t0.5\n",
    "Precision\t1.0\n",
    "Recall\t0.0909\n",
    "F-Score\t0.1666\n",
    "</pre></td>\n",
    "<td><pre>\n",
    "# Documents:\t20\n",
    "True Positives:\t11\n",
    "True Negatives:\t6\n",
    "False Positives:\t3\n",
    "False Negatives:\t0\n",
    "Accuracy\t0.85\n",
    "Precision\t0.7857\n",
    "Recall\t1.0\n",
    "F-Score\t0.88\n",
    "</pre></td>\n",
    "</tr>\n",
    "</table>\n",
    "\n",
    "__`NOTE:`__ _Don't be too disappointed if these seem low to you. We've trained and tested on a very very small corpus... bigger datasets coming soon!_\n",
    "\n",
    "__`part e starts here:`__"
   ]
  },
  {
   "cell_type": "code",
   "execution_count": 58,
   "metadata": {},
   "outputs": [
    {
     "name": "stdout",
     "output_type": "stream",
     "text": [
      "rm: `/user/root/HW2/smooth-sort-model': No such file or directory\n",
      "packageJobJar: [] [/usr/lib/hadoop-mapreduce/hadoop-streaming-2.6.0-cdh5.15.1.jar] /tmp/streamjob5214890041511687416.jar tmpDir=null\n",
      "19/09/18 07:10:50 INFO client.RMProxy: Connecting to ResourceManager at /0.0.0.0:8032\n",
      "19/09/18 07:10:50 INFO client.RMProxy: Connecting to ResourceManager at /0.0.0.0:8032\n",
      "19/09/18 07:10:51 INFO mapred.FileInputFormat: Total input paths to process : 1\n",
      "19/09/18 07:10:52 INFO mapreduce.JobSubmitter: number of splits:2\n",
      "19/09/18 07:10:52 INFO mapreduce.JobSubmitter: Submitting tokens for job: job_1568784942760_0011\n",
      "19/09/18 07:10:52 INFO impl.YarnClientImpl: Submitted application application_1568784942760_0011\n",
      "19/09/18 07:10:52 INFO mapreduce.Job: The url to track the job: http://docker.w261:8088/proxy/application_1568784942760_0011/\n",
      "19/09/18 07:10:52 INFO mapreduce.Job: Running job: job_1568784942760_0011\n",
      "19/09/18 07:11:01 INFO mapreduce.Job: Job job_1568784942760_0011 running in uber mode : false\n",
      "19/09/18 07:11:01 INFO mapreduce.Job:  map 0% reduce 0%\n",
      "19/09/18 07:11:11 INFO mapreduce.Job:  map 50% reduce 0%\n",
      "19/09/18 07:11:12 INFO mapreduce.Job:  map 100% reduce 0%\n",
      "19/09/18 07:11:22 INFO mapreduce.Job:  map 100% reduce 50%\n",
      "19/09/18 07:11:23 INFO mapreduce.Job:  map 100% reduce 100%\n",
      "19/09/18 07:11:23 INFO mapreduce.Job: Job job_1568784942760_0011 completed successfully\n",
      "19/09/18 07:11:23 INFO mapreduce.Job: Counters: 49\n",
      "\tFile System Counters\n",
      "\t\tFILE: Number of bytes read=391064\n",
      "\t\tFILE: Number of bytes written=1383922\n",
      "\t\tFILE: Number of read operations=0\n",
      "\t\tFILE: Number of large read operations=0\n",
      "\t\tFILE: Number of write operations=0\n",
      "\t\tHDFS: Number of bytes read=258490\n",
      "\t\tHDFS: Number of bytes written=381940\n",
      "\t\tHDFS: Number of read operations=12\n",
      "\t\tHDFS: Number of large read operations=0\n",
      "\t\tHDFS: Number of write operations=4\n",
      "\tJob Counters \n",
      "\t\tLaunched map tasks=2\n",
      "\t\tLaunched reduce tasks=2\n",
      "\t\tData-local map tasks=2\n",
      "\t\tTotal time spent by all maps in occupied slots (ms)=15780\n",
      "\t\tTotal time spent by all reduces in occupied slots (ms)=16700\n",
      "\t\tTotal time spent by all map tasks (ms)=15780\n",
      "\t\tTotal time spent by all reduce tasks (ms)=16700\n",
      "\t\tTotal vcore-milliseconds taken by all map tasks=15780\n",
      "\t\tTotal vcore-milliseconds taken by all reduce tasks=16700\n",
      "\t\tTotal megabyte-milliseconds taken by all map tasks=16158720\n",
      "\t\tTotal megabyte-milliseconds taken by all reduce tasks=17100800\n",
      "\tMap-Reduce Framework\n",
      "\t\tMap input records=4556\n",
      "\t\tMap output records=4556\n",
      "\t\tMap output bytes=381940\n",
      "\t\tMap output materialized bytes=391076\n",
      "\t\tInput split bytes=218\n",
      "\t\tCombine input records=0\n",
      "\t\tCombine output records=0\n",
      "\t\tReduce input groups=4556\n",
      "\t\tReduce shuffle bytes=391076\n",
      "\t\tReduce input records=4556\n",
      "\t\tReduce output records=4556\n",
      "\t\tSpilled Records=9112\n",
      "\t\tShuffled Maps =4\n",
      "\t\tFailed Shuffles=0\n",
      "\t\tMerged Map outputs=4\n",
      "\t\tGC time elapsed (ms)=217\n",
      "\t\tCPU time spent (ms)=5050\n",
      "\t\tPhysical memory (bytes) snapshot=961286144\n",
      "\t\tVirtual memory (bytes) snapshot=5504196608\n",
      "\t\tTotal committed heap usage (bytes)=668467200\n",
      "\tShuffle Errors\n",
      "\t\tBAD_ID=0\n",
      "\t\tCONNECTION=0\n",
      "\t\tIO_ERROR=0\n",
      "\t\tWRONG_LENGTH=0\n",
      "\t\tWRONG_MAP=0\n",
      "\t\tWRONG_REDUCE=0\n",
      "\tFile Input Format Counters \n",
      "\t\tBytes Read=258272\n",
      "\tFile Output Format Counters \n",
      "\t\tBytes Written=381940\n",
      "19/09/18 07:11:23 INFO streaming.StreamJob: Output directory: /user/root/HW2/smooth-sort-model\n"
     ]
    }
   ],
   "source": [
    "# part e - write your Hadoop job here (sort smoothed model on P(word|class))\n",
    "\n",
    "# load file into HDFS\n",
    "!hdfs dfs -copyFromLocal NaiveBayes/Smoothed/NBmodel.txt {HDFS_DIR}\n",
    "\n",
    "# clear output directory\n",
    "!hdfs dfs -rm -r {HDFS_DIR}/smooth-sort-model\n",
    "\n",
    "# hadoop job\n",
    "!hadoop jar {JAR_FILE} \\\n",
    "  -D stream.num.map.output.key.fields=4 \\\n",
    "  -D mapreduce.partition.keypartitioner.options=-k3,3 \\\n",
    "  -D mapreduce.job.output.key.comparator.class=org.apache.hadoop.mapred.lib.KeyFieldBasedComparator \\\n",
    "  -D mapreduce.partition.keycomparator.options=-k4,4nr\\\n",
    "  -files NaiveBayes/Smoothed/NBmodel.txt,NaiveBayes/model_sort_mapper.py \\\n",
    "  -mapper model_sort_mapper.py \\\n",
    "  -reducer /bin/cat \\\n",
    "  -partitioner org.apache.hadoop.mapred.lib.KeyFieldBasedPartitioner \\\n",
    "  -input {HDFS_DIR}/NBmodel.txt \\\n",
    "  -output {HDFS_DIR}/smooth-sort-model \\\n",
    "  -numReduceTasks 2 \\\n",
    "  -cmdenv PATH={PATH} \n"
   ]
  },
  {
   "cell_type": "code",
   "execution_count": 59,
   "metadata": {},
   "outputs": [
    {
     "name": "stdout",
     "output_type": "stream",
     "text": [
      "\n",
      "===== part-00000=====\n",
      "\n",
      "ClassPriors  47.0,33.0,0.5875,0.4125                            ham  0.5875\n",
      "ect          378,0,0.023473306082001735,5.546004104043037e-05   ham  0.023473306082001735\n",
      "and          258,277,0.01604112473677691,0.015417891409239643   ham  0.01604112473677691\n",
      "hou          203,0,0.0126347082868822,5.546004104043037e-05     ham  0.0126347082868822\n",
      "in           160,157,0.009971509971509971,0.008762686484387999  ham  0.009971509971509971\n",
      "for          148,153,0.00922829183698749,0.008540846320226277   ham  0.00922829183698749\n",
      "on           122,95,0.007617985878855444,0.005324163939881316   ham  0.007617985878855444\n",
      "enron        116,0,0.007246376811594203,5.546004104043037e-05   ham  0.007246376811594203\n",
      "i            113,106,0.007060572277963582,0.00593422439132605   ham  0.007060572277963582\n",
      "will         113,69,0.007060572277963582,0.003882202872830126   ham  0.007060572277963582\n",
      "cat: Unable to write to output stream.\n",
      "\n",
      "===== part-00001=====\n",
      "\n",
      "the   453,535,0.02811841942276725,0.029726581997670677    spam  0.029726581997670677\n",
      "to    350,420,0.021739130434782608,0.023348677278021184   spam  0.023348677278021184\n",
      "a     168,274,0.010466988727858293,0.015251511286118352   spam  0.015251511286118352\n",
      "your  35,271,0.002229654403567447,0.01508513116299706     spam  0.01508513116299706\n",
      "of    188,252,0.011705685618729096,0.014031390383228884   spam  0.014031390383228884\n",
      "you   80,252,0.005016722408026756,0.014031390383228884    spam  0.014031390383228884\n",
      "it    30,119,0.0019199801808497462,0.0066552049248516446  spam  0.0066552049248516446\n",
      "com   74,108,0.004645113340765515,0.006045144473406911    spam  0.006045144473406911\n",
      "that  71,100,0.004459308807134894,0.005601464145083467    spam  0.005601464145083467\n",
      "or    41,88,0.002601263470828688,0.004935943652598303     spam  0.004935943652598303\n",
      "cat: Unable to write to output stream.\n"
     ]
    }
   ],
   "source": [
    "# part e - print top words in each class\n",
    "for idx in range(2):\n",
    "    print(f\"\\n===== part-0000{idx}=====\\n\")\n",
    "    !hdfs dfs -cat {HDFS_DIR}/smooth-sort-model/part-0000{idx} | head | column -t"
   ]
  },
  {
   "cell_type": "markdown",
   "metadata": {},
   "source": [
    "### Congratulations, you have completed HW2! Please refer to the readme for submission instructions.\n",
    "\n",
    "If you would like to provide feedback regarding this homework, please use the survey at: https://docs.google.com/forms/d/1S3P9be24hLspAAPuXINUgMae1v-pUZrmDRmTQ2cwPo0/edit"
   ]
  },
  {
   "cell_type": "code",
   "execution_count": null,
   "metadata": {},
   "outputs": [],
   "source": []
  }
 ],
 "metadata": {
  "kernelspec": {
   "display_name": "Python 3",
   "language": "python",
   "name": "python3"
  },
  "language_info": {
   "codemirror_mode": {
    "name": "ipython",
    "version": 3
   },
   "file_extension": ".py",
   "mimetype": "text/x-python",
   "name": "python",
   "nbconvert_exporter": "python",
   "pygments_lexer": "ipython3",
   "version": "3.6.6"
  }
 },
 "nbformat": 4,
 "nbformat_minor": 2
}
