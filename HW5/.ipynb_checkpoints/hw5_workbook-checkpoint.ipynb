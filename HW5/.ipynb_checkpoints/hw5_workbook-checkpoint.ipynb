{
 "cells": [
  {
   "cell_type": "markdown",
   "metadata": {},
   "source": [
    "# HW 5 - Page Rank\n",
    "__`MIDS w261: Machine Learning at Scale | UC Berkeley School of Information | Fall 2018`__\n",
    "\n",
    "In Weeks 8 and 9 you discussed key concepts related to graph based algorithms and implemented SSSP.   \n",
    "In this final homework assignment you'll implement distributed PageRank using some data from Wikipedia.\n",
    "By the end of this homework you should be able to:  \n",
    "* ... __compare/contrast__ adjacency matrices and lists as representations of graphs for parallel computation.\n",
    "* ... __explain__ the goal of the PageRank algorithm using the concept of an infinite Random Walk.\n",
    "* ... __define__ a Markov chain including the conditions underwhich it will converge.\n",
    "* ... __identify__ what modifications must be made to the web graph inorder to leverage Markov Chains.\n",
    "* ... __implement__ distributed PageRank in Spark.\n",
    "\n",
    "__Please refer to the `README` for homework submission instructions and additional resources.__ "
   ]
  },
  {
   "cell_type": "markdown",
   "metadata": {},
   "source": [
    "# Notebook Set-Up\n",
    "Before starting your homework run the following cells to confirm your setup."
   ]
  },
  {
   "cell_type": "code",
   "execution_count": 1,
   "metadata": {},
   "outputs": [],
   "source": [
    "# imports\n",
    "import re\n",
    "import ast\n",
    "import time\n",
    "import numpy as np\n",
    "import pandas as pd\n",
    "import seaborn as sns\n",
    "import networkx as nx\n",
    "import matplotlib.pyplot as plt"
   ]
  },
  {
   "cell_type": "code",
   "execution_count": 2,
   "metadata": {},
   "outputs": [],
   "source": [
    "%reload_ext autoreload\n",
    "%autoreload 2"
   ]
  },
  {
   "cell_type": "code",
   "execution_count": 3,
   "metadata": {},
   "outputs": [],
   "source": [
    "# store path to notebook\n",
    "PWD = !pwd\n",
    "PWD = PWD[0]"
   ]
  },
  {
   "cell_type": "code",
   "execution_count": 4,
   "metadata": {},
   "outputs": [],
   "source": [
    "# start Spark Session\n",
    "from pyspark.sql import SparkSession\n",
    "app_name = \"hw5_notebook\"\n",
    "master = \"local[*]\"\n",
    "spark = SparkSession\\\n",
    "        .builder\\\n",
    "        .appName(app_name)\\\n",
    "        .master(master)\\\n",
    "        .getOrCreate()\n",
    "sc = spark.sparkContext"
   ]
  },
  {
   "cell_type": "code",
   "execution_count": 5,
   "metadata": {},
   "outputs": [
    {
     "data": {
      "text/html": [
       "\n",
       "            <div>\n",
       "                <p><b>SparkSession - in-memory</b></p>\n",
       "                \n",
       "        <div>\n",
       "            <p><b>SparkContext</b></p>\n",
       "\n",
       "            <p><a href=\"http://docker.w261:4040\">Spark UI</a></p>\n",
       "\n",
       "            <dl>\n",
       "              <dt>Version</dt>\n",
       "                <dd><code>v2.3.1</code></dd>\n",
       "              <dt>Master</dt>\n",
       "                <dd><code>local[*]</code></dd>\n",
       "              <dt>AppName</dt>\n",
       "                <dd><code>hw5_notebook</code></dd>\n",
       "            </dl>\n",
       "        </div>\n",
       "        \n",
       "            </div>\n",
       "        "
      ],
      "text/plain": [
       "<pyspark.sql.session.SparkSession at 0x7f45411156a0>"
      ]
     },
     "execution_count": 5,
     "metadata": {},
     "output_type": "execute_result"
    }
   ],
   "source": [
    "spark"
   ]
  },
  {
   "cell_type": "code",
   "execution_count": 6,
   "metadata": {},
   "outputs": [],
   "source": [
    "sc = spark.sparkContext"
   ]
  },
  {
   "cell_type": "markdown",
   "metadata": {},
   "source": [
    "__`REMINDER`__: If you are running this notebook on the course docker container, you can monitor the progress of your jobs using the Spark UI at: http://localhost:4040/jobs/"
   ]
  },
  {
   "cell_type": "markdown",
   "metadata": {},
   "source": [
    "# Question 1: Distributed Graph Processing\n",
    "Chapter 5 from Lin & Dyer gave you a high level introduction to graph algorithms and concernts that come up when trying to perform distributed computations over them. The questions below are designed to make sure you captured the key points from this reading and your async lectures. \n",
    "\n",
    "### Q1 Tasks:\n",
    "\n",
    "* __a) short response:__ Give an example of a dataset that would be appropriate to represent as a graph. What are the nodes/edges in this dataset? Is the graph you describe 'directed' or 'undirected'? What would the average \"in-degree\" of a node mean in the context of your example? \n",
    "\n",
    "* __b) short response:__ Other than their size/scale, what makes graphs uniquely challenging to work with in the map-reduce paradigm? *(__HINT__: Do not respond in terms of any specific algorithm. Think in terms of the nature of the graph datastructure itself).*\n",
    "\n",
    "* __c) short response:__ Briefly describe Dijskra's algorithm (goal/approach). What specific design component makes this approach hard to parallelize?\n",
    "\n",
    "* __d) short response:__ How does parallel breadth-first-search get around the problem that you identified in part `c`? At what expense?"
   ]
  },
  {
   "cell_type": "markdown",
   "metadata": {},
   "source": [
    "### Q1 Student Answers:\n",
    "> __a)__ Since I work in an university, I thought it would be interesting to construct a graph of all the publications referenced in new publications and see how a given publication may potentially inspire ideas for different science. The nodes would be the publications and we can draw a directed edge between two publications to show that publication A is being referenced in publication B. The average 'in-degree' of a node would be the number of publications citing the node.  \n",
    "\n",
    "> __b)__ Since graphs are usually sparse, \n",
    "\n",
    "> __c)__ The Dijskra's algorithm finds the single source shortest path by maintaining and updating a global priority queue of distances of each path. As the algorithm traverses the graph, it keeps track of the nodes that have been visited and the nodes about to be visited (frontier nodes). Initially all distances are set to infinity. Once it finds a shorter distance, it updates the priority queue with the new distance. This algorithm is not parallelizable because of the global priority queue. MapReduce should not be sharing state so we cannot have a global state that requries updating. [source: week9 sync session and demo notebook]\n",
    "\n",
    "> __d)__ The parallel breath-first-search (BFS) get around the global priority queue issue by using an iterative approach. Essentially, each iteration of MapReduce would have been a round of priority queue update in Dijskra's. We will need another process to control when MapReduce should stop iterating. The downside of the parallel BFS is that at each iteration, we are processing all nodes connected to the source node in parallel and do a lot of unnecessary computation. But nonetheless, this allows us to parallelized BFS.\n"
   ]
  },
  {
   "cell_type": "markdown",
   "metadata": {},
   "source": [
    "# Question 2: Representing Graphs \n",
    "\n",
    "In class you saw examples of adjacency matrix and adjacency list representations of graphs. These data structures were probably familiar from HW3, though we hadn't before talked about them in the context of graphs. In this question we'll discuss some of the tradeoffs associated with these representations. __`NOTE:`__ We'll use the graph from Figure 5.1 in Lin & Dyer as a toy example. For convenience in the code below we'll label the nodes `A`, `B`, `C`, `D`, and `E` instead of $n_1$, $n_2$, etc but otherwise you should be able to follow along & check our answers against those in the text.\n",
    "\n",
    "\n",
    "<img src=\"Lin-Dyer-graph-Q1.png\" width=\"70%\">\n",
    "\n",
    "### Q2 Tasks:\n",
    "\n",
    "* __a) short response:__ Relatively speaking, is the graph you described in Figure 5.1 in Lin & Dyer \"sparse\" or \"dense\"?  Explain how sparsity/density impacts the adjacency matrix and adjacency list representations of a graph.\n",
    "\n",
    "* __b) short response:__ Run the provided code to create and plot our toy graph. Is this graph directed or undirected? Explain how the adjacency matrices for directed graphs will differ from those of undirected graphs.\n",
    "\n",
    "* __c) code:__ Fill in the missing code to complete the function `get_adj_matr()`.\n",
    "\n",
    "* __d) code:__ Fill in the missing code to complete the function `get_adj_list()`.\n"
   ]
  },
  {
   "cell_type": "markdown",
   "metadata": {},
   "source": [
    "### Q2 Student Answers:\n",
    "> __a)__ The graph in Figure 5.1 is sparse because most entries in the adjacency matrix is zero. If the graph is sparse, representing it as a adjacency matrix will not be space efficient because we would store a lot of zeros. In this case, it would make more sense to represent it as an adjacency list so that we only store the 1s in the matrix. Likewise, if the graph is dense, adjacency matrix is a better choice. \n",
    "\n",
    "> __b)__ The toy graph is directed because the edges have directions. If a graph is directed, we will see entries in the entire adjacency matrix because any node can have an edge going to another node. But if a graph is undirected, we will only see entries above the diagonal in the adjacency matrix because we only record edges between two nodes (such as A and B) and do not record edges pointing the reverse direction (such as B and A). "
   ]
  },
  {
   "cell_type": "code",
   "execution_count": 7,
   "metadata": {},
   "outputs": [],
   "source": [
    "# part a - a graph is just a list of nodes and edges (RUN THIS CELL AS IS)\n",
    "TOY_GRAPH = {'nodes':['A', 'B', 'C', 'D', 'E'],\n",
    "             'edges':[('A', 'B'), ('A', 'D'), ('B', 'C'), ('B', 'E'), ('C', 'D'), \n",
    "                      ('D', 'E'), ('E', 'A'),('E', 'B'), ('E', 'C')]}"
   ]
  },
  {
   "cell_type": "code",
   "execution_count": 8,
   "metadata": {},
   "outputs": [
    {
     "data": {
      "image/png": "[encoded data removed]",
      "text/plain": [
       "<Figure size 432x288 with 1 Axes>"
      ]
     },
     "metadata": {},
     "output_type": "display_data"
    }
   ],
   "source": [
    "# part a - simple visualization of our toy graph using nx (RUN THIS CELL AS IS)\n",
    "G = nx.DiGraph()\n",
    "G.add_nodes_from(TOY_GRAPH['nodes'])\n",
    "G.add_edges_from(TOY_GRAPH['edges'])\n",
    "nx.draw(G, pos=nx.circular_layout(G), with_labels=True, alpha = 0.5)"
   ]
  },
  {
   "cell_type": "code",
   "execution_count": 9,
   "metadata": {},
   "outputs": [],
   "source": [
    "# part c - adjacency matrix function\n",
    "def get_adj_matr(graph):\n",
    "    \"\"\"\n",
    "    Function to create an adjacency matrix representation of a graph.\n",
    "    arg:\n",
    "        graph - (dict) of 'nodes' : [], 'edges' : []\n",
    "    returns:\n",
    "        pd.DataFrame with entry i,j representing an edge from node i to node j\n",
    "    \"\"\"\n",
    "    n = len(graph['nodes'])\n",
    "    adj_matr = pd.DataFrame(0, columns = graph['nodes'], index = graph['nodes'])\n",
    "    ############### YOUR CODE HERE ##################\n",
    "    # Parse the 'edges' list in 'graph' and add 1 to the corresponding cell in\n",
    "    # 'adj_matr'.\n",
    "    for (row, col) in graph['edges']:\n",
    "        adj_matr[col][row]+=1\n",
    "    ############### (END) YOUR CODE #################\n",
    "    return adj_matr"
   ]
  },
  {
   "cell_type": "code",
   "execution_count": 10,
   "metadata": {},
   "outputs": [
    {
     "name": "stdout",
     "output_type": "stream",
     "text": [
      "   A  B  C  D  E\n",
      "A  0  1  0  1  0\n",
      "B  0  0  1  0  1\n",
      "C  0  0  0  1  0\n",
      "D  0  0  0  0  1\n",
      "E  1  1  1  0  0\n"
     ]
    }
   ],
   "source": [
    "# part c - take a look (RUN THIS CELL AS IS)\n",
    "TOY_ADJ_MATR = get_adj_matr(TOY_GRAPH)\n",
    "print(TOY_ADJ_MATR)"
   ]
  },
  {
   "cell_type": "code",
   "execution_count": 11,
   "metadata": {},
   "outputs": [],
   "source": [
    "# part d - adjacency list function\n",
    "def get_adj_list(graph):\n",
    "    \"\"\"\n",
    "    Function to create an adjacency list representation of a graph.\n",
    "    arg:\n",
    "        graph - (dict) of 'nodes' : [], 'edges' : []\n",
    "    returns:\n",
    "        dictionary of the form {node : [list of edges]}\n",
    "    \"\"\"\n",
    "    adj_list = {node: [] for node in graph['nodes']}\n",
    "    ############### YOUR CODE HERE ##################\n",
    "    # Parse the 'edges' list in 'graph' and append the neighboring \n",
    "    # node to the corresponding node in 'adj_list.' \n",
    "    for adj_pair in graph['edges']:\n",
    "        adj_list[adj_pair[0]].append(adj_pair[1])\n",
    "    \n",
    "    ############### (END) YOUR CODE #################\n",
    "    return adj_list"
   ]
  },
  {
   "cell_type": "code",
   "execution_count": 12,
   "metadata": {},
   "outputs": [
    {
     "name": "stdout",
     "output_type": "stream",
     "text": [
      "{'A': ['B', 'D'], 'B': ['C', 'E'], 'C': ['D'], 'D': ['E'], 'E': ['A', 'B', 'C']}\n"
     ]
    }
   ],
   "source": [
    "# part d - take a look (RUN THIS CELL AS IS)\n",
    "TOY_ADJ_LIST = get_adj_list(TOY_GRAPH)\n",
    "print(TOY_ADJ_LIST)"
   ]
  },
  {
   "cell_type": "markdown",
   "metadata": {},
   "source": [
    "# Question 3: Markov Chains and Random Walks\n",
    "\n",
    "As you know from your readings and in class discussions, the PageRank algorithm takes advantage of the machinery of Markov Chains to compute the relative importance of a webpage using the hyperlink structure of the web (we'll refer to this as the 'web-graph'). A Markov Chain is a discrete-time stochastic process. The stochastic matrix has a principal left eigen vector corresponding to its largest eigen value which is one. A Markov chain's probability distribution over its states may be viewed as a probability vector. This steady state probability for a state is the PageRank of the corresponding webpage. In this question we'll briefly discuss a few concepts that are key to understanding the math behind PageRank. \n",
    "\n",
    "### Q3 Tasks:\n",
    "\n",
    "* __a) short response:__ It is common to explain PageRank using the analogy of a web surfer who clicks on links at random ad infinitum. In the context of this hypothetical infinite random walk, what does the PageRank metric measure/represent?\n",
    "\n",
    "* __b) short response:__ What is the \"Markov Property\" and what does it mean in the context of PageRank?\n",
    "\n",
    "* __c) short response:__ A Markov chain consists of $n$ states plus an $n\\times n$ transition probability matrix. In the context of PageRank & a random walk over the WebGraph what are the $n$ states? what implications does this have about the size of the transition matrix?\n",
    "\n",
    "* __d) code + short response:__ What is a \"right stochastic matrix\"? Fill in the code below to compute the transition matrix for the toy graph from question 2. [__`HINT:`__ _It should be right stochastic. Using numpy this calculation can be done in one line of code._]\n",
    "\n",
    "* __e) code + short response:__ To compute the stable state distribution (i.e. PageRank) of a \"nice\" graph we can apply the power iteration method - repeatedly multiplying the transition matrix by itself, until the values no longer change. Apply this strategy to your transition matrix from `part d` to find the PageRank for each of the pages in your toy graph. Your code should print the results of each iteration. How many iterations does it take to converge? Which node is most 'central' (i.e. highest ranked)? Does this match your intuition? \n",
    "    * __`NOTE 1:`__ _this is a naive approach, we'll unpack what it means to be \"nice\" in the next question_.\n",
    "    * __`NOTE 2:`__ _no need to implement a stopping criteria, visual inspection should suffice_."
   ]
  },
  {
   "cell_type": "markdown",
   "metadata": {},
   "source": [
    "### Q3 Student Answers:\n",
    "> __a)__ Type your answer here!\n",
    "\n",
    "> __b)__ Type your answer here!\n",
    "\n",
    "> __c)__ Type your answer here! \n",
    "\n",
    "> __d)__ Type your answer here!\n",
    "\n",
    "> __e)__ Type your answer here! "
   ]
  },
  {
   "cell_type": "code",
   "execution_count": 13,
   "metadata": {},
   "outputs": [
    {
     "data": {
      "text/html": [
       "<div>\n",
       "<style scoped>\n",
       "    .dataframe tbody tr th:only-of-type {\n",
       "        vertical-align: middle;\n",
       "    }\n",
       "\n",
       "    .dataframe tbody tr th {\n",
       "        vertical-align: top;\n",
       "    }\n",
       "\n",
       "    .dataframe thead th {\n",
       "        text-align: right;\n",
       "    }\n",
       "</style>\n",
       "<table border=\"1\" class=\"dataframe\">\n",
       "  <thead>\n",
       "    <tr style=\"text-align: right;\">\n",
       "      <th></th>\n",
       "      <th>A</th>\n",
       "      <th>B</th>\n",
       "      <th>C</th>\n",
       "      <th>D</th>\n",
       "      <th>E</th>\n",
       "    </tr>\n",
       "  </thead>\n",
       "  <tbody>\n",
       "    <tr>\n",
       "      <th>A</th>\n",
       "      <td>0</td>\n",
       "      <td>1</td>\n",
       "      <td>0</td>\n",
       "      <td>1</td>\n",
       "      <td>0</td>\n",
       "    </tr>\n",
       "    <tr>\n",
       "      <th>B</th>\n",
       "      <td>0</td>\n",
       "      <td>0</td>\n",
       "      <td>1</td>\n",
       "      <td>0</td>\n",
       "      <td>1</td>\n",
       "    </tr>\n",
       "    <tr>\n",
       "      <th>C</th>\n",
       "      <td>0</td>\n",
       "      <td>0</td>\n",
       "      <td>0</td>\n",
       "      <td>1</td>\n",
       "      <td>0</td>\n",
       "    </tr>\n",
       "    <tr>\n",
       "      <th>D</th>\n",
       "      <td>0</td>\n",
       "      <td>0</td>\n",
       "      <td>0</td>\n",
       "      <td>0</td>\n",
       "      <td>1</td>\n",
       "    </tr>\n",
       "    <tr>\n",
       "      <th>E</th>\n",
       "      <td>1</td>\n",
       "      <td>1</td>\n",
       "      <td>1</td>\n",
       "      <td>0</td>\n",
       "      <td>0</td>\n",
       "    </tr>\n",
       "  </tbody>\n",
       "</table>\n",
       "</div>"
      ],
      "text/plain": [
       "   A  B  C  D  E\n",
       "A  0  1  0  1  0\n",
       "B  0  0  1  0  1\n",
       "C  0  0  0  1  0\n",
       "D  0  0  0  0  1\n",
       "E  1  1  1  0  0"
      ]
     },
     "execution_count": 13,
     "metadata": {},
     "output_type": "execute_result"
    }
   ],
   "source": [
    "# part d - recall what the adjacency matrix looked like (RUN THIS CELL AS IS)\n",
    "TOY_ADJ_MATR"
   ]
  },
  {
   "cell_type": "code",
   "execution_count": 14,
   "metadata": {},
   "outputs": [
    {
     "name": "stdout",
     "output_type": "stream",
     "text": [
      "          A         B         C    D    E\n",
      "A  0.000000  0.500000  0.000000  0.5  0.0\n",
      "B  0.000000  0.000000  0.500000  0.0  0.5\n",
      "C  0.000000  0.000000  0.000000  1.0  0.0\n",
      "D  0.000000  0.000000  0.000000  0.0  1.0\n",
      "E  0.333333  0.333333  0.333333  0.0  0.0\n"
     ]
    }
   ],
   "source": [
    "# part d - use TOY_ADJ_MATR to create a right stochastic transition matrix for this graph\n",
    "################ YOUR CODE HERE #################\n",
    "#transition_matrix = pd.DataFrame(0, columns = TOY_ADJ_MATR.columns, index = TOY_ADJ_MATR.index)\n",
    "row_total = TOY_ADJ_MATR.sum(axis=1)\n",
    "transition_matrix = (TOY_ADJ_MATR.T/row_total).T\n",
    "\n",
    "################ (END) YOUR CODE #################\n",
    "print(transition_matrix)"
   ]
  },
  {
   "cell_type": "code",
   "execution_count": 15,
   "metadata": {},
   "outputs": [],
   "source": [
    "# part e - compute the steady state using the transition matrix \n",
    "def power_iteration(xInit, tMatrix, nIter, verbose = True):\n",
    "    \"\"\"\n",
    "    Function to perform the specified number of power iteration steps to \n",
    "    compute the steady state probability distribution for the given\n",
    "    transition matrix.\n",
    "    \n",
    "    Args:\n",
    "        xInit     - (n x 1 array) representing inial state\n",
    "        tMatrix  - (n x n array) transition probabilities\n",
    "        nIter     - (int) number of iterations\n",
    "    Returns:\n",
    "        state_vector - (n x 1 array) representing probability \n",
    "                        distribution over states after nSteps.\n",
    "    \n",
    "    NOTE: if the 'verbose' flag is on, your function should print the step\n",
    "    number and the current matrix at each iteration.\n",
    "    \"\"\"\n",
    "    state_vector = None\n",
    "    ################ YOUR CODE HERE #################\n",
    "\n",
    "    state_vector = xInit\n",
    "    for ix in range(nIter):    \n",
    "        new_state_vector = tMatrix.T.dot(state_vector)\n",
    "  \n",
    "        if np.allclose(new_state_vector, state_vector):\n",
    "            print(f'Step {ix}: \\n{state_vector}')\n",
    "            break\n",
    "        else: \n",
    "            state_vector = new_state_vector\n",
    "            if verbose:\n",
    "                print(f'Step {ix}: \\n{state_vector}') \n",
    "    \n",
    "    ################ (END) YOUR CODE #################\n",
    "    return state_vector"
   ]
  },
  {
   "cell_type": "code",
   "execution_count": 16,
   "metadata": {},
   "outputs": [
    {
     "name": "stdout",
     "output_type": "stream",
     "text": [
      "Step 0: \n",
      "A    0.0\n",
      "B    0.5\n",
      "C    0.0\n",
      "D    0.5\n",
      "E    0.0\n",
      "dtype: float64\n",
      "Step 1: \n",
      "A    0.00\n",
      "B    0.00\n",
      "C    0.25\n",
      "D    0.00\n",
      "E    0.75\n",
      "dtype: float64\n",
      "Step 2: \n",
      "A    0.25\n",
      "B    0.25\n",
      "C    0.25\n",
      "D    0.25\n",
      "E    0.00\n",
      "dtype: float64\n",
      "Step 3: \n",
      "A    0.000\n",
      "B    0.125\n",
      "C    0.125\n",
      "D    0.375\n",
      "E    0.375\n",
      "dtype: float64\n",
      "Step 4: \n",
      "A    0.1250\n",
      "B    0.1250\n",
      "C    0.1875\n",
      "D    0.1250\n",
      "E    0.4375\n",
      "dtype: float64\n",
      "Step 5: \n",
      "A    0.145833\n",
      "B    0.208333\n",
      "C    0.208333\n",
      "D    0.250000\n",
      "E    0.187500\n",
      "dtype: float64\n",
      "Step 6: \n",
      "A    0.062500\n",
      "B    0.135417\n",
      "C    0.166667\n",
      "D    0.281250\n",
      "E    0.354167\n",
      "dtype: float64\n",
      "Step 7: \n",
      "A    0.118056\n",
      "B    0.149306\n",
      "C    0.185764\n",
      "D    0.197917\n",
      "E    0.348958\n",
      "dtype: float64\n",
      "Step 8: \n",
      "A    0.116319\n",
      "B    0.175347\n",
      "C    0.190972\n",
      "D    0.244792\n",
      "E    0.272569\n",
      "dtype: float64\n",
      "Step 9: \n",
      "A    0.090856\n",
      "B    0.149016\n",
      "C    0.178530\n",
      "D    0.249132\n",
      "E    0.332465\n",
      "dtype: float64\n",
      "Step 10: \n",
      "A    0.110822\n",
      "B    0.156250\n",
      "C    0.185330\n",
      "D    0.223958\n",
      "E    0.323640\n",
      "dtype: float64\n",
      "Step 11: \n",
      "A    0.107880\n",
      "B    0.163291\n",
      "C    0.186005\n",
      "D    0.240741\n",
      "E    0.302083\n",
      "dtype: float64\n",
      "Step 12: \n",
      "A    0.100694\n",
      "B    0.154634\n",
      "C    0.182340\n",
      "D    0.239945\n",
      "E    0.322386\n",
      "dtype: float64\n",
      "Step 13: \n",
      "A    0.107462\n",
      "B    0.157809\n",
      "C    0.184779\n",
      "D    0.232687\n",
      "E    0.317262\n",
      "dtype: float64\n",
      "Step 14: \n",
      "A    0.105754\n",
      "B    0.159485\n",
      "C    0.184659\n",
      "D    0.238510\n",
      "E    0.311592\n",
      "dtype: float64\n",
      "Step 15: \n",
      "A    0.103864\n",
      "B    0.156741\n",
      "C    0.183606\n",
      "D    0.237536\n",
      "E    0.318253\n",
      "dtype: float64\n",
      "Step 16: \n",
      "A    0.106084\n",
      "B    0.158016\n",
      "C    0.184455\n",
      "D    0.235538\n",
      "E    0.315906\n",
      "dtype: float64\n",
      "Step 17: \n",
      "A    0.105302\n",
      "B    0.158344\n",
      "C    0.184310\n",
      "D    0.237497\n",
      "E    0.314547\n",
      "dtype: float64\n",
      "Step 18: \n",
      "A    0.104849\n",
      "B    0.157500\n",
      "C    0.184021\n",
      "D    0.236961\n",
      "E    0.316669\n",
      "dtype: float64\n",
      "Step 19: \n",
      "A    0.105556\n",
      "B    0.157981\n",
      "C    0.184306\n",
      "D    0.236445\n",
      "E    0.315711\n",
      "dtype: float64\n",
      "Step 20: \n",
      "A    0.105237\n",
      "B    0.158015\n",
      "C    0.184227\n",
      "D    0.237084\n",
      "E    0.315436\n",
      "dtype: float64\n",
      "Step 21: \n",
      "A    0.105145\n",
      "B    0.157764\n",
      "C    0.184153\n",
      "D    0.236846\n",
      "E    0.316092\n",
      "dtype: float64\n",
      "Step 22: \n",
      "A    0.105364\n",
      "B    0.157937\n",
      "C    0.184246\n",
      "D    0.236726\n",
      "E    0.315728\n",
      "dtype: float64\n",
      "Step 23: \n",
      "A    0.105243\n",
      "B    0.157925\n",
      "C    0.184211\n",
      "D    0.236928\n",
      "E    0.315694\n",
      "dtype: float64\n",
      "Step 24: \n",
      "A    0.105231\n",
      "B    0.157853\n",
      "C    0.184194\n",
      "D    0.236832\n",
      "E    0.315890\n",
      "dtype: float64\n",
      "Step 25: \n",
      "A    0.105297\n",
      "B    0.157912\n",
      "C    0.184223\n",
      "D    0.236809\n",
      "E    0.315759\n",
      "dtype: float64\n",
      "Step 26: \n",
      "A    0.105253\n",
      "B    0.157901\n",
      "C    0.184209\n",
      "D    0.236871\n",
      "E    0.315765\n",
      "dtype: float64\n",
      "Step 27: \n",
      "A    0.105255\n",
      "B    0.157882\n",
      "C    0.184206\n",
      "D    0.236835\n",
      "E    0.315822\n",
      "dtype: float64\n",
      "Step 28: \n",
      "A    0.105274\n",
      "B    0.157902\n",
      "C    0.184215\n",
      "D    0.236833\n",
      "E    0.315776\n",
      "dtype: float64\n",
      "Step 29: \n",
      "A    0.105259\n",
      "B    0.157896\n",
      "C    0.184210\n",
      "D    0.236852\n",
      "E    0.315784\n",
      "dtype: float64\n",
      "Step 30: \n",
      "A    0.105261\n",
      "B    0.157891\n",
      "C    0.184209\n",
      "D    0.236839\n",
      "E    0.315800\n",
      "dtype: float64\n",
      "Step 31: \n",
      "A    0.105267\n",
      "B    0.157897\n",
      "C    0.184212\n",
      "D    0.236840\n",
      "E    0.315784\n",
      "dtype: float64\n",
      "Step 32: \n",
      "A    0.105261\n",
      "B    0.157895\n",
      "C    0.184210\n",
      "D    0.236845\n",
      "E    0.315789\n",
      "dtype: float64\n",
      "Step 33: \n",
      "A    0.105263\n",
      "B    0.157894\n",
      "C    0.184210\n",
      "D    0.236841\n",
      "E    0.315793\n",
      "dtype: float64\n",
      "Step 34: \n",
      "A    0.105264\n",
      "B    0.157896\n",
      "C    0.184211\n",
      "D    0.236842\n",
      "E    0.315788\n",
      "dtype: float64\n",
      "Step 35: \n",
      "A    0.105263\n",
      "B    0.157895\n",
      "C    0.184210\n",
      "D    0.236843\n",
      "E    0.315789\n",
      "dtype: float64\n",
      "Step 36: \n",
      "A    0.105263\n",
      "B    0.157895\n",
      "C    0.184210\n",
      "D    0.236843\n",
      "E    0.315789\n",
      "dtype: float64\n"
     ]
    }
   ],
   "source": [
    "# part e - run 10 steps of the power_iteration (RUN THIS CELL AS IS)\n",
    "xInit = np.array([1.0, 0, 0, 0, 0]) # note that this initial state will not affect the convergence states\n",
    "states = power_iteration(xInit, transition_matrix, 50, verbose = True)"
   ]
  },
  {
   "cell_type": "markdown",
   "metadata": {},
   "source": [
    "__`Expected Output for part e:`__  \n",
    ">Steady State Probabilities:\n",
    "```\n",
    "Node A: 0.10526316  \n",
    "Node B: 0.15789474  \n",
    "Node C: 0.18421053  \n",
    "Node D: 0.23684211  \n",
    "Node E: 0.31578947  \n",
    "```"
   ]
  },
  {
   "cell_type": "markdown",
   "metadata": {},
   "source": [
    "# Question 4: Page Rank Theory\n",
    "\n",
    "Seems easy right? Unfortunately applying this power iteration method directly to the web-graph actually runs into a few problems. In this question we'll tease apart what we meant by a 'nice graph' in Question 3 and highlight key modifications we'll have to make to the web-graph when performing PageRank. To start, we'll look at what goes wrong when we try to repeat our strategy from question 3 on a 'not nice' graph.\n",
    "\n",
    "__`Additional References:`__ http://pi.math.cornell.edu/~mec/Winter2009/RalucaRemus/Lecture3/lecture3.html\n",
    "\n",
    "### Q4 Tasks:\n",
    "\n",
    "* __a) code + short response:__ Run the provided code to create and plot our 'not nice' graph. Fill in the missing code to compute its transition matrix & run the power iteration method from question 3. What is wrong with what you see? [__`HINT:`__ _there is a visible underlying reason that it isn't converging... try adding up the probabilities in the state vector after each iteration._]\n",
    "\n",
    "* __b) short response:__  Identify the dangling node in this 'not nice' graph and explain how this node causes the problem you described in 'a'. How could we modify the transition matrix after each iteration to prevent this problem?\n",
    "\n",
    "* __c) short response:__ What does it mean for a graph to be irreducible? Is the webgraph naturally irreducible? Explain your reasoning briefly.\n",
    "\n",
    "* __d) short response:__ What does it mean for a graph to be aperiodic? Is the webgraph naturally aperiodic? Explain your reasoning briefly.\n",
    "\n",
    "* __e) short response:__ What modification to the webgraph does PageRank make in order to guarantee aperiodicity and irreducibility? Interpret this modification in terms of our random surfer analogy.\n"
   ]
  },
  {
   "cell_type": "markdown",
   "metadata": {},
   "source": [
    "### Q4 Student Answers:\n",
    "> __a)__ Type your answer here!\n",
    "\n",
    "> __b)__ Type your answer here!\n",
    "\n",
    "> __c)__ Type your answer here!\n",
    "\n",
    "> __d)__ Type your answer here!  \n",
    "\n",
    "> __e)__ Type your answer here!  \n"
   ]
  },
  {
   "cell_type": "code",
   "execution_count": 17,
   "metadata": {},
   "outputs": [],
   "source": [
    "# part a - run this code to create a second toy graph (RUN THIS CELL AS IS)\n",
    "TOY2_GRAPH = {'nodes':['A', 'B', 'C', 'D', 'E'],\n",
    "              'edges':[('A', 'B'), ('A', 'C'), ('A', 'D'), ('B', 'D'), \n",
    "                       ('B', 'E'), ('C', 'A'), ('C', 'E'), ('D', 'B')]}"
   ]
  },
  {
   "cell_type": "code",
   "execution_count": 18,
   "metadata": {},
   "outputs": [
    {
     "data": {
      "image/png": "[encoded data removed]",
      "text/plain": [
       "<Figure size 432x288 with 1 Axes>"
      ]
     },
     "metadata": {},
     "output_type": "display_data"
    }
   ],
   "source": [
    "# part a - simple visualization of our test graph using nx (RUN THIS CELL AS IS)\n",
    "G = nx.DiGraph()\n",
    "G.add_nodes_from(TOY2_GRAPH['nodes'])\n",
    "G.add_edges_from(TOY2_GRAPH['edges'])\n",
    "nx.draw(G, pos=nx.circular_layout(G), with_labels=True, alpha = 0.5)"
   ]
  },
  {
   "cell_type": "code",
   "execution_count": 20,
   "metadata": {},
   "outputs": [
    {
     "name": "stdout",
     "output_type": "stream",
     "text": [
      "     A         B         C         D    E\n",
      "A  0.0  0.333333  0.333333  0.333333  0.0\n",
      "B  0.0  0.000000  0.000000  0.500000  0.5\n",
      "C  0.5  0.000000  0.000000  0.000000  0.5\n",
      "D  0.0  1.000000  0.000000  0.000000  0.0\n",
      "E  0.0  0.000000  0.000000  0.000000  0.0\n",
      "Step 0: \n",
      "A    0.000000\n",
      "B    0.333333\n",
      "C    0.333333\n",
      "D    0.333333\n",
      "E    0.000000\n",
      "dtype: float64\n",
      "Step 1: \n",
      "A    0.166667\n",
      "B    0.333333\n",
      "C    0.000000\n",
      "D    0.166667\n",
      "E    0.333333\n",
      "dtype: float64\n",
      "Step 2: \n",
      "A    0.000000\n",
      "B    0.222222\n",
      "C    0.055556\n",
      "D    0.222222\n",
      "E    0.166667\n",
      "dtype: float64\n",
      "Step 3: \n",
      "A    0.027778\n",
      "B    0.222222\n",
      "C    0.000000\n",
      "D    0.111111\n",
      "E    0.138889\n",
      "dtype: float64\n",
      "Step 4: \n",
      "A    0.000000\n",
      "B    0.120370\n",
      "C    0.009259\n",
      "D    0.120370\n",
      "E    0.111111\n",
      "dtype: float64\n",
      "Step 5: \n",
      "A    0.004630\n",
      "B    0.120370\n",
      "C    0.000000\n",
      "D    0.060185\n",
      "E    0.064815\n",
      "dtype: float64\n",
      "Step 6: \n",
      "A    0.000000\n",
      "B    0.061728\n",
      "C    0.001543\n",
      "D    0.061728\n",
      "E    0.060185\n",
      "dtype: float64\n",
      "Step 7: \n",
      "A    0.000772\n",
      "B    0.061728\n",
      "C    0.000000\n",
      "D    0.030864\n",
      "E    0.031636\n",
      "dtype: float64\n",
      "Step 8: \n",
      "A    0.000000\n",
      "B    0.031121\n",
      "C    0.000257\n",
      "D    0.031121\n",
      "E    0.030864\n",
      "dtype: float64\n",
      "Step 9: \n",
      "A    0.000129\n",
      "B    0.031121\n",
      "C    0.000000\n",
      "D    0.015561\n",
      "E    0.015689\n",
      "dtype: float64\n"
     ]
    }
   ],
   "source": [
    "# part a - run 10 steps of the power iteration method here\n",
    "# HINT: feel free to use the functions get_adj_matr() and power_iteration() you wrote above\n",
    "################ YOUR CODE HERE #################\n",
    "\n",
    "TOY2_ADJ_MATR = get_adj_matr(TOY2_GRAPH)\n",
    "\n",
    "t_matrix2 = pd.DataFrame(0, columns = TOY2_ADJ_MATR.columns, index = TOY2_ADJ_MATR.index)\n",
    "row_total = TOY2_ADJ_MATR.sum(axis=1)\n",
    "for i in range(TOY_ADJ_MATR.shape[0]):\n",
    "    if row_total[i]==0: t_matrix2[i:i+1]\n",
    "    else:\n",
    "        t_matrix2[i:i+1] = TOY2_ADJ_MATR[i:i+1]/row_total[i]\n",
    "\n",
    "print(t_matrix2)\n",
    "\n",
    "xInit = np.array([1.0, 0, 0, 0, 0]) # note that this initial state will not affect the convergence states\n",
    "states = power_iteration(xInit, t_matrix2, 10, verbose = True)\n",
    "\n",
    "################ (END) YOUR CODE #################"
   ]
  },
  {
   "cell_type": "markdown",
   "metadata": {},
   "source": [
    "# About the Data\n",
    "The main dataset for this data consists of a subset of a 500GB dataset released by AWS in 2009. The data includes the source and metadata for all of the Wikimedia wikis. You can read more here: \n",
    "> https://aws.amazon.com/blogs/aws/new-public-data-set-wikipedia-xml-data. \n",
    "\n",
    "As in previous homeworks we'll be using a 2GB subset of this data, which is available to you in this dropbox folder: \n",
    "> https://www.dropbox.com/sh/2c0k5adwz36lkcw/AAAAKsjQfF9uHfv-X9mCqr9wa?dl=0. \n",
    "\n",
    "Use the cells below to download the wikipedia data and a test file for use in developing your PageRank implementation(note that we'll use the 'indexed out' version of the graph) and to take a look at the files.\n",
    "\n",
    "__IMPORTANT NOTE:__ For Question 8, when working with the full dataset, you will need to submit a .py script to the cluster. Please follow the instructions provided and Office Hour recordings, if you need help with this. "
   ]
  },
  {
   "cell_type": "code",
   "execution_count": 9,
   "metadata": {},
   "outputs": [],
   "source": [
    "# create a data directory (RUN THIS CELL AS IS)\n",
    "!mkdir data"
   ]
  },
  {
   "cell_type": "code",
   "execution_count": 10,
   "metadata": {},
   "outputs": [],
   "source": [
    "# download the test data set (RUN THIS CELL AS IS)\n",
    "!wget -q -O data/test_graph.txt https://www.dropbox.com/sh/2c0k5adwz36lkcw/AACf_33TeM7rKfEhjEoNmMCaa/PageRank-test_indexed.txt?dl=0"
   ]
  },
  {
   "cell_type": "code",
   "execution_count": 11,
   "metadata": {},
   "outputs": [
    {
     "name": "stdout",
     "output_type": "stream",
     "text": [
      "2\t{'3': 1}\n",
      "3\t{'2': 1}\n",
      "4\t{'1': 1, '2': 1}\n",
      "5\t{'4': 1, '2': 1, '6': 1}\n",
      "6\t{'2': 1, '5': 1}\n",
      "7\t{'2': 1, '5': 1}\n",
      "8\t{'2': 1, '5': 1}\n",
      "9\t{'2': 1, '5': 1}\n",
      "10\t{'5': 1}\n",
      "11\t{'5': 1}\n"
     ]
    }
   ],
   "source": [
    "# take a look (RUN THIS CELL AS IS)\n",
    "!cat data/test_graph.txt"
   ]
  },
  {
   "cell_type": "code",
   "execution_count": 12,
   "metadata": {},
   "outputs": [
    {
     "name": "stdout",
     "output_type": "stream",
     "text": [
      "^C\n"
     ]
    }
   ],
   "source": [
    "# download the main data set - this may take a little time (RUN THIS CELL AS IS)\n",
    "!wget -q -O data/wiki_graph.txt https://www.dropbox.com/sh/2c0k5adwz36lkcw/AAAD7I_6kQlJtDpXZPhCfVH-a/wikipedia/all-pages-indexed-out.txt?dl=0"
   ]
  },
  {
   "cell_type": "code",
   "execution_count": 13,
   "metadata": {},
   "outputs": [
    {
     "name": "stdout",
     "output_type": "stream",
     "text": [
      "73\t{'14417532': 1}\n",
      "299\t{'4214575': 1}\n",
      "2552\t{'15043376': 1, '13430968': 1, '13451035': 1, '7263397': 1, '13001625': 1, '13443575': 1, '13451269': 1, '13432316': 1, '11623371': 1, '15028971': 1, '13425865': 1, '15042703': 1, '5051368': 1, '9854998': 2, '13442976': 1, '13315025': 1, '2992307': 1, '1054486': 1, '1322325': 1, '13450983': 1}\n",
      "2570\t{'983991': 1}\n",
      "2616\t{'9045350': 1}\n",
      "2711\t{'752887': 1}\n",
      "2818\t{'3534183': 1}\n",
      "2847\t{'3797918': 1}\n",
      "2892\t{'2893': 1}\n",
      "2921\t{'5158607': 1, '6007184': 1, '14773825': 1, '11777840': 2, '9285165': 1, '6420484': 1, '14670682': 1, '7316613': 1, '7125893': 1, '14965920': 1, '14229952': 1, '9447742': 2, '1425342': 1, '11390944': 2, '5141': 1, '14928135': 2, '13636570': 3, '14687433': 1, '15105458': 1, '11656072': 1, '6420027': 1, '10898196': 1, '6416278': 1, '11497740': 2}\n"
     ]
    }
   ],
   "source": [
    "# take a look (RUN THIS CELL AS IS)\n",
    "!head data/wiki_graph.txt"
   ]
  },
  {
   "cell_type": "code",
   "execution_count": null,
   "metadata": {},
   "outputs": [],
   "source": [
    "# download the indexes (RUN THIS CELL AS IS)\n",
    "!wget -q -O data/indices.txt https://www.dropbox.com/sh/2c0k5adwz36lkcw/AADSYhyRXbgebRDy6ALl6O1ca/wikipedia/indices.txt?dl=0"
   ]
  },
  {
   "cell_type": "code",
   "execution_count": 15,
   "metadata": {},
   "outputs": [
    {
     "name": "stdout",
     "output_type": "stream",
     "text": [
      "! $var = &quot;&quot;\t1\t1\t0\n",
      "! (CONFIG.SYS directive)\t2\t1\t1\n",
      "! (album)\t3\t12\t17\n",
      "! (disambiguation)\t4\t1\t20\n",
      "! -attention-\t5\t1\t0\n",
      "! Time Zone\t6\t1\t0\n",
      "!! (chess)\t7\t0\t1\n",
      "!! (disambiguation)\t8\t3\t0\n",
      "!!! (Chk Chk Chk)\t9\t1\t0\n",
      "!!! (album)\t10\t5\t15\n"
     ]
    }
   ],
   "source": [
    "# take a look (RUN THIS CELL AS IS)\n",
    "!head data/indices.txt"
   ]
  },
  {
   "cell_type": "code",
   "execution_count": 21,
   "metadata": {},
   "outputs": [],
   "source": [
    "# load the data into Spark RDDs for convenience of use later (RUN THIS CELL AS IS)\n",
    "testRDD = sc.textFile('data/test_graph.txt')\n",
    "indexRDD = sc.textFile('data/indices.txt')\n",
    "wikiRDD = sc.textFile('data/wiki_graph.txt')"
   ]
  },
  {
   "cell_type": "markdown",
   "metadata": {},
   "source": [
    "# Question 5: EDA part 1 (number of nodes)\n",
    "\n",
    "As usual, before we dive in to the main analysis, we'll peform some exploratory data anlysis to understand our dataset. Please use the test graph that you downloaded to test all your code before running the full dataset.\n",
    "\n",
    "### Q5 Tasks:\n",
    "* __a) short response:__ In what format is the raw data? What does the first value represent? What does the second part of each line represent? [__`HINT:`__ _no need to go digging here, just visually inspect the outputs of the head commands that we ran after loading the data above._]\n",
    "\n",
    "* __b) code + short response:__ Run the provided bash command to count the number of records in the raw dataset. Explain why this is _not_ the same as the number of total nodes in the graph.\n",
    "\n",
    "* __c) code:__ In the space provided below write a Spark job to count the _total number_ of nodes in this graph. \n",
    "\n",
    "* __d) short response:__ How many dangling nodes are there in this wikipedia graph? [__`HINT:`__ _you should not need any code to answer this question._]"
   ]
  },
  {
   "cell_type": "markdown",
   "metadata": {},
   "source": [
    "### Q5 Student Answers:\n",
    "> __a)__ The format of the raw data is an adjacency list. All nodes are represented as unique numbers. The first value is the numerical node label. The second part of each line is the list of neighboring nodes and the weight of the edges. \n",
    "\n",
    "> __b)__ The number of records in the raw dataset is the number of entries in the adjacency list. It is not the same as the number of total nodes because the adjacency list only includes nodes that have out edges to neighbors. Nodes without out edges (dangling nodes) will not show up in the adjacency list but these dangling nodes should count toward the total number of nodes.\n",
    "\n",
    "> __d)__ The number of dangling nodes is the difference between the total number of nodes and the total number of lines in the adjacency list, which is 15,192,277 - 5,781,290 = 9,410,987\n"
   ]
  },
  {
   "cell_type": "code",
   "execution_count": 22,
   "metadata": {},
   "outputs": [
    {
     "name": "stdout",
     "output_type": "stream",
     "text": [
      "5781290 data/wiki_graph.txt\n"
     ]
    }
   ],
   "source": [
    "# part b - count the number of records in the raw data (RUN THIS CELL AS IS)\n",
    "!wc -l data/wiki_graph.txt"
   ]
  },
  {
   "cell_type": "code",
   "execution_count": 23,
   "metadata": {},
   "outputs": [],
   "source": [
    "# part c - write your Spark job here (compute total number of nodes)\n",
    "def count_nodes(dataRDD):\n",
    "    \"\"\"\n",
    "    Spark job to count the total number of nodes.\n",
    "    Returns: integer count \n",
    "    \"\"\"    \n",
    "    ############## YOUR CODE HERE ###############\n",
    "    \n",
    "    def emit_nodes(line):\n",
    "        node, edges = line.split('\\t')\n",
    "        edge_nodes = ast.literal_eval(edges).keys()\n",
    "        yield node\n",
    "        for edge_node in edge_nodes:\n",
    "            yield edge_node\n",
    "            \n",
    "    # Tokenize each line, take the first element (the node label),\n",
    "    # convert the node label to an integer and take the max of \n",
    "    # the node label. \n",
    "    totalCount = dataRDD.flatMap(emit_nodes) \\\n",
    "                        .distinct() \\\n",
    "                        .count()\n",
    "    ############## (END) YOUR CODE ###############   \n",
    "    return totalCount"
   ]
  },
  {
   "cell_type": "code",
   "execution_count": 25,
   "metadata": {},
   "outputs": [
    {
     "name": "stdout",
     "output_type": "stream",
     "text": [
      "... completed job in 0.2612571716308594 seconds.\n",
      "Total Nodes: 11\n"
     ]
    }
   ],
   "source": [
    "# part c - run your counting job on the test file (RUN THIS CELL AS IS)\n",
    "start = time.time()\n",
    "tot = count_nodes(testRDD)\n",
    "print(f'... completed job in {time.time() - start} seconds.')\n",
    "print(f'Total Nodes: {tot}')"
   ]
  },
  {
   "cell_type": "code",
   "execution_count": 26,
   "metadata": {},
   "outputs": [
    {
     "name": "stdout",
     "output_type": "stream",
     "text": [
      "... completed job in 267.9973485469818 seconds.\n",
      "Total Nodes: 15192277\n"
     ]
    }
   ],
   "source": [
    "# part c - run your counting job on the full file (RUN THIS CELL AS IS)\n",
    "start = time.time()\n",
    "tot = count_nodes(wikiRDD)\n",
    "print(f'... completed job in {time.time() - start} seconds.')\n",
    "print(f'Total Nodes: {tot}')"
   ]
  },
  {
   "cell_type": "markdown",
   "metadata": {},
   "source": [
    "# Question 6 - EDA part 2 (out-degree distribution)\n",
    "\n",
    "As you've seen in previous homeworks the computational complexity of an implementation depends not only on the number of records in the original dataset but also on the number of records we create and shuffle in our intermediate representation of the data. The number of intermediate records required to update PageRank is related to the number of edges in the graph. In this question you'll compute the average number of hyperlinks on each page in this data and visualize a distribution for these counts (the out-degree of the nodes). \n",
    "\n",
    "### Q6 Tasks:\n",
    "* __a) code:__ In the space provided below write a Spark job to stream over the data and compute all of the following information:\n",
    " * count the out-degree of each non-dangling node and return the names of the top 10 pages with the most hyperlinks\n",
    " * find the average out-degree for all non-dangling nodes in the graph\n",
    " * take a 1000 point sample of these out-degree counts and plot a histogram of the result. \n",
    " \n",
    " \n",
    "* __b) short response:__ In the context of the PageRank algorithm, how is information about a node's out degree used?\n",
    "\n",
    "* __c) short response:__ What does it mean if a node's out-degree is 0? In PageRank how will we handle these nodes differently than others?\n",
    " \n",
    "__`NOTE:`__ Please observe scalability best practices in the design of your code & comment your work clearly. You will be graded on both the clarity and the design."
   ]
  },
  {
   "cell_type": "markdown",
   "metadata": {},
   "source": [
    "### Q6 Student Answers:\n",
    "\n",
    "> __b)__ The out-degree of a node determines how the probability mass of the page is redistributed to the neighboring nodes. \n",
    "\n",
    "> __c)__ When a node's out-degree is 0, it is considered a dangling node because the probability mass associated with that node has no place to go. We handle this special situation by redistributing the probability mass among all the other nodes instead of the neighboring nodes."
   ]
  },
  {
   "cell_type": "code",
   "execution_count": 27,
   "metadata": {},
   "outputs": [],
   "source": [
    "# part a - write your Spark job here (compute average in-degree, etc)\n",
    "def count_degree(dataRDD, n):\n",
    "    \"\"\"\n",
    "    Function to analyze out-degree of nodes in a a graph.\n",
    "    Returns: \n",
    "        top  - (list of 10 tuples) nodes with most edges\n",
    "        avgDegree - (float) average out-degree for non-dangling nodes\n",
    "        sampledCounts - (list of integers) out-degree for n randomly sampled non-dangling nodes\n",
    "    \"\"\"\n",
    "    # helper func\n",
    "    def parse(line):\n",
    "        node, edges = line.split('\\t')\n",
    "        return (node, ast.literal_eval(edges))\n",
    "    \n",
    "    ############## YOUR CODE HERE ###############\n",
    "\n",
    "    # Tokenize each line \n",
    "    result = dataRDD.map(parse) \\\n",
    "                    .map(lambda x: (x[0], sum(x[1].values()))) \\\n",
    "                    .cache()\n",
    "    \n",
    "    sampledCounts = result.values().takeSample(False, n, 25) \n",
    "      \n",
    "    top = result.takeOrdered(10, key=lambda x: -x[1])\n",
    "    \n",
    "    avgDegree = result.values() \\\n",
    "                      .mean()\n",
    "    \n",
    "    ############## (END) YOUR CODE ###############\n",
    "    \n",
    "    return top, avgDegree, sampledCounts"
   ]
  },
  {
   "cell_type": "code",
   "execution_count": 28,
   "metadata": {},
   "outputs": [
    {
     "name": "stdout",
     "output_type": "stream",
     "text": [
      "... completed job in 0.33927249908447266 seconds\n",
      "Average out-degree:  2.2\n",
      "Top 10 nodes (by out-degree:)\n",
      " [('5', 5), ('6', 3), ('3', 2), ('4', 2), ('7', 2), ('8', 2), ('9', 2), ('11', 2), ('2', 1), ('10', 1)]\n"
     ]
    },
    {
     "data": {
      "image/png": "[encoded data removed]",
      "text/plain": [
       "<Figure size 432x288 with 1 Axes>"
      ]
     },
     "metadata": {},
     "output_type": "display_data"
    }
   ],
   "source": [
    "# part a - run your job on the test file (RUN THIS CELL AS IS)\n",
    "start = time.time()\n",
    "test_results = count_degree(testRDD,10)\n",
    "print(f\"... completed job in {time.time() - start} seconds\")\n",
    "print(\"Average out-degree: \", test_results[1])\n",
    "print(\"Top 10 nodes (by out-degree:)\\n\", test_results[0])\n",
    "plt.hist(test_results[2], bins=10)\n",
    "plt.title(\"Distribution of Out-Degree\")\n",
    "plt.show()"
   ]
  },
  {
   "cell_type": "code",
   "execution_count": 29,
   "metadata": {},
   "outputs": [
    {
     "name": "stdout",
     "output_type": "stream",
     "text": [
      "... completed job in 147.8530740737915 seconds\n",
      "Average out-degree:  32.04181575392335\n",
      "Top 10 nodes (by out-degree:)\n",
      " [('7804599', 9347), ('7858931', 8910), ('11185362', 8837), ('7705822', 8142), ('5760310', 7649), ('7865920', 7608), ('7819767', 7278), ('7883280', 7231), ('13035895', 7126), ('7880980', 6904)]\n"
     ]
    },
    {
     "data": {
      "image/png": "[encoded data removed]",
      "text/plain": [
       "<Figure size 432x288 with 1 Axes>"
      ]
     },
     "metadata": {},
     "output_type": "display_data"
    }
   ],
   "source": [
    "# part a - run your job on the full file (RUN THIS CELL AS IS)\n",
    "start = time.time()\n",
    "full_results = count_degree(wikiRDD,1000)\n",
    "print(f\"... completed job in {time.time() - start} seconds\")\n",
    "print(\"Average out-degree: \", full_results[1])\n",
    "print(\"Top 10 nodes (by out-degree:)\\n\", full_results[0])\n",
    "plt.hist(full_results[2], bins=50)\n",
    "plt.title(\"Distribution of Out-Degree\")\n",
    "plt.show()"
   ]
  },
  {
   "cell_type": "markdown",
   "metadata": {},
   "source": [
    "# Question 7 - PageRank part 1 (Initialize the Graph)\n",
    "\n",
    "One of the challenges of performing distributed graph computation is that you must pass the entire graph structure through each iteration of your algorithm. As usual, we seek to design our computation so that as much work as possible can be done using the contents of a single record. In the case of PageRank, we'll need each record to include a node, its list of neighbors and its (current) rank. In this question you'll initialize the graph by creating a record for each dangling node and by setting the initial rank to 1/N for all nodes. \n",
    "\n",
    "__`NOTE:`__ Your solution should _not_ hard code $N$.\n",
    "\n",
    "### Q7 Tasks:\n",
    "* __a) short response:__ What is $N$? Use the analogy of the infinite random web-surfer to explain why we'll initialize each node's rank to $\\frac{1}{N}$. (i.e. what is the probabilistic interpretation of this choice?)\n",
    "\n",
    "* __b) short response:__ Will it be more efficient to compute $N$ before initializing records for each dangling node or after? Explain your reasoning.\n",
    "\n",
    "* __c) code:__ Fill in the missing code below to create a Spark job that:\n",
    "  * parses each input record\n",
    "  * creates a new record for any dangling nodes and sets it list of neighbors to be an empty set\n",
    "  * initializes a rank of 1/N for each node\n",
    "  * returns a pair RDD with records in the format specified by the docstring\n",
    "\n",
    "\n",
    "* __d) code:__ Run the provided code to confirm that your job in `part a` has a record for each node and that your should records match the format specified in the docstring and the count should match what you computed in question 5. [__`TIP:`__ _you might want to take a moment to write out what the expected output should be fore the test graph, this will help you know your code works as expected_]\n",
    " \n",
    "__`NOTE:`__ Please observe scalability best practices in the design of your code & comment your work clearly. You will be graded on both the clarity and the design."
   ]
  },
  {
   "cell_type": "markdown",
   "metadata": {},
   "source": [
    "### Q7 Student Answers:\n",
    "\n",
    "> __a)__ $N$ is the total number of nodes. Initializing each node's rank to $\\frac{1}{N}$ means we start with equal probabilities for each page. All webpages have equal chance of being visited. \n",
    "\n",
    "> __b)__ It should be more efficient to compute $N$ before initializing records because initialization will be done in parallel by the mappers. We can compute $N$ and broadcast the value so the mappers can access it. Since this computation requires passing through the entire data, it cannot be done inside the mappers. "
   ]
  },
  {
   "cell_type": "code",
   "execution_count": 30,
   "metadata": {},
   "outputs": [],
   "source": [
    "# part c - job to initialize the graph (RUN THIS CELL AS IS)\n",
    "def initGraph(dataRDD):\n",
    "    \"\"\"\n",
    "    Spark job to read in the raw data and initialize an \n",
    "    adjacency list representation with a record for each\n",
    "    node (including dangling nodes).\n",
    "    \n",
    "    Returns: \n",
    "        graphRDD -  a pair RDD of (node_id , (score, edges))\n",
    "        \n",
    "    NOTE: The score should be a float, but you may want to be \n",
    "    strategic about how format the edges... there are a few \n",
    "    options that can work. Make sure that whatever you choose\n",
    "    is sufficient for Question 8 where you'll run PageRank.\n",
    "    \"\"\"\n",
    "    ############## YOUR CODE HERE ###############\n",
    "\n",
    "    # write any helper functions here\n",
    "    \n",
    "    # Tokenize each line and emit a pair RDD in the \n",
    "    # (node_id , edges) format for all nodes\n",
    "    # including: 1) nodes with real edges, 2) dangling nodes\n",
    "    # where the 'edges' list is set to the empty dict {}. \n",
    "    def emit_nodes(line):\n",
    "        node, edges = line.split('\\t')\n",
    "        edge_nodes = ast.literal_eval(edges)\n",
    "        all_edges = ''\n",
    "        for edge_node in edge_nodes.keys():\n",
    "            weight=edge_nodes[edge_node]\n",
    "           # all_edges=all_edges+','+edge_node+','*(weight-1)+edge_node*(weight-1)\n",
    "            yield (edge_node, '')\n",
    "            yield (node, edge_node+(','+edge_node)*(weight-1) )\n",
    "      #  yield (node, all_edges)\n",
    "\n",
    "    def combineEdges(x, y):\n",
    "        if x=='': return y\n",
    "        elif y=='': return x\n",
    "        else: return x+','+y\n",
    "\n",
    "    # write your main Spark code here\n",
    "    \n",
    "    # For all nodes in the data, emit (node_id , edges).\n",
    "    # Use 'reduceByKey' to take out duplicates and cache \n",
    "    # this 'tempRDD'.\n",
    "    tempRDD = dataRDD.flatMap(emit_nodes) \\\n",
    "                     .reduceByKey(combineEdges) \\\n",
    "                     .cache()\n",
    "    \n",
    "    # Compute N by calling count() on 'tempRDD' and broadcast \n",
    "    # the value so the mappers can access it.\n",
    "    totalCount = tempRDD.count()    \n",
    "    init_value = sc.broadcast(1/totalCount)\n",
    "    \n",
    "    # Initalize the correct score (1/N) using the newly computed N. \n",
    "    graphRDD = tempRDD.map(lambda line: (line[0], (init_value.value, line[1])))\n",
    "    \n",
    "    ############## (END) YOUR CODE ##############\n",
    "    \n",
    "    return graphRDD "
   ]
  },
  {
   "cell_type": "code",
   "execution_count": 31,
   "metadata": {},
   "outputs": [
    {
     "name": "stdout",
     "output_type": "stream",
     "text": [
      "... test graph initialized in 0.23305034637451172 seconds.\n"
     ]
    },
    {
     "data": {
      "text/plain": [
       "[('1', (0.09090909090909091, '')),\n",
       " ('4', (0.09090909090909091, '1,2')),\n",
       " ('8', (0.09090909090909091, '2,5')),\n",
       " ('9', (0.09090909090909091, '2,5')),\n",
       " ('10', (0.09090909090909091, '5')),\n",
       " ('3', (0.09090909090909091, '2,2')),\n",
       " ('2', (0.09090909090909091, '3')),\n",
       " ('5', (0.09090909090909091, '4,4,4,2,6')),\n",
       " ('6', (0.09090909090909091, '2,5,5')),\n",
       " ('7', (0.09090909090909091, '2,5')),\n",
       " ('11', (0.09090909090909091, '5,5'))]"
      ]
     },
     "execution_count": 31,
     "metadata": {},
     "output_type": "execute_result"
    }
   ],
   "source": [
    "# part c - run your Spark job on the test graph (RUN THIS CELL AS IS)\n",
    "start = time.time()\n",
    "testGraph = initGraph(testRDD).collect()\n",
    "print(f'... test graph initialized in {time.time() - start} seconds.')\n",
    "testGraph"
   ]
  },
  {
   "cell_type": "code",
   "execution_count": 32,
   "metadata": {},
   "outputs": [
    {
     "name": "stdout",
     "output_type": "stream",
     "text": [
      "... full graph initialized in 303.1387240886688 seconds\n"
     ]
    }
   ],
   "source": [
    "# part c - run your code on the main graph (RUN THIS CELL AS IS)\n",
    "start = time.time()\n",
    "wikiGraphRDD = initGraph(wikiRDD)\n",
    "print(f'... full graph initialized in {time.time() - start} seconds')"
   ]
  },
  {
   "cell_type": "code",
   "execution_count": 33,
   "metadata": {},
   "outputs": [
    {
     "name": "stdout",
     "output_type": "stream",
     "text": [
      "Total number of records: 15192277\n",
      "First record: [('11777840', (6.582291778908455e-08, '6127245,5158607,5158607,757856,14772413,14803224,6905109,10666321,10666321,6007184,6007184,12469293,14773825,14773825,9343079,8892083,13077979,9285165,9285165,9285165,9285165,9285165,14978814,6420484,9789784,9789784,9789784,9789784,9789784,14482968,981395,981395,2921,15173803,12617777,7021832,7021832,2335603,14484050,9922389,11023778,2344940,6905766,9447742,9447742,6557458,1425342,9660994,9660994,11390944,11390944,11390944,14261593,14928135,14841606,14841606,14765621,12530354,2335868,13636570,13636570,13636570,13636570,13636570,13636570,2335876,9827642,15105458,9501013,9501013,11101298,9395391,9395391,6416278,15018227,8024321,11656072,11656072,11656072,11656072,11656072,5165182,6420027,7337035,7337035,14712897,14712897,10898196,15161507,535091,5595377,1725688,14183835,1402856,1398329,14670682,14210235,11696376,15087242,14900113,7316613,12071841,12048800,12048800,14624941,5789809,5789809,11497740,11497740'))]\n",
      "... initialization continued: 24.233328342437744 seconds\n"
     ]
    }
   ],
   "source": [
    "# part c - confirm record format and count (RUN THIS CELL AS IS)\n",
    "start = time.time()\n",
    "print(f'Total number of records: {wikiGraphRDD.count()}')\n",
    "print(f'First record: {wikiGraphRDD.take(1)}')\n",
    "print(f'... initialization continued: {time.time() - start} seconds')"
   ]
  },
  {
   "cell_type": "markdown",
   "metadata": {},
   "source": [
    "# Question 8 - PageRank part 2 (Iterate until convergence)\n",
    "\n",
    "Finally we're ready to compute the page rank. In this last question you'll write a Spark job that iterates over the initialized graph updating each nodes score until it reaches a convergence threshold. The diagram below gives a visual overview of the process using a 5 node toy graph. Pay particular attention to what happens to the dangling mass at each iteration.\n",
    "\n",
    "<img src='PR-illustrated.png'>\n",
    "\n",
    "\n",
    "__`A Note about Notation:`__ The formula above describes how to compute the updated page rank for a node in the graph. The $P$ on the left hand side of the equation is the new score, and the $P$ on the right hand side of the equation represents the accumulated mass that was re-distributed from all of that node's in-links. Finally, $|G|$ is the number of nodes in the graph (which we've elsewhere refered to as $N$).\n",
    "\n",
    "### Q8 Tasks:\n",
    "* __a) short response:__ In terms of the infinite random walk analogy, interpret the meaning of the first term in the PageRank calculation: $\\alpha * \\frac{1}{|G|}$\n",
    "\n",
    "* __b) short response:__ In the equation for the PageRank calculation above what does $m$ represent and why do we divide it by $|G|$?\n",
    "\n",
    "* __c) short response:__ Keeping track of the total probability mass after each update is a good way to confirm that your algorithm is on track. How much should the total mass be after each iteration?\n",
    "\n",
    "* __d) code:__ Fill in the missing code below to create a Spark job that take the initialized graph as its input then iterates over the graph and for each pass:\n",
    "  * reads in each record and redistributes the node's current score to each of its neighbors\n",
    "  * uses an accumulator to add up the dangling node mass and redistribute it among all the nodes. (_Don't forget to reset this accumulator after each iteration!_)\n",
    "  * uses an accumulator to keep track of the total mass being redistributed.( _This is just for your own check, its not part of the PageRank calculation. Don't forget to reset this accumulator after each iteration._)\n",
    "  * aggregates these partial scores for each node\n",
    "  * applies telportation and damping factors as described in the formula above.\n",
    "  * combine all of the above to compute the PageRank as described by the formula above.\n",
    "  * \n",
    "  \n",
    "   __WARNING:__ Some pages contain multiple hyperlinks to the same destination, please take this into account when redistributing the mass.\n",
    "\n",
    " \n",
    "__`NOTE:`__ Please observe scalability best practices in the design of your code & comment your work clearly. You will be graded on both the clarity and the design."
   ]
  },
  {
   "cell_type": "markdown",
   "metadata": {},
   "source": [
    "### Q8 Student Answers:\n",
    "\n",
    "> __a)__ Type your answer here!\n",
    "\n",
    "> __b)__ Type your answer here! \n",
    "\n",
    "> __c)__ The total probability mass should always sum to 1 after each iteration."
   ]
  },
  {
   "cell_type": "code",
   "execution_count": 34,
   "metadata": {},
   "outputs": [],
   "source": [
    "# part d - provided FloatAccumulator class (RUN THIS CELL AS IS)\n",
    "\n",
    "from pyspark.accumulators import AccumulatorParam\n",
    "\n",
    "class FloatAccumulatorParam(AccumulatorParam):\n",
    "    \"\"\"\n",
    "    Custom accumulator for use in page rank to keep track of various masses.\n",
    "    \n",
    "    IMPORTANT: accumulators should only be called inside actions to avoid duplication.\n",
    "    We stringly recommend you use the 'foreach' action in your implementation below.\n",
    "    \"\"\"\n",
    "    def zero(self, value):\n",
    "        return value\n",
    "    def addInPlace(self, val1, val2):\n",
    "        return val1 + val2"
   ]
  },
  {
   "cell_type": "code",
   "execution_count": 35,
   "metadata": {},
   "outputs": [],
   "source": [
    "# part d - job to run PageRank (RUN THIS CELL AS IS)\n",
    "def runPageRank(graphInitRDD, alpha = 0.15, maxIter = 10, verbose = True):\n",
    "    \"\"\"\n",
    "    Spark job to implement page rank\n",
    "    Args: \n",
    "        graphInitRDD  - pair RDD of (node_id , (score, edges))\n",
    "        alpha         - (float) teleportation factor\n",
    "        maxIter       - (int) stopping criteria (number of iterations)\n",
    "        verbose       - (bool) option to print logging info after each iteration\n",
    "    Returns:\n",
    "        steadyStateRDD - pair RDD of (node_id, pageRank)\n",
    "    \"\"\"\n",
    "    # teleportation:\n",
    "    a = sc.broadcast(alpha)\n",
    "    \n",
    "    # damping factor:\n",
    "    d = sc.broadcast(1-a.value)\n",
    "    \n",
    "    # initialize accumulators for dangling mass & total mass\n",
    "    mmAccum = sc.accumulator(0.0, FloatAccumulatorParam())\n",
    "    totAccum = sc.accumulator(0.0, FloatAccumulatorParam())\n",
    "    \n",
    "    ############## YOUR CODE HERE ###############\n",
    "    \n",
    "    # write your helper functions here, \n",
    "    # please document the purpose of each clearly \n",
    "    # for reference, the master solution has 5 helper functions.\n",
    "\n",
    "    # Mapper function to emit probability masses for each node's \n",
    "    # neighbors. \n",
    "    def emit_prob_mass(line):\n",
    "        # Parse the line, tokenize each element, and emit the \n",
    "        # original record with 0 rank, (node_id, (0, {neighbors})),\n",
    "        # to preserve the graph structure for the next iteration.\n",
    "        node, (prob, edges) = line        \n",
    "        yield node, (0, edges)        \n",
    "        # For each neighboring node, calculate the probability mass \n",
    "        # being redistributed and emit in the format of (node_id, (score, {})) \n",
    "        # for each neighbor. Initially, I emitted one record per \n",
    "        # edge, so the repeated edges to the same neighbor were emitted \n",
    "        # multiple times. That would flood the stream but could leverage \n",
    "        # Spark's reduceByKey. The implementation below combines the \n",
    "        # repeated edges so fewer records are emitted to the stream, \n",
    "        # but more computation is done in this function. Both implementation \n",
    "        # were tested and combining repeated edges before emitting is slightly \n",
    "        # faster.\n",
    "        if edges != '': \n",
    "            edge_list = edges.split(',')\n",
    "            total_wt = len(edge_list)\n",
    "            current = edge_list[0]\n",
    "            weight=0\n",
    "            # Iterate through the list of edges and emit the combined\n",
    "            # probability once a new neighbor is encountered.  \n",
    "            for i in range(total_wt):\n",
    "                if edge_list[i]==current: \n",
    "                    weight+=1\n",
    "                else:        \n",
    "                    yield current, (prob/total_wt*weight, '')\n",
    "                    weight=1\n",
    "                    current=edge_list[i]\n",
    "            if weight!=0: yield current, (prob/total_wt*weight, '')\n",
    "            \n",
    "    # Increment the accumulators (mmAccum and totAccum).\n",
    "    def inc_accum(line):\n",
    "        node, (rank, edges) = line\n",
    "        totAccum.add(rank)\n",
    "        if edges == '': \n",
    "            mmAccum.add(rank)\n",
    "        \n",
    "    # Computes the new rank by applying the formula.\n",
    "    def update_rank(line):\n",
    "        node, (rank, edges) = line\n",
    "        new_rank = teleport_val.value + d.value*(mmass_per_node.value+rank)\n",
    "        yield node, (new_rank, edges)        \n",
    "        \n",
    "    # Checks convergence given a threshold value broadcasted by the driver.\n",
    "    # This function is not used since it is not required. \n",
    "    def not_converged(RDD_A, RDD_B):\n",
    "        if RDD_A == None or RDD_B == None: \n",
    "            return True\n",
    "        else: \n",
    "            for key in RDD_A.keys().collect():\n",
    "                if np.absolute(RDD_A.lookup(key)[0][0]-RDD_B.lookup(key)[0][0]) > threshold.value:\n",
    "                    return True\n",
    "            return False\n",
    "       \n",
    "    # write your main Spark Job here (including the for loop to iterate)\n",
    "    # for reference, the master solution is 21 lines including comments & whitespace\n",
    "\n",
    "    # Initialize variables before the while loop. 'Iteration' is to keep track \n",
    "    # of the number of iterations so far. 'threshold' is the difference between \n",
    "    # the probabilities that defines convergence, but it was not used.\n",
    "\n",
    "    steadyStateRDD = graphInitRDD\n",
    "    iteration = 0\n",
    "    threshold = sc.broadcast(1e-10) \n",
    "    N = graphInitRDD.count()\n",
    "    # Initialize mmAccum\n",
    "    graphInitRDD.filter(lambda line: line[1][1]=='') \\\n",
    "                .foreach(lambda line: mmAccum.add(line[1][0])) \n",
    "    # The main while loop that keeps iteration going until either achieving\n",
    "    # 'maxIter' or the probabilities of the next state changes less than \n",
    "    # the 'threshold' value. \n",
    "    while (maxIter > iteration):\n",
    "\n",
    "        # Call inc_mmAccum to increment the missing mass and N accumulators.\n",
    "        teleport_val = sc.broadcast(np.divide(a.value,N))\n",
    "        m = mmAccum.value\n",
    "        mmass_per_node = sc.broadcast(np.divide(m,N))#\n",
    "        \n",
    "        # Use mappers to emit probability masses and use reducers to combine\n",
    "        # the probability masses.\n",
    "        steadyStateRDD = steadyStateRDD.flatMap(emit_prob_mass) \\\n",
    "                                       .reduceByKey(lambda x, y: (x[0]+y[0], x[1]+y[1])) \\\n",
    "                                       .flatMap(update_rank)\\\n",
    "                                       .cache()\n",
    "\n",
    "        # Reset mmAccum to zero and then initialize it based on the current\n",
    "        # iteration's values. \n",
    "        mmAccum = sc.accumulator(0.0, FloatAccumulatorParam()) \n",
    "        steadyStateRDD.foreach(inc_accum)\n",
    "        # Compute the teleport portion of the rank and missing mass per node and\n",
    "        # store these as broadcast variables for efficiency. Compute the rank  \n",
    "        # and increment 'totAccum' by each rank to ensure the total rank is 1.\n",
    "\n",
    "        if verbose:\n",
    "            print('--->STEP {}: missing mass = {}, total = {}'.\n",
    "                  format(iteration, m, totAccum.value))\n",
    "       \n",
    "        # Prepare for the next iteration by incrementing 'interation' \n",
    "        # and resetting totAccum.\n",
    "        iteration += 1\n",
    "        totAccum = sc.accumulator(0.0, FloatAccumulatorParam())\n",
    "  \n",
    "    # Make a new RDD with the nodes and probability masses only.\n",
    "    steadyStateRDD = steadyStateRDD.map(lambda line: (line[0], line[1][0]))\n",
    "    ############## (END) YOUR CODE ###############\n",
    "    \n",
    "    return steadyStateRDD"
   ]
  },
  {
   "cell_type": "code",
   "execution_count": 36,
   "metadata": {},
   "outputs": [
    {
     "name": "stdout",
     "output_type": "stream",
     "text": [
      "--->STEP 0: missing mass = 0.09090909090909091, total = 1.0\n",
      "--->STEP 1: missing mass = 0.059297520661157024, total = 0.9999999999999999\n",
      "--->STEP 2: missing mass = 0.046703981968444774, total = 0.9999999999999998\n",
      "--->STEP 3: missing mass = 0.09925338433167132, total = 0.9999999999999998\n",
      "--->STEP 4: missing mass = 0.050342917879662344, total = 0.9999999999999998\n",
      "--->STEP 5: missing mass = 0.051459165449002614, total = 0.9999999999999998\n",
      "--->STEP 6: missing mass = 0.04500922379221685, total = 0.9999999999999998\n",
      "--->STEP 7: missing mass = 0.04715082459390296, total = 0.9999999999999998\n",
      "--->STEP 8: missing mass = 0.04374695430399097, total = 0.9999999999999998\n",
      "--->STEP 9: missing mass = 0.04376323453143378, total = 0.9999999999999997\n",
      "--->STEP 10: missing mass = 0.04298252973766269, total = 0.9999999999999997\n",
      "--->STEP 11: missing mass = 0.043012894839386674, total = 0.9999999999999998\n",
      "--->STEP 12: missing mass = 0.04272340069209819, total = 0.9999999999999998\n",
      "--->STEP 13: missing mass = 0.04269860289957524, total = 0.9999999999999996\n",
      "--->STEP 14: missing mass = 0.04261573341659148, total = 0.9999999999999996\n",
      "--->STEP 15: missing mass = 0.04260513806736247, total = 0.9999999999999996\n",
      "--->STEP 16: missing mass = 0.042577127384672134, total = 0.9999999999999998\n",
      "--->STEP 17: missing mass = 0.042571430656916674, total = 0.9999999999999997\n",
      "--->STEP 18: missing mass = 0.04256262005372209, total = 0.9999999999999994\n",
      "--->STEP 19: missing mass = 0.04256034774246815, total = 0.9999999999999996\n",
      "...trained 20 iterations in 4.922688961029053 seconds.\n",
      "Top 20 ranked nodes:\n"
     ]
    },
    {
     "data": {
      "text/plain": [
       "[('2', 0.3620640495978871),\n",
       " ('3', 0.333992700474142),\n",
       " ('5', 0.08506399429624555),\n",
       " ('4', 0.06030963508473455),\n",
       " ('1', 0.04255740809817991),\n",
       " ('6', 0.03138662354831139),\n",
       " ('8', 0.01692511778009981),\n",
       " ('9', 0.01692511778009981),\n",
       " ('10', 0.01692511778009981),\n",
       " ('7', 0.01692511778009981),\n",
       " ('11', 0.01692511778009981)]"
      ]
     },
     "execution_count": 36,
     "metadata": {},
     "output_type": "execute_result"
    }
   ],
   "source": [
    "# part d - run PageRank on the test graph (RUN THIS CELL AS IS)\n",
    "# NOTE: while developing your code you may want turn on the verbose option\n",
    "nIter = 20\n",
    "testGraphRDD = initGraph(testRDD)\n",
    "start = time.time()\n",
    "test_results = runPageRank(testGraphRDD, alpha = 0.15, maxIter = nIter, verbose = True) ## verbose defaults to f\n",
    "print(f'...trained {nIter} iterations in {time.time() - start} seconds.')\n",
    "print(f'Top 20 ranked nodes:')\n",
    "test_results.takeOrdered(20, key=lambda x: - x[1])"
   ]
  },
  {
   "cell_type": "code",
   "execution_count": 92,
   "metadata": {},
   "outputs": [
    {
     "name": "stdout",
     "output_type": "stream",
     "text": [
      "--->STEP 0: missing mass = 0.030884310495390442, total = 0.7454263361517803\n",
      "--->STEP 1: missing mass = 0.6775816998485823, total = 3.0611840846634633\n",
      "--->STEP 2: missing mass = 2.7820641082609057, total = 10.641775036576405\n",
      "--->STEP 3: missing mass = 9.673542420218373, total = 35.463351131276916\n",
      "--->STEP 4: missing mass = 32.23857814062785, total = 116.73773326174668\n",
      "--->STEP 5: missing mass = 106.1242768192502, total = 382.858046567685\n",
      "--->STEP 6: missing mass = 348.05149587871614, total = 1254.2275877856434\n",
      "--->STEP 7: missing mass = 1140.2045159208885, total = 4107.391511763644\n",
      "--->STEP 8: missing mass = 3733.9862722724374, total = 13449.632652880322\n",
      "--->STEP 9: missing mass = 12226.920881327384, total = 44039.34704161258\n",
      "...trained 10 iterations in 435.4227421283722 seconds.\n",
      "Top 20 ranked nodes:\n"
     ]
    },
    {
     "data": {
      "text/plain": [
       "[('13455888', 3.9886747914384038),\n",
       " ('1184351', 2.5227821503481125),\n",
       " ('1384888', 1.988958433410161),\n",
       " ('4695850', 1.979220044555949),\n",
       " ('6113490', 1.9175752988537302),\n",
       " ('5051368', 1.8249670730431808),\n",
       " ('6076759', 1.4792174197098729),\n",
       " ('7576704', 1.4131929937789713),\n",
       " ('4196067', 1.3424663596243096),\n",
       " ('2437837', 1.2661546116638498),\n",
       " ('9276255', 1.1704690755623812),\n",
       " ('14881689', 1.1451614353712598),\n",
       " ('10527224', 1.1195039658253176),\n",
       " ('5490435', 1.0671734130315953),\n",
       " ('7835160', 1.0466224640728623),\n",
       " ('6237129', 1.0381026779387441),\n",
       " ('15164193', 1.0213363553288484),\n",
       " ('6416278', 1.0073491386857318),\n",
       " ('6172466', 0.952336380928322),\n",
       " ('1516699', 0.9379478756379265)]"
      ]
     },
     "execution_count": 92,
     "metadata": {},
     "output_type": "execute_result"
    }
   ],
   "source": [
    "nIter = 10\n",
    "start = time.time()\n",
    "wiki_sample=wikiGraphRDD.sample(False, 0.05, 25)\n",
    "full_results = runPageRank(wiki_sample, alpha = 0.15, maxIter = nIter, verbose = True)\n",
    "print(f'...trained {nIter} iterations in {time.time() - start} seconds.')\n",
    "print(f'Top 20 ranked nodes:')\n",
    "full_results.takeOrdered(20, key=lambda x: - x[1])"
   ]
  },
  {
   "cell_type": "code",
   "execution_count": 101,
   "metadata": {},
   "outputs": [
    {
     "name": "stdout",
     "output_type": "stream",
     "text": [
      "--->STEP 0: missing mass = 0.030884310495390442, total = 0.7454263361517801\n",
      "--->STEP 1: missing mass = 0.6775816998485823, total = 3.0611840846634637\n",
      "--->STEP 2: missing mass = 2.7820641082609057, total = 10.641775036576405\n",
      "--->STEP 3: missing mass = 9.673542420218373, total = 35.463351131276916\n",
      "--->STEP 4: missing mass = 32.23857814062785, total = 116.73773326174668\n",
      "--->STEP 5: missing mass = 106.1242768192502, total = 382.858046567685\n",
      "--->STEP 6: missing mass = 348.05149587871614, total = 1254.2275877856437\n",
      "--->STEP 7: missing mass = 1140.2045159208885, total = 4107.391511763645\n",
      "--->STEP 8: missing mass = 3733.986272272437, total = 13449.632652880318\n",
      "--->STEP 9: missing mass = 12226.920881327382, total = 44039.34704161257\n",
      "...trained 10 iterations in 482.68259954452515 seconds.\n",
      "Top 20 ranked nodes:\n"
     ]
    },
    {
     "data": {
      "text/plain": [
       "[('13455888', 3.988674791438403),\n",
       " ('1184351', 2.5227821503481125),\n",
       " ('1384888', 1.988958433410161),\n",
       " ('4695850', 1.979220044555949),\n",
       " ('6113490', 1.9175752988537302),\n",
       " ('5051368', 1.8249670730431808),\n",
       " ('6076759', 1.4792174197098729),\n",
       " ('7576704', 1.4131929937789713),\n",
       " ('4196067', 1.3424663596243096),\n",
       " ('2437837', 1.2661546116638493),\n",
       " ('9276255', 1.170469075562381),\n",
       " ('14881689', 1.1451614353712598),\n",
       " ('10527224', 1.1195039658253176),\n",
       " ('5490435', 1.0671734130315953),\n",
       " ('7835160', 1.0466224640728623),\n",
       " ('6237129', 1.038102677938744),\n",
       " ('15164193', 1.0213363553288481),\n",
       " ('6416278', 1.0073491386857314),\n",
       " ('6172466', 0.952336380928322),\n",
       " ('1516699', 0.937947875637926)]"
      ]
     },
     "execution_count": 101,
     "metadata": {},
     "output_type": "execute_result"
    }
   ],
   "source": [
    "nIter = 10\n",
    "start = time.time()\n",
    "wiki_sample=wikiGraphRDD.sample(False, 0.05, 25)\n",
    "full_results = runPageRank(wiki_sample, alpha = 0.15, maxIter = nIter, verbose = True)\n",
    "print(f'...trained {nIter} iterations in {time.time() - start} seconds.')\n",
    "print(f'Top 20 ranked nodes:')\n",
    "full_results.takeOrdered(20, key=lambda x: - x[1])"
   ]
  },
  {
   "cell_type": "markdown",
   "metadata": {},
   "source": [
    "__`expected results for the test graph:`__\n",
    "```\n",
    "[(2, 0.3620640495978871),\n",
    " (3, 0.333992700474142),\n",
    " (5, 0.08506399429624555),\n",
    " (4, 0.06030963508473455),\n",
    " (1, 0.04255740809817991),\n",
    " (6, 0.03138662354831139),\n",
    " (8, 0.01692511778009981),\n",
    " (10, 0.01692511778009981),\n",
    " (7, 0.01692511778009981),\n",
    " (9, 0.01692511778009981),\n",
    " (11, 0.01692511778009981)]\n",
    "```"
   ]
  },
  {
   "cell_type": "code",
   "execution_count": null,
   "metadata": {},
   "outputs": [],
   "source": [
    "# part d - run PageRank on the full graph (RUN THIS CELL AS IS)\n",
    "# NOTE: wikiGraphRDD should have been computed & cached above!\n",
    "nIter = 10\n",
    "start = time.time()\n",
    "full_results = runPageRank(wikiGraphRDD, alpha = 0.15, maxIter = nIter, verbose = True)\n",
    "print(f'...trained {nIter} iterations in {time.time() - start} seconds.')\n",
    "print(f'Top 20 ranked nodes:')\n",
    "full_results.takeOrdered(20, key=lambda x: - x[1])"
   ]
  },
  {
   "cell_type": "raw",
   "metadata": {},
   "source": [
    "--->STEP 0: missing mass = 0.6194586236216252, total = 1.0000000000041753\\n--->STEP 1: missing mass = 0.4962366552252807, total = 1.000000000006663\\n--->STEP 2: missing mass = 0.4584589664013481, total = 1.0000000000035507\\n--->STEP 3: missing mass = 0.4451862457982097, total = 1.000000000001256\\n--->STEP 4: missing mass = 0.440201478187534, total = 1.0000000000055855\\n--->STEP 5: missing mass = 0.43818412109728927, total = 1.0000000000042064\\n--->STEP 6: missing mass = 0.43732676186415026, total = 1.0000000000042697\\n--->STEP 7: missing mass = 0.4369451581452854, total = 1.000000000001954\\n--->STEP 8: missing mass = 0.4367684897209292, total = 0.9999999999992589\\n--->STEP 9: missing mass = 0.4366834304281386, total = 1.0000000000018014\\n...trained 10 iterations in 2972.589043855667 seconds.\\nTop 20 ranked nodes:\\n[('13455888', 0.0015447247129833004), ('4695850', 0.0006710240718906512), ('5051368', 0.0005983856809747701), ('1184351', 0.0005982073536467376), ('2437837', 0.00046249289289407433), ('6076759', 0.00045509400641448197), ('4196067', 0.0004423778888372443), ('13425865', 0.000441553517143481), ('6172466', 0.0004224002001845022), ('1384888', 0.00040128956040736243), ('6113490', 0.0003957892477180541), ('14112583', 0.000394384728375477), ('7902219', 0.00037009878473569675), ('10390714', 0.0003650264964328284), ('12836211', 0.0003619948863114988), ('6237129', 0.0003519555847625281), ('6416278', 0.00034866235645266395), ('13432150', 0.00033936510637418247), ('1516699', 0.00033297500286244206), ('7990491', 0.0003076090626586913)]\\n"
   ]
  },
  {
   "cell_type": "code",
   "execution_count": 38,
   "metadata": {},
   "outputs": [
    {
     "name": "stdout",
     "output_type": "stream",
     "text": [
      "PageRank  \t|   Page ID \n",
      "==============================\n",
      "0.001545\t|   13455888\n",
      "0.000671\t|    4695850\n",
      "0.000598\t|    5051368\n",
      "0.000598\t|    1184351\n",
      "0.000462\t|    2437837\n",
      "0.000455\t|    6076759\n",
      "0.000442\t|    4196067\n",
      "0.000442\t|   13425865\n",
      "0.000422\t|    6172466\n",
      "0.000401\t|    1384888\n",
      "0.000396\t|    6113490\n",
      "0.000394\t|   14112583\n",
      "0.000370\t|    7902219\n",
      "0.000365\t|   10390714\n",
      "0.000362\t|   12836211\n",
      "0.000352\t|    6237129\n",
      "0.000349\t|    6416278\n",
      "0.000339\t|   13432150\n",
      "0.000333\t|    1516699\n",
      "0.000308\t|    7990491\n"
     ]
    }
   ],
   "source": [
    "Q8_output = [('13455888', 0.0015447247129833004), ('4695850', 0.0006710240718906512), ('5051368', 0.0005983856809747701), ('1184351', 0.0005982073536467376), ('2437837', 0.00046249289289407433), ('6076759', 0.00045509400641448197), ('4196067', 0.0004423778888372443), ('13425865', 0.000441553517143481), ('6172466', 0.0004224002001845022), ('1384888', 0.00040128956040736243), ('6113490', 0.0003957892477180541), ('14112583', 0.000394384728375477), ('7902219', 0.00037009878473569675), ('10390714', 0.0003650264964328284), ('12836211', 0.0003619948863114988), ('6237129', 0.0003519555847625281), ('6416278', 0.00034866235645266395), ('13432150', 0.00033936510637418247), ('1516699', 0.00033297500286244206), ('7990491', 0.0003076090626586913)]\n",
    "print(\"{:10s}\\t| {:10s}\".format(\"PageRank\",\"  Page ID\"))\n",
    "print(\"=\"*30)\n",
    "for r in Q8_output:\n",
    "    print (\"{:6f}\\t| {:10d}\".format(float(r[1]),int(r[0])))"
   ]
  },
  {
   "cell_type": "code",
   "execution_count": 39,
   "metadata": {},
   "outputs": [
    {
     "data": {
      "text/plain": [
       "['! $var = &quot;&quot;\\t1\\t1\\t0']"
      ]
     },
     "execution_count": 39,
     "metadata": {},
     "output_type": "execute_result"
    }
   ],
   "source": [
    "# title\\t indx\\t inDeg\\t outDeg\n",
    "indexRDD.take(1)"
   ]
  },
  {
   "cell_type": "code",
   "execution_count": 40,
   "metadata": {},
   "outputs": [],
   "source": [
    "namesKV_RDD = indexRDD.map(lambda x: (int(x.split('\\t')[1]), x.split('\\t')[0]))"
   ]
  },
  {
   "cell_type": "code",
   "execution_count": 41,
   "metadata": {},
   "outputs": [
    {
     "data": {
      "text/plain": [
       "[(1, '! $var = &quot;&quot;')]"
      ]
     },
     "execution_count": 41,
     "metadata": {},
     "output_type": "execute_result"
    }
   ],
   "source": [
    "namesKV_RDD.take(1)"
   ]
  },
  {
   "cell_type": "code",
   "execution_count": 42,
   "metadata": {},
   "outputs": [],
   "source": [
    "# We should have saved these above, but it takes too long to run in the cloud ($$$), so for expedience:\n",
    "top_20 = [(13455888, 0.0015447247129832947),\n",
    " (4695850, 0.0006710240718906518),\n",
    " (5051368, 0.0005983856809747697),\n",
    " (1184351, 0.0005982073536467391),\n",
    " (2437837, 0.0004624928928940748),\n",
    " (6076759, 0.00045509400641448284),\n",
    " (4196067, 0.0004423778888372447),\n",
    " (13425865, 0.00044155351714348035),\n",
    " (6172466, 0.0004224002001845032),\n",
    " (1384888, 0.0004012895604073632),\n",
    " (6113490, 0.00039578924771805474),\n",
    " (14112583, 0.0003943847283754762),\n",
    " (7902219, 0.000370098784735699),\n",
    " (10390714, 0.0003650264964328283),\n",
    " (12836211, 0.0003619948863114985),\n",
    " (6237129, 0.0003519555847625285),\n",
    " (6416278, 0.00034866235645266493),\n",
    " (13432150, 0.00033936510637418247),\n",
    " (1516699, 0.00033297500286244265),\n",
    " (7990491, 0.00030760906265869104)]"
   ]
  },
  {
   "cell_type": "code",
   "execution_count": 43,
   "metadata": {},
   "outputs": [],
   "source": [
    "top_20_RDD = sc.parallelize(top_20)"
   ]
  },
  {
   "cell_type": "code",
   "execution_count": 44,
   "metadata": {},
   "outputs": [
    {
     "data": {
      "text/plain": [
       "[(13455888, 0.0015447247129832947)]"
      ]
     },
     "execution_count": 44,
     "metadata": {},
     "output_type": "execute_result"
    }
   ],
   "source": [
    "top_20_RDD.take(1)"
   ]
  },
  {
   "cell_type": "markdown",
   "metadata": {},
   "source": [
    "# Extra Credit\n",
    "(The combined extra credit points amount to approximately 5 percentage points on your final grade.)\n",
    "\n",
    "## EC 1 - 5pts\n",
    "The indexRDD we created earlier from the indices.txt file contains the titles of the pages and thier IDs.\n",
    "\n",
    "* __a) code:__ Join this dataset with your top 20 results.\n",
    "* __b) code:__ Print the results"
   ]
  },
  {
   "cell_type": "markdown",
   "metadata": {},
   "source": [
    "## Join with indexRDD and print pretty"
   ]
  },
  {
   "cell_type": "code",
   "execution_count": 45,
   "metadata": {},
   "outputs": [],
   "source": [
    "# part a\n",
    "joinedWithNames = None\n",
    "############## YOUR CODE HERE ###############\n",
    "\n",
    "# Convert the key in top_20_RDD from string to integer so the join\n",
    "# can work properly.\n",
    "top_20_RDD = top_20_RDD.map(lambda line: (int(line[0]), line[1]))\n",
    "\n",
    "joinedWithNames = namesKV_RDD.join(top_20_RDD) \\\n",
    "                             .sortBy(lambda line: -line[1][1]) \\\n",
    "                             .collect()\n",
    "############## END YOUR CODE ###############"
   ]
  },
  {
   "cell_type": "code",
   "execution_count": 46,
   "metadata": {},
   "outputs": [
    {
     "name": "stdout",
     "output_type": "stream",
     "text": [
      "PageRank  \t|   Page ID \t| Title\n",
      "=================================================================\n",
      "0.001545\t|   13455888\t| United States\n",
      "0.000671\t|    4695850\t| France\n",
      "0.000598\t|    5051368\t| Germany\n",
      "0.000598\t|    1184351\t| Animal\n",
      "0.000462\t|    2437837\t| Canada\n",
      "0.000455\t|    6076759\t| India\n",
      "0.000442\t|    4196067\t| England\n",
      "0.000442\t|   13425865\t| United Kingdom\n",
      "0.000422\t|    6172466\t| Iran\n",
      "0.000401\t|    1384888\t| Arthropod\n",
      "0.000396\t|    6113490\t| Insect\n",
      "0.000394\t|   14112583\t| World War II\n",
      "0.000370\t|    7902219\t| List of sovereign states\n",
      "0.000365\t|   10390714\t| Poland\n",
      "0.000362\t|   12836211\t| The New York Times\n",
      "0.000352\t|    6237129\t| Italy\n",
      "0.000349\t|    6416278\t| Japan\n",
      "0.000339\t|   13432150\t| United States Census Bureau\n",
      "0.000333\t|    1516699\t| Australia\n",
      "0.000308\t|    7990491\t| London\n"
     ]
    }
   ],
   "source": [
    "# part b\n",
    "# Feel free to modify this cell to suit your implementation, but please keep the formatting and sort order.\n",
    "print(\"{:10s}\\t| {:10s}\\t| {}\".format(\"PageRank\",\"  Page ID\",\"Title\"))\n",
    "print(\"=\"*65)\n",
    "for r in joinedWithNames:\n",
    "    print (\"{:6f}\\t| {:10d}\\t| {}\".format(r[1][1],r[0],r[1][0]))"
   ]
  },
  {
   "cell_type": "markdown",
   "metadata": {},
   "source": [
    "## Extra Credit - Finding Bowie\n",
    "<img src='labyrinth.jpg'>"
   ]
  },
  {
   "cell_type": "markdown",
   "metadata": {},
   "source": [
    "## GraphFrames\n",
    "## EC 2 - 30pts\n",
    "GraphFrames is a graph library which is built on top of the Spark DataFrames API.\n",
    "\n",
    "* __a) code:__ Using the same dataset, run the graphframes implementation of pagerank.\n",
    "* __b) code:__ Join the top 20 results with indices.txt and display in the same format as above.\n",
    "* __c) short answer:__ Compare your results with the results from graphframes.\n",
    "\n",
    "__NOTE:__ Feel free to create as many code cells as you need. Code should be clear and concise - do not include your scratch work. Comment your code if it's not self annotating."
   ]
  },
  {
   "cell_type": "code",
   "execution_count": null,
   "metadata": {},
   "outputs": [],
   "source": [
    "from graphframes import *"
   ]
  },
  {
   "cell_type": "code",
   "execution_count": null,
   "metadata": {},
   "outputs": [],
   "source": [
    "from pyspark.sql import functions as F"
   ]
  },
  {
   "cell_type": "code",
   "execution_count": null,
   "metadata": {},
   "outputs": [],
   "source": [
    "# load the data into Spark RDDs for convenience of use later (RUN THIS CELL AS IS)\n",
    "testRDD = sc.textFile('gs://w261-bucket/wiki/test_graph.txt')\n",
    "indexRDD = sc.textFile('gs://w261-bucket/wiki/indices.txt')\n",
    "wikiRDD = sc.textFile('gs://w261-bucket/wiki/wiki_graph.txt')"
   ]
  },
  {
   "cell_type": "code",
   "execution_count": null,
   "metadata": {},
   "outputs": [],
   "source": [
    "DF = wikiRDD.map(lambda x: (x.split('\\t')[0], ast.literal_eval(x.split('\\t')[1]))).toDF()"
   ]
  },
  {
   "cell_type": "code",
   "execution_count": null,
   "metadata": {},
   "outputs": [],
   "source": [
    "%%time\n",
    "DF.take(1)"
   ]
  },
  {
   "cell_type": "code",
   "execution_count": null,
   "metadata": {},
   "outputs": [],
   "source": [
    "%%time\n",
    "v = DF.select('_1').withColumnRenamed('_1','id').distinct()"
   ]
  },
  {
   "cell_type": "code",
   "execution_count": null,
   "metadata": {},
   "outputs": [],
   "source": [
    "%%time\n",
    "v.cache()"
   ]
  },
  {
   "cell_type": "code",
   "execution_count": null,
   "metadata": {},
   "outputs": [],
   "source": [
    "%%time\n",
    "v.show(1)"
   ]
  },
  {
   "cell_type": "code",
   "execution_count": null,
   "metadata": {},
   "outputs": [],
   "source": [
    "import ast\n",
    "def getEdges(row):\n",
    "    node_id, nodes = row\n",
    "    for node in nodes: \n",
    "        yield int(node_id), int(node)"
   ]
  },
  {
   "cell_type": "code",
   "execution_count": null,
   "metadata": {},
   "outputs": [],
   "source": [
    "%%time\n",
    "e = spark.createDataFrame(DF.rdd.flatMap(getEdges), [\"src\", \"dst\"])"
   ]
  },
  {
   "cell_type": "code",
   "execution_count": null,
   "metadata": {},
   "outputs": [],
   "source": [
    "%%time\n",
    "e.cache()"
   ]
  },
  {
   "cell_type": "code",
   "execution_count": null,
   "metadata": {},
   "outputs": [],
   "source": [
    "%%time\n",
    "e.show(1)"
   ]
  },
  {
   "cell_type": "code",
   "execution_count": null,
   "metadata": {},
   "outputs": [],
   "source": [
    "%%time\n",
    "# Create a GraphFrame\n",
    "from graphframes import *\n",
    "g = GraphFrame(v, e)\n",
    "\n",
    "# Query: Get in-degree of each vertex.\n",
    "# g.inDegrees.show()"
   ]
  },
  {
   "cell_type": "code",
   "execution_count": null,
   "metadata": {},
   "outputs": [],
   "source": [
    "%%time\n",
    "# Run PageRank algorithm, and show results.\n",
    "results = g.pageRank(resetProbability=0.15, maxIter=10)"
   ]
  },
  {
   "cell_type": "code",
   "execution_count": null,
   "metadata": {},
   "outputs": [],
   "source": [
    "%%time\n",
    "top_20 = results.vertices.orderBy(F.desc(\"pagerank\")).limit(20)"
   ]
  },
  {
   "cell_type": "code",
   "execution_count": null,
   "metadata": {},
   "outputs": [],
   "source": [
    "%%time\n",
    "top_20.show()"
   ]
  },
  {
   "cell_type": "code",
   "execution_count": null,
   "metadata": {},
   "outputs": [],
   "source": [
    "type(top_20)"
   ]
  },
  {
   "cell_type": "code",
   "execution_count": null,
   "metadata": {},
   "outputs": [],
   "source": [
    "top_20.take(1)"
   ]
  },
  {
   "cell_type": "code",
   "execution_count": null,
   "metadata": {},
   "outputs": [],
   "source": [
    "%%time\n",
    "namesKV_RDD = indexRDD.map(lambda x: (int(x.split('\\t')[1]), x.split('\\t')[0]))"
   ]
  },
  {
   "cell_type": "code",
   "execution_count": null,
   "metadata": {},
   "outputs": [],
   "source": [
    "namesKV_DF = namesKV_RDD.toDF()"
   ]
  },
  {
   "cell_type": "code",
   "execution_count": null,
   "metadata": {},
   "outputs": [],
   "source": [
    "namesKV_DF = namesKV_DF.withColumnRenamed('_1','id')\n",
    "namesKV_DF = namesKV_DF.withColumnRenamed('_2','title')\n",
    "namesKV_DF.take(1)"
   ]
  },
  {
   "cell_type": "code",
   "execution_count": null,
   "metadata": {},
   "outputs": [],
   "source": [
    "%%time\n",
    "resultsWithNames = namesKV_DF.join(top_20, namesKV_DF.id==top_20.id).orderBy(F.desc(\"pagerank\")).collect()"
   ]
  },
  {
   "cell_type": "code",
   "execution_count": null,
   "metadata": {},
   "outputs": [],
   "source": [
    "# TODO: use f' for string formatting\n",
    "print(\"{:10s}\\t| {:10s}\\t| {}\".format(\"PageRank\",\"Page id\",\"Title\"))\n",
    "print(\"=\"*100)\n",
    "for r in resultsWithNames:\n",
    "    print (\"{:6f}\\t| {:10s}\\t| {}\".format(r[3],r[2],r[1]))"
   ]
  },
  {
   "cell_type": "markdown",
   "metadata": {},
   "source": [
    "Our RDD implementaion takes about 35 minutes, whereas the GraphFrame one takes around 8 minutes. GraphFrames doesn't normalize the ranks. "
   ]
  },
  {
   "cell_type": "markdown",
   "metadata": {},
   "source": [
    "## APPENDIX\n",
    "This section contains an alternate implementation for Q7 and Q8 using Dictionary as the data structure to represent the edges. But it took too long on the cluster so I changed to String. "
   ]
  },
  {
   "cell_type": "code",
   "execution_count": null,
   "metadata": {},
   "outputs": [],
   "source": [
    "# part c - job to initialize the graph (RUN THIS CELL AS IS)\n",
    "def initGraph(dataRDD):\n",
    "    \"\"\"\n",
    "    Spark job to read in the raw data and initialize an \n",
    "    adjacency list representation with a record for each\n",
    "    node (including dangling nodes).\n",
    "    \n",
    "    Returns: \n",
    "        graphRDD -  a pair RDD of (node_id , (score, edges))\n",
    "        \n",
    "    NOTE: The score should be a float, but you may want to be \n",
    "    strategic about how format the edges... there are a few \n",
    "    options that can work. Make sure that whatever you choose\n",
    "    is sufficient for Question 8 where you'll run PageRank.\n",
    "    \"\"\"\n",
    "    ############## YOUR CODE HERE ###############\n",
    "\n",
    "    # write any helper functions here\n",
    "    \n",
    "    # Tokenize each line and emit a pair RDD in the \n",
    "    # (node_id , edges) format for all nodes\n",
    "    # including: 1) nodes with real edges, 2) dangling nodes\n",
    "    # where the 'edges' list is set to the empty dict {}. \n",
    "    def emit_nodes(line):\n",
    "        node, edges = line.split('\\t')\n",
    "        edge_nodes = ast.literal_eval(edges)\n",
    "        yield (node, edges)\n",
    "        for edge_node in edge_nodes.keys():\n",
    "            yield (edge_node, \"{}\")\n",
    "\n",
    "    def combineDict(x, y):\n",
    "        if x==\"{}\": return y\n",
    "        else: return x\n",
    "\n",
    "    # write your main Spark code here\n",
    "    \n",
    "    # For all nodes in the data, emit (node_id , edges).\n",
    "    # Use 'reduceByKey' to take out duplicates and cache \n",
    "    # this 'tempRDD'.\n",
    "    tempRDD = dataRDD.flatMap(emit_nodes) \\\n",
    "                     .reduceByKey(combineDict) \\\n",
    "                     .cache()\n",
    "    \n",
    "    # Compute N by calling count() on 'tempRDD' and broadcast \n",
    "    # the value so the mappers can access it.\n",
    "    totalCount = tempRDD.count()    \n",
    "    init_value = sc.broadcast(1/totalCount)\n",
    "    \n",
    "    # Initalize the correct score (1/N) using the newly computed N. \n",
    "    graphRDD = tempRDD.map(lambda line: (line[0], (init_value.value, line[1])))\n",
    "    \n",
    "    ############## (END) YOUR CODE ##############\n",
    "    \n",
    "    return graphRDD "
   ]
  },
  {
   "cell_type": "code",
   "execution_count": null,
   "metadata": {},
   "outputs": [],
   "source": [
    "# part c - run your Spark job on the test graph (RUN THIS CELL AS IS)\n",
    "start = time.time()\n",
    "testGraph = initGraph(testRDD).collect()\n",
    "print(f'... test graph initialized in {time.time() - start} seconds.')\n",
    "testGraph"
   ]
  },
  {
   "cell_type": "code",
   "execution_count": null,
   "metadata": {},
   "outputs": [],
   "source": [
    "# part c - run your code on the main graph (RUN THIS CELL AS IS)\n",
    "start = time.time()\n",
    "wikiGraphRDD = initGraph(wikiRDD)\n",
    "print(f'... full graph initialized in {time.time() - start} seconds')"
   ]
  },
  {
   "cell_type": "code",
   "execution_count": null,
   "metadata": {},
   "outputs": [],
   "source": [
    "# part c - confirm record format and count (RUN THIS CELL AS IS)\n",
    "start = time.time()\n",
    "print(f'Total number of records: {wikiGraphRDD.count()}')\n",
    "print(f'First record: {wikiGraphRDD.take(1)}')\n",
    "print(f'... initialization continued: {time.time() - start} seconds')"
   ]
  },
  {
   "cell_type": "code",
   "execution_count": null,
   "metadata": {},
   "outputs": [],
   "source": [
    "# part d - job to run PageRank (RUN THIS CELL AS IS)\n",
    "def runPageRank(graphInitRDD, alpha = 0.15, maxIter = 10, verbose = True):\n",
    "    \"\"\"\n",
    "    Spark job to implement page rank\n",
    "    Args: \n",
    "        graphInitRDD  - pair RDD of (node_id , (score, edges))\n",
    "        alpha         - (float) teleportation factor\n",
    "        maxIter       - (int) stopping criteria (number of iterations)\n",
    "        verbose       - (bool) option to print logging info after each iteration\n",
    "    Returns:\n",
    "        steadyStateRDD - pair RDD of (node_id, pageRank)\n",
    "    \"\"\"\n",
    "    # teleportation:\n",
    "    a = sc.broadcast(alpha)\n",
    "    \n",
    "    # damping factor:\n",
    "    d = sc.broadcast(1-a.value)\n",
    "    \n",
    "    # initialize accumulators for dangling mass & total mass\n",
    "    mmAccum = sc.accumulator(0.0, FloatAccumulatorParam())\n",
    "    totAccum = sc.accumulator(0.0, FloatAccumulatorParam())\n",
    "    \n",
    "    ############## YOUR CODE HERE ###############\n",
    "    \n",
    "    # write your helper functions here, \n",
    "    # please document the purpose of each clearly \n",
    "    # for reference, the master solution has 5 helper functions.\n",
    "\n",
    "    # Mapper function to emit probability masses for each node's \n",
    "    # neighbors. \n",
    "    def emit_prob_mass(line):\n",
    "        # Parse the line, tokenize each element, and convert the\n",
    "        # corresponding dictionary back to dict format. \n",
    "      #  print('in emit')\n",
    "        node, (prob, edges) = line        \n",
    "        if edges == '{}': yield node, (0, '{}') \n",
    "        else:\n",
    "        \n",
    "        # For each item in the neighboring node dictionary, calculate\n",
    "        # the probability mass being redistributed and emit in the format\n",
    "        # of (node_id, (score, {})) for each neighbor. To preserve the graph \n",
    "        # structure for the next iteration, we also emit the original node \n",
    "        # as (node_id, (0, {neighbors})).\n",
    "            edge_dict = ast.literal_eval(edges)\n",
    "            total_wt = sum(edge_dict.values())\n",
    "            for edge_node in edge_dict.keys():\n",
    "                current_wt = edge_dict[edge_node]\n",
    "                yield (edge_node, (np.divide(prob,total_wt)*current_wt, '{}'))\n",
    "            yield node, (0, str(edge_dict))\n",
    "    \n",
    "    def inc_mmAccum(line):\n",
    "        node, (rank, edges) = line\n",
    "        if edges == '{}': \n",
    "            mmAccum.add(rank)\n",
    "      #  print('done inc mm')\n",
    "    \n",
    "    def combine_rank(a,b):\n",
    "\n",
    "        a_rank, a_edges = a\n",
    "        b_rank, b_edges = b\n",
    "        combined_edges = ast.literal_eval(a_edges)\n",
    "        combined_edges.update(ast.literal_eval(b_edges))\n",
    "       # print('combine rank', a, b, a_rank+b_rank)\n",
    "        return a_rank+b_rank, str(combined_edges)\n",
    "    \n",
    "\n",
    "    def update_rank(line):\n",
    "        node, (rank, edges) = line\n",
    "        new_rank = teleport_val.value + d.value*(np.divide(m.value, N.value)+rank)\n",
    "       ## print(\"newrank\", new_rank)\n",
    "      #  totAccum.add(new_rank)\n",
    "        yield node, (new_rank, edges)        \n",
    "        \n",
    "    def not_converged(RDD_A, RDD_B):\n",
    "        if RDD_A == None or RDD_B == None: \n",
    "            return True\n",
    "        else: \n",
    "            for key in RDD_A.keys().collect():\n",
    "                if np.absolute(RDD_A.lookup(key)[0][0]-RDD_B.lookup(key)[0][0]) > threshold.value:\n",
    "                    return True\n",
    "            return False\n",
    "       \n",
    "    # write your main Spark Job here (including the for loop to iterate)\n",
    "    # for reference, the master solution is 21 lines including comments & whitespace\n",
    "\n",
    "    # Initialize variables before the while loop. 'lastRDD' and 'currentRDD' are \n",
    "    # used to keep track of convergence. 'NAccum' is to keep track of N. 'Iteration'\n",
    "    # is to keep track of the number of iterations so far. 'threshold' is the \n",
    "    # difference between the probabilities that defines convergence. \n",
    "    #lastRDD = None \n",
    "    steadyStateRDD = graphInitRDD\n",
    "    iteration = 0\n",
    "    N = sc.broadcast(graphInitRDD.count())\n",
    "  #  threshold = sc.broadcast(1e-18)\n",
    "    # The main while loop that keeps iteration going until either achieving\n",
    "    # 'maxIter' or the probabilities of the next state changes less than \n",
    "    # the 'threshold' value. \n",
    "    while (maxIter > iteration):# and not_converged(lastRDD, currentRDD)):  \n",
    "       # currentRDD = steadyStateRDD\n",
    "        # Call inc_mmAccum to increment the missing mass and N accumulators.\n",
    "      #  print(currentRDD.take(5))\n",
    "        steadyStateRDD.foreach(inc_mmAccum)\n",
    "      #  print('mmacum', mmAccum.value)\n",
    "\n",
    "        teleport_val = sc.broadcast(np.divide(a.value,N.value))\n",
    "        \n",
    "        m = sc.broadcast(mmAccum.value)\n",
    "        # Use mappers to emit probability masses and use reducers to combine\n",
    "        # the probability masses.\n",
    "        steadyStateRDD = steadyStateRDD.flatMap(emit_prob_mass) \\\n",
    "                                       .reduceByKey(combine_rank) \\\n",
    "                                       .flatMap(update_rank)\\\n",
    "                                       .cache()\n",
    "        \n",
    "       # mmass_per_node = sc.broadcast(mmAccum.value)\n",
    "       # print('#########',currentRDD.take(50))\n",
    "      #  steadyStateRDD = tempRDD #.flatMap(update_rank) \n",
    "       # print(steadyStateRDD.take(11))\n",
    "        steadyStateRDD.foreach(lambda line: totAccum.add(line[1][0]))\n",
    "        \n",
    "        # Compute the teleport portion of the rank and missing mass per node and\n",
    "        # store these as broadcast variables for efficiency. Compute the rank  \n",
    "        # and increment 'totAccum' by each rank to ensure the total rank is 1.\n",
    "\n",
    "        if verbose:\n",
    "            print('--->STEP {}: missing mass = {}, total = {}'.\n",
    "                  format(iteration, mmAccum.value, totAccum.value))\n",
    "       \n",
    "        # Prepare for the next iteration by incrementing 'interation' \n",
    "        # and resetting all accumulators.\n",
    "        iteration += 1\n",
    "        mmAccum = sc.accumulator(0.0, FloatAccumulatorParam())\n",
    "        totAccum = sc.accumulator(0.0, FloatAccumulatorParam())\n",
    "  \n",
    "    # Make a new RDD with the nodes and probability masses.\n",
    "    steadyStateRDD = steadyStateRDD.map(lambda line: (line[0], line[1][0]))\n",
    "    ############## (END) YOUR CODE ###############\n",
    "    \n",
    "    return steadyStateRDD"
   ]
  },
  {
   "cell_type": "code",
   "execution_count": null,
   "metadata": {},
   "outputs": [],
   "source": [
    "# part d - run PageRank on the test graph (RUN THIS CELL AS IS)\n",
    "# NOTE: while developing your code you may want turn on the verbose option\n",
    "nIter = 20\n",
    "testGraphRDD = initGraph(testRDD)\n",
    "start = time.time()\n",
    "test_results = runPageRank(testGraphRDD, alpha = 0.15, maxIter = nIter, verbose = True)\n",
    "print(f'...trained {nIter} iterations in {time.time() - start} seconds.')\n",
    "print(f'Top 20 ranked nodes:')\n",
    "test_results.takeOrdered(20, key=lambda x: - x[1])"
   ]
  },
  {
   "cell_type": "markdown",
   "metadata": {},
   "source": [
    "### Congratulations, you have completed HW5! Please refer to the readme for submission instructions.\n",
    "\n",
    "If you would like to provide feedback regarding this homework, please use the survey at: https://docs.google.com/forms/d/e/1FAIpQLScgIz4laP2JHChStLZx8MO0jGvrGyrOyQBnj7M4_4vcVXkB7g/viewform?usp=sf_link"
   ]
  },
  {
   "cell_type": "code",
   "execution_count": null,
   "metadata": {},
   "outputs": [],
   "source": []
  }
 ],
 "metadata": {
  "kernelspec": {
   "display_name": "Python 3",
   "language": "python",
   "name": "python3"
  },
  "language_info": {
   "codemirror_mode": {
    "name": "ipython",
    "version": 3
   },
   "file_extension": ".py",
   "mimetype": "text/x-python",
   "name": "python",
   "nbconvert_exporter": "python",
   "pygments_lexer": "ipython3",
   "version": "3.6.6"
  },
  "toc": {
   "colors": {
    "hover_highlight": "#DAA520",
    "running_highlight": "#FF0000",
    "selected_highlight": "#FFD700"
   },
   "moveMenuLeft": true,
   "nav_menu": {
    "height": "441px",
    "width": "252px"
   },
   "navigate_menu": true,
   "number_sections": true,
   "sideBar": true,
   "threshold": 4,
   "toc_cell": true,
   "toc_position": {
    "height": "827px",
    "left": "0px",
    "right": "1125px",
    "top": "107px",
    "width": "428px"
   },
   "toc_section_display": "block",
   "toc_window_display": true
  }
 },
 "nbformat": 4,
 "nbformat_minor": 2
}
