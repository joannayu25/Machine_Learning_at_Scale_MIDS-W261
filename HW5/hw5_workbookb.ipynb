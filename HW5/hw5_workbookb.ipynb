{
 "cells": [
  {
   "cell_type": "markdown",
   "metadata": {},
   "source": [
    "# HW 5 - Page Rank\n",
    "__`MIDS w261: Machine Learning at Scale | UC Berkeley School of Information | Fall 2018`__\n",
    "\n",
    "In Weeks 8 and 9 you discussed key concepts related to graph based algorithms and implemented SSSP.   \n",
    "In this final homework assignment you'll implement distributed PageRank using some data from Wikipedia.\n",
    "By the end of this homework you should be able to:  \n",
    "* ... __compare/contrast__ adjacency matrices and lists as representations of graphs for parallel computation.\n",
    "* ... __explain__ the goal of the PageRank algorithm using the concept of an infinite Random Walk.\n",
    "* ... __define__ a Markov chain including the conditions underwhich it will converge.\n",
    "* ... __identify__ what modifications must be made to the web graph inorder to leverage Markov Chains.\n",
    "* ... __implement__ distributed PageRank in Spark.\n",
    "\n",
    "__Please refer to the `README` for homework submission instructions and additional resources.__ "
   ]
  },
  {
   "cell_type": "markdown",
   "metadata": {},
   "source": [
    "# Notebook Set-Up\n",
    "Before starting your homework run the following cells to confirm your setup."
   ]
  },
  {
   "cell_type": "code",
   "execution_count": 1,
   "metadata": {},
   "outputs": [],
   "source": [
    "# imports\n",
    "import re\n",
    "import ast\n",
    "import time\n",
    "import numpy as np\n",
    "import pandas as pd\n",
    "import seaborn as sns\n",
    "import networkx as nx\n",
    "import matplotlib.pyplot as plt"
   ]
  },
  {
   "cell_type": "code",
   "execution_count": 2,
   "metadata": {},
   "outputs": [],
   "source": [
    "%reload_ext autoreload\n",
    "%autoreload 2"
   ]
  },
  {
   "cell_type": "code",
   "execution_count": 3,
   "metadata": {},
   "outputs": [],
   "source": [
    "# store path to notebook\n",
    "PWD = !pwd\n",
    "PWD = PWD[0]"
   ]
  },
  {
   "cell_type": "code",
   "execution_count": 4,
   "metadata": {},
   "outputs": [],
   "source": [
    "# start Spark Session\n",
    "from pyspark.sql import SparkSession\n",
    "app_name = \"hw5_notebook\"\n",
    "master = \"local[*]\"\n",
    "spark = SparkSession\\\n",
    "        .builder\\\n",
    "        .appName(app_name)\\\n",
    "        .master(master)\\\n",
    "        .getOrCreate()\n",
    "sc = spark.sparkContext"
   ]
  },
  {
   "cell_type": "code",
   "execution_count": 5,
   "metadata": {},
   "outputs": [
    {
     "data": {
      "text/html": [
       "\n",
       "            <div>\n",
       "                <p><b>SparkSession - in-memory</b></p>\n",
       "                \n",
       "        <div>\n",
       "            <p><b>SparkContext</b></p>\n",
       "\n",
       "            <p><a href=\"http://docker.w261:4040\">Spark UI</a></p>\n",
       "\n",
       "            <dl>\n",
       "              <dt>Version</dt>\n",
       "                <dd><code>v2.3.1</code></dd>\n",
       "              <dt>Master</dt>\n",
       "                <dd><code>local[*]</code></dd>\n",
       "              <dt>AppName</dt>\n",
       "                <dd><code>hw5_notebook</code></dd>\n",
       "            </dl>\n",
       "        </div>\n",
       "        \n",
       "            </div>\n",
       "        "
      ],
      "text/plain": [
       "<pyspark.sql.session.SparkSession at 0x7f496c461a20>"
      ]
     },
     "execution_count": 5,
     "metadata": {},
     "output_type": "execute_result"
    }
   ],
   "source": [
    "spark"
   ]
  },
  {
   "cell_type": "code",
   "execution_count": 6,
   "metadata": {},
   "outputs": [],
   "source": [
    "sc = spark.sparkContext"
   ]
  },
  {
   "cell_type": "markdown",
   "metadata": {},
   "source": [
    "__`REMINDER`__: If you are running this notebook on the course docker container, you can monitor the progress of your jobs using the Spark UI at: http://localhost:4040/jobs/"
   ]
  },
  {
   "cell_type": "markdown",
   "metadata": {},
   "source": [
    "# Question 1: Distributed Graph Processing\n",
    "Chapter 5 from Lin & Dyer gave you a high level introduction to graph algorithms and concernts that come up when trying to perform distributed computations over them. The questions below are designed to make sure you captured the key points from this reading and your async lectures. \n",
    "\n",
    "### Q1 Tasks:\n",
    "\n",
    "* __a) short response:__ Give an example of a dataset that would be appropriate to represent as a graph. What are the nodes/edges in this dataset? Is the graph you describe 'directed' or 'undirected'? What would the average \"in-degree\" of a node mean in the context of your example? \n",
    "\n",
    "* __b) short response:__ Other than their size/scale, what makes graphs uniquely challenging to work with in the map-reduce paradigm? *(__HINT__: Do not respond in terms of any specific algorithm. Think in terms of the nature of the graph datastructure itself).*\n",
    "\n",
    "* __c) short response:__ Briefly describe Dijskra's algorithm (goal/approach). What specific design component makes this approach hard to parallelize?\n",
    "\n",
    "* __d) short response:__ How does parallel breadth-first-search get around the problem that you identified in part `c`? At what expense?"
   ]
  },
  {
   "cell_type": "markdown",
   "metadata": {},
   "source": [
    "### Q1 Student Answers:\n",
    "> __a)__ Type your answer here!\n",
    "\n",
    "> __b)__ Type your answer here!\n",
    "\n",
    "> __c)__ Type your answer here!  \n",
    "\n",
    "> __d)__ Type your answer here!  \n"
   ]
  },
  {
   "cell_type": "markdown",
   "metadata": {},
   "source": [
    "# Question 2: Representing Graphs \n",
    "\n",
    "In class you saw examples of adjacency matrix and adjacency list representations of graphs. These data structures were probably familiar from HW3, though we hadn't before talked about them in the context of graphs. In this question we'll discuss some of the tradeoffs associated with these representations. __`NOTE:`__ We'll use the graph from Figure 5.1 in Lin & Dyer as a toy example. For convenience in the code below we'll label the nodes `A`, `B`, `C`, `D`, and `E` instead of $n_1$, $n_2$, etc but otherwise you should be able to follow along & check our answers against those in the text.\n",
    "\n",
    "\n",
    "<img src=\"Lin-Dyer-graph-Q1.png\" width=\"70%\">\n",
    "\n",
    "### Q2 Tasks:\n",
    "\n",
    "* __a) short response:__ Relatively speaking, is the graph you described in Figure 5.1 in Lin & Dyer \"sparse\" or \"dense\"?  Explain how sparsity/density impacts the adjacency matrix and adjacency list representations of a graph.\n",
    "\n",
    "* __b) short response:__ Run the provided code to create and plot our toy graph. Is this graph directed or undirected? Explain how the adjacency matrices for directed graphs will differ from those of undirected graphs.\n",
    "\n",
    "* __c) code:__ Fill in the missing code to complete the function `get_adj_matr()`.\n",
    "\n",
    "* __d) code:__ Fill in the missing code to complete the function `get_adj_list()`.\n"
   ]
  },
  {
   "cell_type": "markdown",
   "metadata": {},
   "source": [
    "### Q2 Student Answers:\n",
    "> __a)__ The graph in Figure 5.1 is sparse because most entries in the adjacency matrix is zero. If the graph is sparse, representing it as a adjacency matrix will not be space efficient because we would store a lot of zeros. In this case, it would make more sense to represent it as an adjacency list so that we only store the 1s in the matrix. Likewise, if the graph is dense, adjacency matrix is a better choice. \n",
    "\n",
    "> __b)__ The toy graph is directed because the edges have directions. If a graph is directed, we will see entries in the entire adjacency matrix because any node can have an edge going to another node. But if a graph is undirected, we will only see entries above the diagonal in the adjacency matrix because we only record edges between two nodes (such as A and B) and do not record edges pointing the reverse direction (such as B and A). "
   ]
  },
  {
   "cell_type": "code",
   "execution_count": 7,
   "metadata": {},
   "outputs": [],
   "source": [
    "# part a - a graph is just a list of nodes and edges (RUN THIS CELL AS IS)\n",
    "TOY_GRAPH = {'nodes':['A', 'B', 'C', 'D', 'E'],\n",
    "             'edges':[('A', 'B'), ('A', 'D'), ('B', 'C'), ('B', 'E'), ('C', 'D'), \n",
    "                      ('D', 'E'), ('E', 'A'),('E', 'B'), ('E', 'C')]}"
   ]
  },
  {
   "cell_type": "code",
   "execution_count": 8,
   "metadata": {},
   "outputs": [
    {
     "data": {
      "image/png": "[encoded data removed]",
      "text/plain": [
       "<Figure size 432x288 with 1 Axes>"
      ]
     },
     "metadata": {},
     "output_type": "display_data"
    }
   ],
   "source": [
    "# part a - simple visualization of our toy graph using nx (RUN THIS CELL AS IS)\n",
    "G = nx.DiGraph()\n",
    "G.add_nodes_from(TOY_GRAPH['nodes'])\n",
    "G.add_edges_from(TOY_GRAPH['edges'])\n",
    "nx.draw(G, pos=nx.circular_layout(G), with_labels=True, alpha = 0.5)"
   ]
  },
  {
   "cell_type": "code",
   "execution_count": 9,
   "metadata": {},
   "outputs": [],
   "source": [
    "# part c - adjacency matrix function\n",
    "def get_adj_matr(graph):\n",
    "    \"\"\"\n",
    "    Function to create an adjacency matrix representation of a graph.\n",
    "    arg:\n",
    "        graph - (dict) of 'nodes' : [], 'edges' : []\n",
    "    returns:\n",
    "        pd.DataFrame with entry i,j representing an edge from node i to node j\n",
    "    \"\"\"\n",
    "    n = len(graph['nodes'])\n",
    "    adj_matr = pd.DataFrame(0, columns = graph['nodes'], index = graph['nodes'])\n",
    "    ############### YOUR CODE HERE ##################\n",
    "    # Parse the 'edges' list in 'graph' and add 1 to the corresponding cell in\n",
    "    # 'adj_matr'.\n",
    "    for (row, col) in graph['edges']:\n",
    "        adj_matr[col][row]+=1\n",
    "    ############### (END) YOUR CODE #################\n",
    "    return adj_matr"
   ]
  },
  {
   "cell_type": "code",
   "execution_count": 10,
   "metadata": {},
   "outputs": [
    {
     "name": "stdout",
     "output_type": "stream",
     "text": [
      "   A  B  C  D  E\n",
      "A  0  1  0  1  0\n",
      "B  0  0  1  0  1\n",
      "C  0  0  0  1  0\n",
      "D  0  0  0  0  1\n",
      "E  1  1  1  0  0\n"
     ]
    }
   ],
   "source": [
    "# part c - take a look (RUN THIS CELL AS IS)\n",
    "TOY_ADJ_MATR = get_adj_matr(TOY_GRAPH)\n",
    "print(TOY_ADJ_MATR)"
   ]
  },
  {
   "cell_type": "code",
   "execution_count": 10,
   "metadata": {},
   "outputs": [],
   "source": [
    "# part d - adjacency list function\n",
    "def get_adj_list(graph):\n",
    "    \"\"\"\n",
    "    Function to create an adjacency list representation of a graph.\n",
    "    arg:\n",
    "        graph - (dict) of 'nodes' : [], 'edges' : []\n",
    "    returns:\n",
    "        dictionary of the form {node : [list of edges]}\n",
    "    \"\"\"\n",
    "    adj_list = {node: [] for node in graph['nodes']}\n",
    "    ############### YOUR CODE HERE ##################\n",
    "    # Parse the 'edges' list in 'graph' and append the neighboring \n",
    "    # node to the corresponding node in 'adj_list.' \n",
    "    for adj_pair in graph['edges']:\n",
    "        adj_list[adj_pair[0]].append(adj_pair[1])\n",
    "    \n",
    "    ############### (END) YOUR CODE #################\n",
    "    return adj_list"
   ]
  },
  {
   "cell_type": "code",
   "execution_count": 11,
   "metadata": {},
   "outputs": [
    {
     "name": "stdout",
     "output_type": "stream",
     "text": [
      "{'A': ['B', 'D'], 'B': ['C', 'E'], 'C': ['D'], 'D': ['E'], 'E': ['A', 'B', 'C']}\n"
     ]
    }
   ],
   "source": [
    "# part d - take a look (RUN THIS CELL AS IS)\n",
    "TOY_ADJ_LIST = get_adj_list(TOY_GRAPH)\n",
    "print(TOY_ADJ_LIST)"
   ]
  },
  {
   "cell_type": "markdown",
   "metadata": {},
   "source": [
    "# Question 3: Markov Chains and Random Walks\n",
    "\n",
    "As you know from your readings and in class discussions, the PageRank algorithm takes advantage of the machinery of Markov Chains to compute the relative importance of a webpage using the hyperlink structure of the web (we'll refer to this as the 'web-graph'). A Markov Chain is a discrete-time stochastic process. The stochastic matrix has a principal left eigen vector corresponding to its largest eigen value which is one. A Markov chain's probability distribution over its states may be viewed as a probability vector. This steady state probability for a state is the PageRank of the corresponding webpage. In this question we'll briefly discuss a few concepts that are key to understanding the math behind PageRank. \n",
    "\n",
    "### Q3 Tasks:\n",
    "\n",
    "* __a) short response:__ It is common to explain PageRank using the analogy of a web surfer who clicks on links at random ad infinitum. In the context of this hypothetical infinite random walk, what does the PageRank metric measure/represent?\n",
    "\n",
    "* __b) short response:__ What is the \"Markov Property\" and what does it mean in the context of PageRank?\n",
    "\n",
    "* __c) short response:__ A Markov chain consists of $n$ states plus an $n\\times n$ transition probability matrix. In the context of PageRank & a random walk over the WebGraph what are the $n$ states? what implications does this have about the size of the transition matrix?\n",
    "\n",
    "* __d) code + short response:__ What is a \"right stochastic matrix\"? Fill in the code below to compute the transition matrix for the toy graph from question 2. [__`HINT:`__ _It should be right stochastic. Using numpy this calculation can be done in one line of code._]\n",
    "\n",
    "* __e) code + short response:__ To compute the stable state distribution (i.e. PageRank) of a \"nice\" graph we can apply the power iteration method - repeatedly multiplying the transition matrix by itself, until the values no longer change. Apply this strategy to your transition matrix from `part d` to find the PageRank for each of the pages in your toy graph. Your code should print the results of each iteration. How many iterations does it take to converge? Which node is most 'central' (i.e. highest ranked)? Does this match your intuition? \n",
    "    * __`NOTE 1:`__ _this is a naive approach, we'll unpack what it means to be \"nice\" in the next question_.\n",
    "    * __`NOTE 2:`__ _no need to implement a stopping criteria, visual inspection should suffice_."
   ]
  },
  {
   "cell_type": "markdown",
   "metadata": {},
   "source": [
    "### Q3 Student Answers:\n",
    "> __a)__ Type your answer here!\n",
    "\n",
    "> __b)__ Type your answer here!\n",
    "\n",
    "> __c)__ Type your answer here! \n",
    "\n",
    "> __d)__ Type your answer here!\n",
    "\n",
    "> __e)__ Type your answer here! "
   ]
  },
  {
   "cell_type": "code",
   "execution_count": 135,
   "metadata": {},
   "outputs": [
    {
     "data": {
      "text/html": [
       "<div>\n",
       "<style scoped>\n",
       "    .dataframe tbody tr th:only-of-type {\n",
       "        vertical-align: middle;\n",
       "    }\n",
       "\n",
       "    .dataframe tbody tr th {\n",
       "        vertical-align: top;\n",
       "    }\n",
       "\n",
       "    .dataframe thead th {\n",
       "        text-align: right;\n",
       "    }\n",
       "</style>\n",
       "<table border=\"1\" class=\"dataframe\">\n",
       "  <thead>\n",
       "    <tr style=\"text-align: right;\">\n",
       "      <th></th>\n",
       "      <th>A</th>\n",
       "      <th>B</th>\n",
       "      <th>C</th>\n",
       "      <th>D</th>\n",
       "      <th>E</th>\n",
       "    </tr>\n",
       "  </thead>\n",
       "  <tbody>\n",
       "    <tr>\n",
       "      <th>A</th>\n",
       "      <td>0</td>\n",
       "      <td>1</td>\n",
       "      <td>0</td>\n",
       "      <td>1</td>\n",
       "      <td>0</td>\n",
       "    </tr>\n",
       "    <tr>\n",
       "      <th>B</th>\n",
       "      <td>0</td>\n",
       "      <td>0</td>\n",
       "      <td>1</td>\n",
       "      <td>0</td>\n",
       "      <td>1</td>\n",
       "    </tr>\n",
       "    <tr>\n",
       "      <th>C</th>\n",
       "      <td>0</td>\n",
       "      <td>0</td>\n",
       "      <td>0</td>\n",
       "      <td>1</td>\n",
       "      <td>0</td>\n",
       "    </tr>\n",
       "    <tr>\n",
       "      <th>D</th>\n",
       "      <td>0</td>\n",
       "      <td>0</td>\n",
       "      <td>0</td>\n",
       "      <td>0</td>\n",
       "      <td>1</td>\n",
       "    </tr>\n",
       "    <tr>\n",
       "      <th>E</th>\n",
       "      <td>1</td>\n",
       "      <td>1</td>\n",
       "      <td>1</td>\n",
       "      <td>0</td>\n",
       "      <td>0</td>\n",
       "    </tr>\n",
       "  </tbody>\n",
       "</table>\n",
       "</div>"
      ],
      "text/plain": [
       "   A  B  C  D  E\n",
       "A  0  1  0  1  0\n",
       "B  0  0  1  0  1\n",
       "C  0  0  0  1  0\n",
       "D  0  0  0  0  1\n",
       "E  1  1  1  0  0"
      ]
     },
     "execution_count": 135,
     "metadata": {},
     "output_type": "execute_result"
    }
   ],
   "source": [
    "# part d - recall what the adjacency matrix looked like (RUN THIS CELL AS IS)\n",
    "TOY_ADJ_MATR"
   ]
  },
  {
   "cell_type": "code",
   "execution_count": 49,
   "metadata": {},
   "outputs": [
    {
     "name": "stdout",
     "output_type": "stream",
     "text": [
      "(5, 5)\n",
      "   A  B  C  D  E\n",
      "B  1  0  0  0  1\n",
      "A    1\n",
      "B    0\n",
      "C    0\n",
      "D    0\n",
      "E    1\n",
      "dtype: int64\n",
      "-------\n",
      "   A  B  C  D  E\n",
      "A  0  0  0  0  1\n",
      "B  1  0  0  0  1\n",
      "C  0  1  0  0  1\n",
      "D  1  0  1  0  0\n",
      "E  0  1  0  1  0\n",
      "B    2\n",
      "dtype: int64\n"
     ]
    },
    {
     "data": {
      "text/html": [
       "<div>\n",
       "<style scoped>\n",
       "    .dataframe tbody tr th:only-of-type {\n",
       "        vertical-align: middle;\n",
       "    }\n",
       "\n",
       "    .dataframe tbody tr th {\n",
       "        vertical-align: top;\n",
       "    }\n",
       "\n",
       "    .dataframe thead th {\n",
       "        text-align: right;\n",
       "    }\n",
       "</style>\n",
       "<table border=\"1\" class=\"dataframe\">\n",
       "  <thead>\n",
       "    <tr style=\"text-align: right;\">\n",
       "      <th></th>\n",
       "      <th>A</th>\n",
       "      <th>B</th>\n",
       "      <th>C</th>\n",
       "      <th>D</th>\n",
       "      <th>E</th>\n",
       "    </tr>\n",
       "  </thead>\n",
       "  <tbody>\n",
       "    <tr>\n",
       "      <th>A</th>\n",
       "      <td>NaN</td>\n",
       "      <td>0.0</td>\n",
       "      <td>NaN</td>\n",
       "      <td>NaN</td>\n",
       "      <td>NaN</td>\n",
       "    </tr>\n",
       "    <tr>\n",
       "      <th>B</th>\n",
       "      <td>NaN</td>\n",
       "      <td>0.0</td>\n",
       "      <td>NaN</td>\n",
       "      <td>NaN</td>\n",
       "      <td>NaN</td>\n",
       "    </tr>\n",
       "    <tr>\n",
       "      <th>C</th>\n",
       "      <td>NaN</td>\n",
       "      <td>0.5</td>\n",
       "      <td>NaN</td>\n",
       "      <td>NaN</td>\n",
       "      <td>NaN</td>\n",
       "    </tr>\n",
       "    <tr>\n",
       "      <th>D</th>\n",
       "      <td>NaN</td>\n",
       "      <td>0.0</td>\n",
       "      <td>NaN</td>\n",
       "      <td>NaN</td>\n",
       "      <td>NaN</td>\n",
       "    </tr>\n",
       "    <tr>\n",
       "      <th>E</th>\n",
       "      <td>NaN</td>\n",
       "      <td>0.5</td>\n",
       "      <td>NaN</td>\n",
       "      <td>NaN</td>\n",
       "      <td>NaN</td>\n",
       "    </tr>\n",
       "  </tbody>\n",
       "</table>\n",
       "</div>"
      ],
      "text/plain": [
       "    A    B   C   D   E\n",
       "A NaN  0.0 NaN NaN NaN\n",
       "B NaN  0.0 NaN NaN NaN\n",
       "C NaN  0.5 NaN NaN NaN\n",
       "D NaN  0.0 NaN NaN NaN\n",
       "E NaN  0.5 NaN NaN NaN"
      ]
     },
     "execution_count": 49,
     "metadata": {},
     "output_type": "execute_result"
    }
   ],
   "source": [
    "print(TOY_ADJ_MATR.shape)\n",
    "line1 = TOY_ADJ_MATR[1:2]\n",
    "print(line1)\n",
    "print(line1.sum())\n",
    "row, col = TOY_ADJ_MATR.shape\n",
    "print('-------')\n",
    "print(TOY_ADJ_MATR)\n",
    "print(TOY_ADJ_MATR[1:2].sum(axis=1))\n",
    "TOY_ADJ_MATR/TOY_ADJ_MATR[1:2].sum(axis=1)"
   ]
  },
  {
   "cell_type": "code",
   "execution_count": 11,
   "metadata": {},
   "outputs": [
    {
     "name": "stdout",
     "output_type": "stream",
     "text": [
      "          A         B         C    D    E\n",
      "A  0.000000  0.500000  0.000000  0.5  0.0\n",
      "B  0.000000  0.000000  0.500000  0.0  0.5\n",
      "C  0.000000  0.000000  0.000000  1.0  0.0\n",
      "D  0.000000  0.000000  0.000000  0.0  1.0\n",
      "E  0.333333  0.333333  0.333333  0.0  0.0\n"
     ]
    }
   ],
   "source": [
    "# part d - use TOY_ADJ_MATR to create a right stochastic transition matrix for this graph\n",
    "################ YOUR CODE HERE #################\n",
    "transition_matrix = pd.DataFrame(0, columns = TOY_ADJ_MATR.columns, index = TOY_ADJ_MATR.index)\n",
    "row_total = TOY_ADJ_MATR.sum(axis=1)\n",
    "for i in range(TOY_ADJ_MATR.shape[0]):\n",
    "    transition_matrix[i:i+1] = TOY_ADJ_MATR[i:i+1]/row_total[i]\n",
    "\n",
    "#print(transition_matrix.T)\n",
    "################ (END) YOUR CODE #################\n",
    "print(transition_matrix)\n",
    "#print(type(transition_matrix))#\n",
    "#print(transition_matrix.values)#"
   ]
  },
  {
   "cell_type": "code",
   "execution_count": 12,
   "metadata": {},
   "outputs": [],
   "source": [
    "# part e - compute the steady state using the transition matrix \n",
    "def power_iteration(xInit, tMatrix, nIter, verbose = True):\n",
    "    \"\"\"\n",
    "    Function to perform the specified number of power iteration steps to \n",
    "    compute the steady state probability distribution for the given\n",
    "    transition matrix.\n",
    "    \n",
    "    Args:\n",
    "        xInit     - (n x 1 array) representing inial state\n",
    "        tMatrix  - (n x n array) transition probabilities\n",
    "        nIter     - (int) number of iterations\n",
    "    Returns:\n",
    "        state_vector - (n x 1 array) representing probability \n",
    "                        distribution over states after nSteps.\n",
    "    \n",
    "    NOTE: if the 'verbose' flag is on, your function should print the step\n",
    "    number and the current matrix at each iteration.\n",
    "    \"\"\"\n",
    "    state_vector = None\n",
    "    ################ YOUR CODE HERE #################\n",
    "\n",
    "    state_vector = xInit\n",
    "    for ix in range(nIter):    \n",
    "      #  print('--------\\nold_vector:\\n',state_vector)\n",
    "        new_state_vector = tMatrix.T.dot(state_vector)\n",
    "       # print('tMatrix:\\n', tMatrix)\n",
    "      #  print('new_vector:\\n',new_state_vector)\n",
    "      #  print(type(new_state_vector))\n",
    "       # new_state_vector = np.matmul(tMatrix,state_vector)\n",
    "        #print(type(new_state_vector))\n",
    "        #print(type(state_vector))\n",
    "    \n",
    "        if np.allclose(new_state_vector, state_vector):\n",
    "            print(f'Step {ix}: \\n{state_vector}')\n",
    "            break\n",
    "        else: \n",
    "            state_vector = new_state_vector#/new_state_vector.sum()\n",
    "           # state_vector/state_vector.sum()\n",
    "            if verbose:\n",
    "                print(f'Step {ix}: \\n{state_vector}')   \n",
    "    \n",
    "    ################ (END) YOUR CODE #################\n",
    "    return state_vector"
   ]
  },
  {
   "cell_type": "code",
   "execution_count": 13,
   "metadata": {},
   "outputs": [
    {
     "name": "stdout",
     "output_type": "stream",
     "text": [
      "Step 0: \n",
      "A    0.0\n",
      "B    0.5\n",
      "C    0.0\n",
      "D    0.5\n",
      "E    0.0\n",
      "dtype: float64\n",
      "Step 1: \n",
      "A    0.00\n",
      "B    0.00\n",
      "C    0.25\n",
      "D    0.00\n",
      "E    0.75\n",
      "dtype: float64\n",
      "Step 2: \n",
      "A    0.25\n",
      "B    0.25\n",
      "C    0.25\n",
      "D    0.25\n",
      "E    0.00\n",
      "dtype: float64\n",
      "Step 3: \n",
      "A    0.000\n",
      "B    0.125\n",
      "C    0.125\n",
      "D    0.375\n",
      "E    0.375\n",
      "dtype: float64\n",
      "Step 4: \n",
      "A    0.1250\n",
      "B    0.1250\n",
      "C    0.1875\n",
      "D    0.1250\n",
      "E    0.4375\n",
      "dtype: float64\n",
      "Step 5: \n",
      "A    0.145833\n",
      "B    0.208333\n",
      "C    0.208333\n",
      "D    0.250000\n",
      "E    0.187500\n",
      "dtype: float64\n",
      "Step 6: \n",
      "A    0.062500\n",
      "B    0.135417\n",
      "C    0.166667\n",
      "D    0.281250\n",
      "E    0.354167\n",
      "dtype: float64\n",
      "Step 7: \n",
      "A    0.118056\n",
      "B    0.149306\n",
      "C    0.185764\n",
      "D    0.197917\n",
      "E    0.348958\n",
      "dtype: float64\n",
      "Step 8: \n",
      "A    0.116319\n",
      "B    0.175347\n",
      "C    0.190972\n",
      "D    0.244792\n",
      "E    0.272569\n",
      "dtype: float64\n",
      "Step 9: \n",
      "A    0.090856\n",
      "B    0.149016\n",
      "C    0.178530\n",
      "D    0.249132\n",
      "E    0.332465\n",
      "dtype: float64\n",
      "Step 10: \n",
      "A    0.110822\n",
      "B    0.156250\n",
      "C    0.185330\n",
      "D    0.223958\n",
      "E    0.323640\n",
      "dtype: float64\n",
      "Step 11: \n",
      "A    0.107880\n",
      "B    0.163291\n",
      "C    0.186005\n",
      "D    0.240741\n",
      "E    0.302083\n",
      "dtype: float64\n",
      "Step 12: \n",
      "A    0.100694\n",
      "B    0.154634\n",
      "C    0.182340\n",
      "D    0.239945\n",
      "E    0.322386\n",
      "dtype: float64\n",
      "Step 13: \n",
      "A    0.107462\n",
      "B    0.157809\n",
      "C    0.184779\n",
      "D    0.232687\n",
      "E    0.317262\n",
      "dtype: float64\n",
      "Step 14: \n",
      "A    0.105754\n",
      "B    0.159485\n",
      "C    0.184659\n",
      "D    0.238510\n",
      "E    0.311592\n",
      "dtype: float64\n",
      "Step 15: \n",
      "A    0.103864\n",
      "B    0.156741\n",
      "C    0.183606\n",
      "D    0.237536\n",
      "E    0.318253\n",
      "dtype: float64\n",
      "Step 16: \n",
      "A    0.106084\n",
      "B    0.158016\n",
      "C    0.184455\n",
      "D    0.235538\n",
      "E    0.315906\n",
      "dtype: float64\n",
      "Step 17: \n",
      "A    0.105302\n",
      "B    0.158344\n",
      "C    0.184310\n",
      "D    0.237497\n",
      "E    0.314547\n",
      "dtype: float64\n",
      "Step 18: \n",
      "A    0.104849\n",
      "B    0.157500\n",
      "C    0.184021\n",
      "D    0.236961\n",
      "E    0.316669\n",
      "dtype: float64\n",
      "Step 19: \n",
      "A    0.105556\n",
      "B    0.157981\n",
      "C    0.184306\n",
      "D    0.236445\n",
      "E    0.315711\n",
      "dtype: float64\n",
      "Step 20: \n",
      "A    0.105237\n",
      "B    0.158015\n",
      "C    0.184227\n",
      "D    0.237084\n",
      "E    0.315436\n",
      "dtype: float64\n",
      "Step 21: \n",
      "A    0.105145\n",
      "B    0.157764\n",
      "C    0.184153\n",
      "D    0.236846\n",
      "E    0.316092\n",
      "dtype: float64\n",
      "Step 22: \n",
      "A    0.105364\n",
      "B    0.157937\n",
      "C    0.184246\n",
      "D    0.236726\n",
      "E    0.315728\n",
      "dtype: float64\n",
      "Step 23: \n",
      "A    0.105243\n",
      "B    0.157925\n",
      "C    0.184211\n",
      "D    0.236928\n",
      "E    0.315694\n",
      "dtype: float64\n",
      "Step 24: \n",
      "A    0.105231\n",
      "B    0.157853\n",
      "C    0.184194\n",
      "D    0.236832\n",
      "E    0.315890\n",
      "dtype: float64\n",
      "Step 25: \n",
      "A    0.105297\n",
      "B    0.157912\n",
      "C    0.184223\n",
      "D    0.236809\n",
      "E    0.315759\n",
      "dtype: float64\n",
      "Step 26: \n",
      "A    0.105253\n",
      "B    0.157901\n",
      "C    0.184209\n",
      "D    0.236871\n",
      "E    0.315765\n",
      "dtype: float64\n",
      "Step 27: \n",
      "A    0.105255\n",
      "B    0.157882\n",
      "C    0.184206\n",
      "D    0.236835\n",
      "E    0.315822\n",
      "dtype: float64\n",
      "Step 28: \n",
      "A    0.105274\n",
      "B    0.157902\n",
      "C    0.184215\n",
      "D    0.236833\n",
      "E    0.315776\n",
      "dtype: float64\n",
      "Step 29: \n",
      "A    0.105259\n",
      "B    0.157896\n",
      "C    0.184210\n",
      "D    0.236852\n",
      "E    0.315784\n",
      "dtype: float64\n",
      "Step 30: \n",
      "A    0.105261\n",
      "B    0.157891\n",
      "C    0.184209\n",
      "D    0.236839\n",
      "E    0.315800\n",
      "dtype: float64\n",
      "Step 31: \n",
      "A    0.105267\n",
      "B    0.157897\n",
      "C    0.184212\n",
      "D    0.236840\n",
      "E    0.315784\n",
      "dtype: float64\n",
      "Step 32: \n",
      "A    0.105261\n",
      "B    0.157895\n",
      "C    0.184210\n",
      "D    0.236845\n",
      "E    0.315789\n",
      "dtype: float64\n",
      "Step 33: \n",
      "A    0.105263\n",
      "B    0.157894\n",
      "C    0.184210\n",
      "D    0.236841\n",
      "E    0.315793\n",
      "dtype: float64\n",
      "Step 34: \n",
      "A    0.105264\n",
      "B    0.157896\n",
      "C    0.184211\n",
      "D    0.236842\n",
      "E    0.315788\n",
      "dtype: float64\n",
      "Step 35: \n",
      "A    0.105263\n",
      "B    0.157895\n",
      "C    0.184210\n",
      "D    0.236843\n",
      "E    0.315789\n",
      "dtype: float64\n",
      "Step 36: \n",
      "A    0.105263\n",
      "B    0.157895\n",
      "C    0.184210\n",
      "D    0.236843\n",
      "E    0.315789\n",
      "dtype: float64\n"
     ]
    }
   ],
   "source": [
    "# part e - run 10 steps of the power_iteration (RUN THIS CELL AS IS)\n",
    "xInit = np.array([1.0, 0, 0, 0, 0]) # note that this initial state will not affect the convergence states\n",
    "states = power_iteration(xInit, transition_matrix, 70, verbose = True)"
   ]
  },
  {
   "cell_type": "markdown",
   "metadata": {},
   "source": [
    "__`Expected Output for part e:`__  \n",
    ">Steady State Probabilities:\n",
    "```\n",
    "Node A: 0.10526316  \n",
    "Node B: 0.15789474  \n",
    "Node C: 0.18421053  \n",
    "Node D: 0.23684211  \n",
    "Node E: 0.31578947  \n",
    "```"
   ]
  },
  {
   "cell_type": "markdown",
   "metadata": {},
   "source": [
    "# Question 4: Page Rank Theory\n",
    "\n",
    "Seems easy right? Unfortunately applying this power iteration method directly to the web-graph actually runs into a few problems. In this question we'll tease apart what we meant by a 'nice graph' in Question 3 and highlight key modifications we'll have to make to the web-graph when performing PageRank. To start, we'll look at what goes wrong when we try to repeat our strategy from question 3 on a 'not nice' graph.\n",
    "\n",
    "__`Additional References:`__ http://pi.math.cornell.edu/~mec/Winter2009/RalucaRemus/Lecture3/lecture3.html\n",
    "\n",
    "### Q4 Tasks:\n",
    "\n",
    "* __a) code + short response:__ Run the provided code to create and plot our 'not nice' graph. Fill in the missing code to compute its transition matrix & run the power iteration method from question 3. What is wrong with what you see? [__`HINT:`__ _there is a visible underlying reason that it isn't converging... try adding up the probabilities in the state vector after each iteration._]\n",
    "\n",
    "* __b) short response:__  Identify the dangling node in this 'not nice' graph and explain how this node causes the problem you described in 'a'. How could we modify the transition matrix after each iteration to prevent this problem?\n",
    "\n",
    "* __c) short response:__ What does it mean for a graph to be irreducible? Is the webgraph naturally irreducible? Explain your reasoning briefly.\n",
    "\n",
    "* __d) short response:__ What does it mean for a graph to be aperiodic? Is the webgraph naturally aperiodic? Explain your reasoning briefly.\n",
    "\n",
    "* __e) short response:__ What modification to the webgraph does PageRank make in order to guarantee aperiodicity and irreducibility? Interpret this modification in terms of our random surfer analogy.\n"
   ]
  },
  {
   "cell_type": "markdown",
   "metadata": {},
   "source": [
    "### Q4 Student Answers:\n",
    "> __a)__ Type your answer here!\n",
    "\n",
    "> __b)__ Type your answer here!\n",
    "\n",
    "> __c)__ Type your answer here!\n",
    "\n",
    "> __d)__ Type your answer here!  \n",
    "\n",
    "> __e)__ Type your answer here!  \n"
   ]
  },
  {
   "cell_type": "code",
   "execution_count": 17,
   "metadata": {},
   "outputs": [],
   "source": [
    "# part a - run this code to create a second toy graph (RUN THIS CELL AS IS)\n",
    "TOY2_GRAPH = {'nodes':['A', 'B', 'C', 'D', 'E'],\n",
    "              'edges':[('A', 'B'), ('A', 'C'), ('A', 'D'), ('B', 'D'), \n",
    "                       ('B', 'E'), ('C', 'A'), ('C', 'E'), ('D', 'B')]}"
   ]
  },
  {
   "cell_type": "code",
   "execution_count": 21,
   "metadata": {},
   "outputs": [
    {
     "data": {
      "image/png": "[encoded data removed]",
      "text/plain": [
       "<Figure size 432x288 with 1 Axes>"
      ]
     },
     "metadata": {},
     "output_type": "display_data"
    }
   ],
   "source": [
    "# part a - simple visualization of our test graph using nx (RUN THIS CELL AS IS)\n",
    "G = nx.DiGraph()\n",
    "G.add_nodes_from(TOY2_GRAPH['nodes'])\n",
    "G.add_edges_from(TOY2_GRAPH['edges'])\n",
    "nx.draw(G, pos=nx.circular_layout(G), with_labels=True, alpha = 0.5)"
   ]
  },
  {
   "cell_type": "code",
   "execution_count": 22,
   "metadata": {},
   "outputs": [
    {
     "name": "stdout",
     "output_type": "stream",
     "text": [
      "     A         B         C         D    E\n",
      "A  0.0  0.333333  0.333333  0.333333  0.0\n",
      "B  0.0  0.000000  0.000000  0.500000  0.5\n",
      "C  0.5  0.000000  0.000000  0.000000  0.5\n",
      "D  0.0  1.000000  0.000000  0.000000  0.0\n",
      "E  NaN       NaN       NaN       NaN  NaN\n",
      "Step 0: \n",
      "A   NaN\n",
      "B   NaN\n",
      "C   NaN\n",
      "D   NaN\n",
      "E   NaN\n",
      "dtype: float64\n",
      "Step 1: \n",
      "A   NaN\n",
      "B   NaN\n",
      "C   NaN\n",
      "D   NaN\n",
      "E   NaN\n",
      "dtype: float64\n",
      "Step 2: \n",
      "A   NaN\n",
      "B   NaN\n",
      "C   NaN\n",
      "D   NaN\n",
      "E   NaN\n",
      "dtype: float64\n",
      "Step 3: \n",
      "A   NaN\n",
      "B   NaN\n",
      "C   NaN\n",
      "D   NaN\n",
      "E   NaN\n",
      "dtype: float64\n",
      "Step 4: \n",
      "A   NaN\n",
      "B   NaN\n",
      "C   NaN\n",
      "D   NaN\n",
      "E   NaN\n",
      "dtype: float64\n",
      "Step 5: \n",
      "A   NaN\n",
      "B   NaN\n",
      "C   NaN\n",
      "D   NaN\n",
      "E   NaN\n",
      "dtype: float64\n",
      "Step 6: \n",
      "A   NaN\n",
      "B   NaN\n",
      "C   NaN\n",
      "D   NaN\n",
      "E   NaN\n",
      "dtype: float64\n",
      "Step 7: \n",
      "A   NaN\n",
      "B   NaN\n",
      "C   NaN\n",
      "D   NaN\n",
      "E   NaN\n",
      "dtype: float64\n",
      "Step 8: \n",
      "A   NaN\n",
      "B   NaN\n",
      "C   NaN\n",
      "D   NaN\n",
      "E   NaN\n",
      "dtype: float64\n",
      "Step 9: \n",
      "A   NaN\n",
      "B   NaN\n",
      "C   NaN\n",
      "D   NaN\n",
      "E   NaN\n",
      "dtype: float64\n"
     ]
    }
   ],
   "source": [
    "# part a - run 10 steps of the power iteration method here\n",
    "# HINT: feel free to use the functions get_adj_matr() and power_iteration() you wrote above\n",
    "################ YOUR CODE HERE #################\n",
    "TOY2_ADJ_MATR = get_adj_matr(TOY2_GRAPH)\n",
    "\n",
    "t_matrix2 = pd.DataFrame(0, columns = TOY2_ADJ_MATR.columns, index = TOY2_ADJ_MATR.index)\n",
    "row_total = TOY2_ADJ_MATR.sum(axis=1)\n",
    "for i in range(TOY_ADJ_MATR.shape[0]):\n",
    "    t_matrix2[i:i+1] = TOY2_ADJ_MATR[i:i+1]/row_total[i]\n",
    "\n",
    "print(t_matrix2)\n",
    "\n",
    "xInit = np.array([1.0, 0, 0, 0, 0]) # note that this initial state will not affect the convergence states\n",
    "states = power_iteration(xInit, t_matrix2, 10, verbose = True)\n",
    "\n",
    "\n",
    "################ (END) YOUR CODE #################"
   ]
  },
  {
   "cell_type": "markdown",
   "metadata": {},
   "source": [
    "# About the Data\n",
    "The main dataset for this data consists of a subset of a 500GB dataset released by AWS in 2009. The data includes the source and metadata for all of the Wikimedia wikis. You can read more here: \n",
    "> https://aws.amazon.com/blogs/aws/new-public-data-set-wikipedia-xml-data. \n",
    "\n",
    "As in previous homeworks we'll be using a 2GB subset of this data, which is available to you in this dropbox folder: \n",
    "> https://www.dropbox.com/sh/2c0k5adwz36lkcw/AAAAKsjQfF9uHfv-X9mCqr9wa?dl=0. \n",
    "\n",
    "Use the cells below to download the wikipedia data and a test file for use in developing your PageRank implementation(note that we'll use the 'indexed out' version of the graph) and to take a look at the files.\n",
    "\n",
    "__IMPORTANT NOTE:__ For Question 8, when working with the full dataset, you will need to submit a .py script to the cluster. Please follow the instructions provided and Office Hour recordings, if you need help with this. "
   ]
  },
  {
   "cell_type": "code",
   "execution_count": 23,
   "metadata": {},
   "outputs": [],
   "source": [
    "# create a data directory (RUN THIS CELL AS IS)\n",
    "!mkdir data"
   ]
  },
  {
   "cell_type": "code",
   "execution_count": 24,
   "metadata": {},
   "outputs": [],
   "source": [
    "# download the test data set (RUN THIS CELL AS IS)\n",
    "!wget -q -O data/test_graph.txt https://www.dropbox.com/sh/2c0k5adwz36lkcw/AACf_33TeM7rKfEhjEoNmMCaa/PageRank-test_indexed.txt?dl=0"
   ]
  },
  {
   "cell_type": "code",
   "execution_count": 25,
   "metadata": {},
   "outputs": [
    {
     "name": "stdout",
     "output_type": "stream",
     "text": [
      "2\t{'3': 1}\n",
      "3\t{'2': 1}\n",
      "4\t{'1': 1, '2': 1}\n",
      "5\t{'4': 1, '2': 1, '6': 1}\n",
      "6\t{'2': 1, '5': 1}\n",
      "7\t{'2': 1, '5': 1}\n",
      "8\t{'2': 1, '5': 1}\n",
      "9\t{'2': 1, '5': 1}\n",
      "10\t{'5': 1}\n",
      "11\t{'5': 1}\n"
     ]
    }
   ],
   "source": [
    "# take a look (RUN THIS CELL AS IS)\n",
    "!cat data/test_graph.txt"
   ]
  },
  {
   "cell_type": "code",
   "execution_count": 26,
   "metadata": {},
   "outputs": [],
   "source": [
    "# download the main data set - this may take a little time (RUN THIS CELL AS IS)\n",
    "!wget -q -O data/wiki_graph.txt https://www.dropbox.com/sh/2c0k5adwz36lkcw/AAAD7I_6kQlJtDpXZPhCfVH-a/wikipedia/all-pages-indexed-out.txt?dl=0"
   ]
  },
  {
   "cell_type": "code",
   "execution_count": 27,
   "metadata": {},
   "outputs": [
    {
     "name": "stdout",
     "output_type": "stream",
     "text": [
      "73\t{'14417532': 1}\n",
      "299\t{'4214575': 1}\n",
      "2552\t{'15043376': 1, '13430968': 1, '13451035': 1, '7263397': 1, '13001625': 1, '13443575': 1, '13451269': 1, '13432316': 1, '11623371': 1, '15028971': 1, '13425865': 1, '15042703': 1, '5051368': 1, '9854998': 2, '13442976': 1, '13315025': 1, '2992307': 1, '1054486': 1, '1322325': 1, '13450983': 1}\n",
      "2570\t{'983991': 1}\n",
      "2616\t{'9045350': 1}\n",
      "2711\t{'752887': 1}\n",
      "2818\t{'3534183': 1}\n",
      "2847\t{'3797918': 1}\n",
      "2892\t{'2893': 1}\n",
      "2921\t{'5158607': 1, '6007184': 1, '14773825': 1, '11777840': 2, '9285165': 1, '6420484': 1, '14670682': 1, '7316613': 1, '7125893': 1, '14965920': 1, '14229952': 1, '9447742': 2, '1425342': 1, '11390944': 2, '5141': 1, '14928135': 2, '13636570': 3, '14687433': 1, '15105458': 1, '11656072': 1, '6420027': 1, '10898196': 1, '6416278': 1, '11497740': 2}\n"
     ]
    }
   ],
   "source": [
    "# take a look (RUN THIS CELL AS IS)\n",
    "!head data/wiki_graph.txt"
   ]
  },
  {
   "cell_type": "code",
   "execution_count": 28,
   "metadata": {},
   "outputs": [],
   "source": [
    "# download the indexes (RUN THIS CELL AS IS)\n",
    "!wget -q -O data/indices.txt https://www.dropbox.com/sh/2c0k5adwz36lkcw/AADSYhyRXbgebRDy6ALl6O1ca/wikipedia/indices.txt?dl=0"
   ]
  },
  {
   "cell_type": "code",
   "execution_count": 29,
   "metadata": {},
   "outputs": [
    {
     "name": "stdout",
     "output_type": "stream",
     "text": [
      "! $var = &quot;&quot;\t1\t1\t0\n",
      "! (CONFIG.SYS directive)\t2\t1\t1\n",
      "! (album)\t3\t12\t17\n",
      "! (disambiguation)\t4\t1\t20\n",
      "! -attention-\t5\t1\t0\n",
      "! Time Zone\t6\t1\t0\n",
      "!! (chess)\t7\t0\t1\n",
      "!! (disambiguation)\t8\t3\t0\n",
      "!!! (Chk Chk Chk)\t9\t1\t0\n",
      "!!! (album)\t10\t5\t15\n"
     ]
    }
   ],
   "source": [
    "# take a look (RUN THIS CELL AS IS)\n",
    "!head data/indices.txt"
   ]
  },
  {
   "cell_type": "code",
   "execution_count": 14,
   "metadata": {},
   "outputs": [],
   "source": [
    "# load the data into Spark RDDs for convenience of use later (RUN THIS CELL AS IS)\n",
    "testRDD = sc.textFile('data/test_graph.txt')\n",
    "indexRDD = sc.textFile('data/indices.txt')\n",
    "wikiRDD = sc.textFile('data/wiki_graph.txt')"
   ]
  },
  {
   "cell_type": "markdown",
   "metadata": {},
   "source": [
    "# Question 5: EDA part 1 (number of nodes)\n",
    "\n",
    "As usual, before we dive in to the main analysis, we'll peform some exploratory data anlysis to understand our dataset. Please use the test graph that you downloaded to test all your code before running the full dataset.\n",
    "\n",
    "### Q5 Tasks:\n",
    "* __a) short response:__ In what format is the raw data? What does the first value represent? What does the second part of each line represent? [__`HINT:`__ _no need to go digging here, just visually inspect the outputs of the head commands that we ran after loading the data above._]\n",
    "\n",
    "* __b) code + short response:__ Run the provided bash command to count the number of records in the raw dataset. Explain why this is _not_ the same as the number of total nodes in the graph.\n",
    "\n",
    "* __c) code:__ In the space provided below write a Spark job to count the _total number_ of nodes in this graph. \n",
    "\n",
    "* __d) short response:__ How many dangling nodes are there in this wikipedia graph? [__`HINT:`__ _you should not need any code to answer this question._]"
   ]
  },
  {
   "cell_type": "markdown",
   "metadata": {},
   "source": [
    "### Q5 Student Answers:\n",
    "> __a)__ The format of the raw data is an adjacency list. All nodes are represented as unique numbers. The first value is the numerical node label. The second part of each line is the list of neighboring nodes and the weight of the edges. \n",
    "\n",
    "> __b)__ The number of records in the raw dataset is the number of entries in the adjacency list. It is not the same as the number of total nodes because the adjacency list only includes nodes that have neighbors. Dangling nodes will not show up in the adjacency list but dangling nodes should count toward the total number of nodes.\n",
    "\n",
    "> __d)__ The number of dangling nodes is the difference between the total number of nodes and the total number of lines in the adjacency list, which is 15,192,274 - 5,781,290 = 9,410,984\n"
   ]
  },
  {
   "cell_type": "code",
   "execution_count": 15,
   "metadata": {},
   "outputs": [
    {
     "name": "stdout",
     "output_type": "stream",
     "text": [
      "5781290 data/wiki_graph.txt\n"
     ]
    }
   ],
   "source": [
    "# part b - count the number of records in the raw data (RUN THIS CELL AS IS)\n",
    "!wc -l data/wiki_graph.txt"
   ]
  },
  {
   "cell_type": "code",
   "execution_count": 25,
   "metadata": {},
   "outputs": [],
   "source": [
    "# part c - write your Spark job here (compute total number of nodes)\n",
    "def count_nodes(dataRDD):\n",
    "    \"\"\"\n",
    "    Spark job to count the total number of nodes.\n",
    "    Returns: integer count \n",
    "    \"\"\"    \n",
    "    ############## YOUR CODE HERE ###############\n",
    "    # Tokenize each line, take the first element (the node label),\n",
    "    # convert the node label to an integer and take the max of \n",
    "    # the node label. This should be the total number of nodes\n",
    "    # assuming the node label increases by 1.\n",
    "    totalCount = dataRDD.map(lambda x: int(x.split('\\t')[0])) \\\n",
    "                        .max()\n",
    "    \n",
    "    ############## (END) YOUR CODE ###############   \n",
    "    return totalCount"
   ]
  },
  {
   "cell_type": "code",
   "execution_count": 26,
   "metadata": {},
   "outputs": [
    {
     "name": "stdout",
     "output_type": "stream",
     "text": [
      "... completed job in 0.11620736122131348 seconds.\n",
      "Total Nodes: 11\n"
     ]
    }
   ],
   "source": [
    "# part c - run your counting job on the test file (RUN THIS CELL AS IS)\n",
    "start = time.time()\n",
    "tot = count_nodes(testRDD)\n",
    "print(f'... completed job in {time.time() - start} seconds.')\n",
    "print(f'Total Nodes: {tot}')"
   ]
  },
  {
   "cell_type": "code",
   "execution_count": 27,
   "metadata": {},
   "outputs": [
    {
     "name": "stdout",
     "output_type": "stream",
     "text": [
      "... completed job in 11.624854564666748 seconds.\n",
      "Total Nodes: 15192274\n"
     ]
    }
   ],
   "source": [
    "# part c - run your counting job on the full file (RUN THIS CELL AS IS)\n",
    "start = time.time()\n",
    "tot = count_nodes(wikiRDD)\n",
    "print(f'... completed job in {time.time() - start} seconds.')\n",
    "print(f'Total Nodes: {tot}')"
   ]
  },
  {
   "cell_type": "markdown",
   "metadata": {},
   "source": [
    "# Question 6 - EDA part 2 (out-degree distribution)\n",
    "\n",
    "As you've seen in previous homeworks the computational complexity of an implementation depends not only on the number of records in the original dataset but also on the number of records we create and shuffle in our intermediate representation of the data. The number of intermediate records required to update PageRank is related to the number of edges in the graph. In this question you'll compute the average number of hyperlinks on each page in this data and visualize a distribution for these counts (the out-degree of the nodes). \n",
    "\n",
    "### Q6 Tasks:\n",
    "* __a) code:__ In the space provided below write a Spark job to stream over the data and compute all of the following information:\n",
    " * count the out-degree of each non-dangling node and return the names of the top 10 pages with the most hyperlinks\n",
    " * find the average out-degree for all non-dangling nodes in the graph\n",
    " * take a 1000 point sample of these out-degree counts and plot a histogram of the result. \n",
    " \n",
    " \n",
    "* __b) short response:__ In the context of the PageRank algorithm, how is information about a node's out degree used?\n",
    "\n",
    "* __c) short response:__ What does it mean if a node's out-degree is 0? In PageRank how will we handle these nodes differently than others?\n",
    " \n",
    "__`NOTE:`__ Please observe scalability best practices in the design of your code & comment your work clearly. You will be graded on both the clarity and the design."
   ]
  },
  {
   "cell_type": "markdown",
   "metadata": {},
   "source": [
    "### Q6 Student Answers:\n",
    "\n",
    "> __b)__ Type your answer here! \n",
    "\n",
    "> __c)__ Type your answer here! "
   ]
  },
  {
   "cell_type": "code",
   "execution_count": 56,
   "metadata": {},
   "outputs": [],
   "source": [
    "# part a - write your Spark job here (compute average in-degree, etc)\n",
    "def count_degree(dataRDD, n):\n",
    "    \"\"\"\n",
    "    Function to analyze out-degree of nodes in a a graph.\n",
    "    Returns: \n",
    "        top  - (list of 10 tuples) nodes with most edges\n",
    "        avgDegree - (float) average out-degree for non-dangling nodes\n",
    "        sampledCounts - (list of integers) out-degree for n randomly sampled non-dangling nodes\n",
    "    \"\"\"\n",
    "    # helper func\n",
    "    def parse(line):\n",
    "        node, edges = line.split('\\t')\n",
    "        return (node, ast.literal_eval(edges))\n",
    "    \n",
    "    ############## YOUR CODE HERE ###############\n",
    "\n",
    "    # Tokenize each line \n",
    "    result = dataRDD.map(parse) \\\n",
    "                    .map(lambda x: (x[0], sum(x[1].values()))) \\\n",
    "                    .cache()\n",
    "    \n",
    "   # result_count_only = result.map(lambda x: x[1])\n",
    "    \n",
    "    sampledCounts = result.map(lambda x: x[1]) \\\n",
    "                          .takeSample(False, n, 25) \n",
    "                          \n",
    "    top = result.takeOrdered(n, key=lambda x: -x[1]) \n",
    "#                .map(lambda x: x[0])\n",
    "    avgDegree = result.map(lambda x: x[1]) \\\n",
    "                      .mean()\n",
    "    ############## (END) YOUR CODE ###############\n",
    "    \n",
    "    return top, avgDegree, sampledCounts"
   ]
  },
  {
   "cell_type": "code",
   "execution_count": 43,
   "metadata": {},
   "outputs": [
    {
     "data": {
      "text/plain": [
       "[('2', 1), ('3', 1), ('4', 2), ('5', 3), ('6', 2)]"
      ]
     },
     "execution_count": 43,
     "metadata": {},
     "output_type": "execute_result"
    }
   ],
   "source": [
    "#test_results = count_degree(testRDD,10) #\n",
    "def parse(line):\n",
    "    node, edges = line.split('\\t')\n",
    "    return (node, ast.literal_eval(edges))\n",
    "result = testRDD.map(parse) \\\n",
    "                .map(lambda x: (x[0], sum(x[1].values())))\n",
    "result.take(5)"
   ]
  },
  {
   "cell_type": "code",
   "execution_count": 57,
   "metadata": {},
   "outputs": [
    {
     "name": "stdout",
     "output_type": "stream",
     "text": [
      "... completed job in 0.418750524520874 seconds\n",
      "Average out-degree:  1.7\n",
      "Top 10 nodes (by out-degree:)\n",
      " [('5', 3), ('4', 2), ('6', 2), ('7', 2), ('8', 2), ('9', 2), ('2', 1), ('3', 1), ('10', 1), ('11', 1)]\n"
     ]
    },
    {
     "data": {
      "image/png": "[encoded data removed]",
      "text/plain": [
       "<Figure size 432x288 with 1 Axes>"
      ]
     },
     "metadata": {},
     "output_type": "display_data"
    }
   ],
   "source": [
    "# part a - run your job on the test file (RUN THIS CELL AS IS)\n",
    "start = time.time()\n",
    "test_results = count_degree(testRDD,10)\n",
    "print(f\"... completed job in {time.time() - start} seconds\")\n",
    "print(\"Average out-degree: \", test_results[1])\n",
    "print(\"Top 10 nodes (by out-degree:)\\n\", test_results[0])\n",
    "plt.hist(test_results[2], bins=10)\n",
    "plt.title(\"Distribution of Out-Degree\")\n",
    "plt.show()"
   ]
  },
  {
   "cell_type": "code",
   "execution_count": 58,
   "metadata": {},
   "outputs": [
    {
     "name": "stdout",
     "output_type": "stream",
     "text": [
      "... completed job in 155.28913831710815 seconds\n",
      "Average out-degree:  32.04181575392335\n",
      "Top 10 nodes (by out-degree:)\n",
      " [('7804599', 9347), ('7858931', 8910), ('11185362', 8837), ('7705822', 8142), ('5760310', 7649), ('7865920', 7608), ('7819767', 7278), ('7883280', 7231), ('13035895', 7126), ('7880980', 6904), ('7909437', 6599), ('7810869', 6486), ('7846493', 6386), ('7841582', 6379), ('7768780', 6211), ('7820711', 6180), ('7861935', 6102), ('6075450', 6021), ('7884831', 6005), ('7777185', 5984), ('7803276', 5881), ('6074992', 5870), ('434078', 5856), ('7828359', 5853), ('7773411', 5806), ('7834538', 5788), ('10526976', 5772), ('7828391', 5606), ('1008643', 5599), ('7873008', 5595), ('7812439', 5554), ('7881486', 5552), ('7773479', 5523), ('7820535', 5520), ('7871067', 5517), ('7882833', 5504), ('7902703', 5471), ('7847103', 5449), ('5988470', 5421), ('7872661', 5419), ('7914303', 5369), ('5988469', 5363), ('7848337', 5344), ('11670785', 5341), ('7884903', 5234), ('6075178', 5217), ('6075732', 5183), ('7831837', 5162), ('7839409', 5112), ('6835653', 5103), ('7803274', 5081), ('7785602', 5054), ('9643124', 5026), ('7911689', 4983), ('9643132', 4969), ('7887218', 4890), ('7911235', 4881), ('7884931', 4860), ('7727417', 4859), ('7810198', 4838), ('7854241', 4830), ('10852744', 4783), ('7848322', 4768), ('7850777', 4708), ('7884930', 4683), ('8353825', 4640), ('7885241', 4594), ('11670104', 4592), ('7870424', 4591), ('7909901', 4572), ('7865253', 4559), ('7832957', 4557), ('7780859', 4548), ('7818538', 4516), ('7808359', 4506), ('1499631', 4497), ('7821232', 4480), ('7818786', 4475), ('7705731', 4469), ('7730890', 4388), ('7771799', 4381), ('7723295', 4375), ('7910325', 4344), ('7924296', 4342), ('7842595', 4316), ('7718040', 4262), ('7848357', 4233), ('417917', 4216), ('7848397', 4209), ('5988430', 4198), ('7828342', 4198), ('8353819', 4192), ('7828361', 4172), ('7911901', 4165), ('7847637', 4154), ('7913908', 4136), ('7871687', 4126), ('7700951', 4110), ('7888805', 4096), ('7884835', 4092), ('9160075', 4085), ('7805430', 4069), ('1085485', 4068), ('3544227', 4064), ('7895366', 4061), ('7862604', 3992), ('7846598', 3984), ('6412827', 3975), ('7913337', 3967), ('231671', 3959), ('2872120', 3955), ('7798689', 3944), ('7848743', 3904), ('7808617', 3896), ('7886237', 3883), ('210273', 3866), ('7848777', 3862), ('9579460', 3856), ('7753557', 3852), ('7809554', 3844), ('12600698', 3840), ('3208264', 3827), ('11670102', 3819), ('7700893', 3809), ('7885223', 3805), ('7729133', 3795), ('6835647', 3780), ('7865486', 3780), ('7850847', 3769), ('7872026', 3767), ('7804983', 3767), ('7848363', 3762), ('7766806', 3751), ('7810354', 3746), ('10840883', 3714), ('7907670', 3712), ('13034432', 3700), ('6075694', 3687), ('7883781', 3686), ('7725278', 3683), ('7884250', 3661), ('8565898', 3657), ('1436267', 3652), ('253171', 3647), ('5761250', 3641), ('7753531', 3626), ('7835185', 3616), ('7766871', 3601), ('7753564', 3597), ('7828384', 3592), ('215215', 3588), ('4414287', 3585), ('7908653', 3582), ('7829195', 3581), ('7888984', 3578), ('7753562', 3576), ('7739442', 3564), ('7716746', 3555), ('7803543', 3549), ('12917366', 3541), ('6412821', 3529), ('267405', 3526), ('291984', 3524), ('6075471', 3522), ('436883', 3512), ('4412439', 3511), ('6075569', 3507), ('2439781', 3496), ('7705812', 3488), ('7807492', 3488), ('7895370', 3486), ('398537', 3486), ('7805565', 3483), ('5195853', 3483), ('205348', 3483), ('7753538', 3479), ('385853', 3469), ('8565906', 3458), ('7885270', 3458), ('7705642', 3452), ('7737307', 3449), ('3544237', 3449), ('7812280', 3441), ('7827295', 3436), ('7725421', 3435), ('7704282', 3431), ('7831825', 3430), ('6075039', 3427), ('7780520', 3425), ('7842303', 3412), ('7753575', 3409), ('7834471', 3396), ('7754702', 3378), ('349979', 3377), ('7753532', 3375), ('403781', 3370), ('7885752', 3369), ('332025', 3368), ('9164285', 3368), ('7871574', 3357), ('7872896', 3356), ('7894899', 3353), ('7890380', 3350), ('8642302', 3348), ('200869', 3342), ('6075734', 3340), ('13036114', 3339), ('7720650', 3338), ('7851351', 3337), ('7817095', 3335), ('7883735', 3327), ('7819124', 3323), ('7704300', 3321), ('2148346', 3320), ('7804759', 3320), ('5988449', 3315), ('8565879', 3314), ('3544213', 3303), ('7740815', 3291), ('11852557', 3287), ('7756960', 3285), ('7909331', 3284), ('7767847', 3277), ('7895373', 3277), ('2797612', 3274), ('7871618', 3261), ('7848413', 3256), ('11670095', 3254), ('345297', 3248), ('7848720', 3248), ('7861244', 3246), ('5988461', 3243), ('7847630', 3239), ('7701000', 3236), ('7892655', 3235), ('7878737', 3232), ('7704250', 3232), ('417878', 3225), ('13034259', 3224), ('7873075', 3217), ('7913103', 3215), ('423008', 3213), ('7746916', 3213), ('7886086', 3212), ('7700849', 3207), ('7766805', 3207), ('7718039', 3205), ('7721300', 3203), ('7914270', 3201), ('9579454', 3200), ('7812370', 3198), ('13450108', 3196), ('7883461', 3194), ('7912072', 3190), ('7736589', 3189), ('7820037', 3189), ('246861', 3185), ('417606', 3183), ('7753554', 3179), ('6075421', 3170), ('4500017', 3166), ('7891842', 3158), ('7900831', 3157), ('327634', 3155), ('7884106', 3153), ('7786281', 3152), ('7788135', 3149), ('2396426', 3149), ('13035773', 3144), ('7861276', 3140), ('7848339', 3127), ('2396424', 3124), ('7766951', 3118), ('7885838', 3118), ('7872776', 3117), ('196838', 3117), ('7828368', 3116), ('7719170', 3112), ('7881201', 3108), ('7763653', 3107), ('7916362', 3107), ('1291831', 3101), ('1291840', 3095), ('398248', 3092), ('7832192', 3091), ('7710356', 3081), ('7815201', 3076), ('9643113', 3074), ('7882794', 3073), ('7884978', 3071), ('7839380', 3069), ('7908680', 3059), ('7901173', 3052), ('7881576', 3052), ('7767959', 3051), ('260452', 3048), ('6839690', 3043), ('7755615', 3035), ('9579467', 3029), ('6075730', 3027), ('8353802', 3023), ('7772379', 3015), ('7820039', 3014), ('434102', 3014), ('7705641', 3013), ('13626192', 3000), ('12512164', 2997), ('7753517', 2996), ('380661', 2994), ('7893261', 2994), ('7800531', 2974), ('6075728', 2973), ('7881106', 2956), ('7851228', 2956), ('12389576', 2947), ('380909', 2943), ('7805503', 2942), ('7864085', 2941), ('434049', 2937), ('7701079', 2937), ('7772377', 2937), ('784055', 2936), ('7828400', 2935), ('7747700', 2928), ('8996040', 2927), ('398277', 2923), ('7848916', 2922), ('7888310', 2919), ('7844365', 2917), ('13035524', 2916), ('7744733', 2909), ('7745109', 2909), ('7916870', 2907), ('193083', 2897), ('7906454', 2894), ('7708568', 2893), ('6075054', 2891), ('13318450', 2887), ('7909055', 2886), ('7812295', 2882), ('7864528', 2873), ('7759524', 2871), ('3723035', 2868), ('7850344', 2865), ('267422', 2865), ('1573335', 2862), ('7828365', 2861), ('7911561', 2856), ('9086712', 2852), ('7790923', 2852), ('7820951', 2849), ('7902506', 2847), ('7846495', 2844), ('7736563', 2844), ('11246153', 2840), ('7911804', 2839), ('7815250', 2832), ('7801196', 2831), ('7908675', 2826), ('7908879', 2825), ('351600', 2824), ('7854334', 2824), ('10915092', 2820), ('7753565', 2819), ('13037026', 2819), ('7727193', 2818), ('7054167', 2815), ('7911548', 2815), ('274751', 2810), ('370553', 2806), ('7871699', 2805), ('387389', 2804), ('7840418', 2804), ('7812306', 2802), ('7842391', 2799), ('7821836', 2799), ('7832392', 2798), ('7815408', 2796), ('405426', 2796), ('7808225', 2794), ('7883736', 2794), ('220371', 2789), ('7828340', 2788), ('154981', 2787), ('7833730', 2787), ('7744262', 2781), ('7908880', 2777), ('7911564', 2776), ('7846497', 2771), ('7834355', 2768), ('7909330', 2767), ('7789417', 2765), ('5988451', 2765), ('7911556', 2763), ('7766898', 2761), ('7893264', 2756), ('7747950', 2752), ('363932', 2744), ('189223', 2743), ('7856824', 2742), ('7784745', 2739), ('7828350', 2739), ('13725476', 2733), ('6075139', 2729), ('7885756', 2727), ('7846196', 2726), ('7829199', 2717), ('4346951', 2717), ('4536916', 2716), ('7792624', 2715), ('7763855', 2714), ('7840557', 2712), ('7790826', 2712), ('7702707', 2710), ('363984', 2709), ('7846989', 2709), ('7908876', 2708), ('7755093', 2708), ('7819149', 2707), ('6075716', 2702), ('8258142', 2701), ('7803552', 2701), ('253189', 2700), ('7791412', 2694), ('7871188', 2689), ('6233061', 2687), ('7924265', 2681), ('7807688', 2679), ('7761048', 2677), ('345063', 2674), ('7745207', 2669), ('7771112', 2667), ('7922456', 2666), ('7810214', 2666), ('318108', 2664), ('7731420', 2663), ('7840881', 2663), ('7848473', 2662), ('7842851', 2661), ('7788181', 2660), ('7768963', 2657), ('6075661', 2656), ('7847263', 2654), ('7708110', 2652), ('7900425', 2651), ('6075018', 2646), ('7909014', 2646), ('7871684', 2645), ('6075596', 2643), ('7820014', 2639), ('14106442', 2639), ('305806', 2637), ('7710582', 2630), ('7827684', 2625), ('13442428', 2625), ('7828360', 2618), ('7888465', 2615), ('7705681', 2614), ('2797581', 2610), ('7913058', 2607), ('7873909', 2607), ('7878981', 2598), ('7846603', 2597), ('7777301', 2592), ('7883460', 2582), ('7875030', 2582), ('7891375', 2577), ('390043', 2576), ('8793304', 2575), ('7753582', 2575), ('5522990', 2567), ('7846926', 2565), ('3544194', 2564), ('7857111', 2562), ('7895363', 2562), ('7789517', 2559), ('7840864', 2557), ('7873059', 2554), ('7916789', 2553), ('7848338', 2550), ('7758556', 2549), ('7702677', 2548), ('417629', 2548), ('7883932', 2546), ('7828676', 2545), ('260469', 2542), ('3820749', 2537), ('7739256', 2536), ('7871676', 2536), ('10271070', 2536), ('7773441', 2534), ('7753524', 2532), ('7737034', 2532), ('7867787', 2532), ('282427', 2528), ('417849', 2528), ('7812421', 2523), ('7911475', 2523), ('13036018', 2523), ('7913796', 2522), ('7783580', 2520), ('4852601', 2519), ('6839678', 2519), ('7700794', 2519), ('8697738', 2518), ('7895359', 2517), ('7893657', 2514), ('10926049', 2514), ('7841232', 2514), ('7912075', 2512), ('7731303', 2510), ('8685310', 2509), ('7769057', 2509), ('7848364', 2509), ('7873915', 2505), ('7731301', 2504), ('7891430', 2504), ('363760', 2503), ('7753521', 2502), ('3284894', 2502), ('7911550', 2499), ('7846748', 2495), ('7780769', 2494), ('7861927', 2490), ('7879517', 2489), ('90640', 2485), ('7827504', 2482), ('9562907', 2480), ('7798288', 2478), ('13441626', 2477), ('7855962', 2477), ('2437576', 2471), ('6412837', 2469), ('7745547', 2469), ('7702526', 2467), ('13450034', 2465), ('7774414', 2464), ('7813817', 2461), ('7783213', 2460), ('7755284', 2458), ('7859086', 2457), ('13491149', 2454), ('7902646', 2454), ('7753542', 2453), ('4897539', 2451), ('7846080', 2448), ('7719345', 2447), ('7806814', 2446), ('2155391', 2445), ('7753514', 2441), ('7803278', 2441), ('7848343', 2437), ('7871425', 2437), ('313771', 2436), ('3140248', 2434), ('7705640', 2433), ('7758023', 2429), ('7791475', 2428), ('7910861', 2428), ('7912136', 2428), ('1291817', 2428), ('10641199', 2426), ('398575', 2426), ('9164307', 2426), ('8732125', 2424), ('2204243', 2419), ('7832202', 2415), ('5195852', 2408), ('9579411', 2406), ('7871728', 2406), ('430356', 2405), ('4500012', 2405), ('7703580', 2404), ('7848958', 2403), ('7911511', 2401), ('13694693', 2400), ('7753563', 2398), ('10612000', 2398), ('7705487', 2398), ('6412811', 2397), ('4661348', 2396), ('7879519', 2396), ('185182', 2394), ('392635', 2393), ('7883961', 2391), ('2871978', 2390), ('7882896', 2389), ('8427082', 2389), ('7908687', 2384), ('5123749', 2384), ('7819239', 2382), ('7895356', 2380), ('372247', 2378), ('193152', 2377), ('7809567', 2376), ('7848407', 2375), ('12834253', 2374), ('7753579', 2374), ('5988412', 2371), ('7796715', 2370), ('355324', 2370), ('9882625', 2368), ('189276', 2368), ('7895365', 2366), ('408161', 2366), ('231689', 2360), ('7709018', 2359), ('7808606', 2357), ('7809709', 2355), ('7719388', 2355), ('7849785', 2354), ('7846624', 2354), ('1499617', 2353), ('380640', 2353), ('7901161', 2352), ('7731302', 2349), ('5195847', 2345), ('7776808', 2340), ('14108182', 2339), ('7786336', 2336), ('6075595', 2335), ('415258', 2335), ('7812348', 2333), ('394514', 2333), ('7752626', 2332), ('7842989', 2325), ('7809815', 2323), ('7888480', 2323), ('7763709', 2322), ('7907727', 2320), ('7873349', 2320), ('7764473', 2319), ('7702751', 2318), ('7757180', 2315), ('7848353', 2315), ('7852726', 2314), ('7856979', 2313), ('7886320', 2309), ('13035665', 2308), ('7915867', 2308), ('11574472', 2307), ('14060999', 2306), ('7854337', 2305), ('429203', 2304), ('7895345', 2303), ('3615547', 2302), ('6084946', 2296), ('7702719', 2296), ('5195517', 2291), ('7901500', 2289), ('7798385', 2288), ('979465', 2288), ('6076575', 2288), ('7820808', 2288), ('6839669', 2287), ('7879580', 2285), ('7793647', 2285), ('7910419', 2283), ('5769293', 2274), ('411451', 2273), ('7767207', 2273), ('7861392', 2271), ('7720653', 2270), ('7780886', 2269), ('344412', 2266), ('7737480', 2266), ('7916824', 2265), ('7883458', 2264), ('7738027', 2264), ('6075556', 2264), ('7790831', 2263), ('7902838', 2262), ('5231738', 2261), ('7911551', 2260), ('246879', 2257), ('7752816', 2255), ('7895339', 2255), ('7828705', 2252), ('7827879', 2252), ('357250', 2251), ('7772318', 2250), ('662008', 2247), ('7702435', 2244), ('7766792', 2242), ('7753544', 2242), ('7885177', 2242), ('7735466', 2241), ('7809766', 2240), ('5763390', 2239), ('7848403', 2239), ('7902453', 2239), ('7911509', 2238), ('7764524', 2238), ('7702725', 2238), ('7731288', 2237), ('434090', 2237), ('7848404', 2237), ('7702793', 2237), ('7769516', 2235), ('7871422', 2235), ('220387', 2235), ('100909', 2233), ('9579441', 2233), ('7754350', 2230), ('7902352', 2228), ('10641198', 2227), ('7786459', 2226), ('7888327', 2226), ('7922336', 2225), ('7719346', 2222), ('7895344', 2222), ('433811', 2222), ('7745102', 2222), ('7809547', 2222), ('7753553', 2222), ('7820087', 2221), ('13891774', 2220), ('7705506', 2220), ('401410', 2219), ('7820327', 2215), ('7811987', 2212), ('7700641', 2212), ('7814616', 2211), ('7790512', 2208), ('7828442', 2207), ('7809173', 2206), ('7893235', 2205), ('7884183', 2205), ('7885760', 2203), ('7777139', 2202), ('7734010', 2201), ('7720652', 2201), ('7805207', 2198), ('7908881', 2198), ('7848358', 2197), ('7780474', 2196), ('7835224', 2195), ('7885190', 2193), ('7798717', 2193), ('7705735', 2192), ('7755617', 2191), ('354406', 2191), ('13442416', 2188), ('225923', 2187), ('7856227', 2186), ('13036676', 2185), ('7813411', 2185), ('7704240', 2184), ('7859377', 2183), ('1913881', 2183), ('7841528', 2181), ('7752348', 2180), ('7888925', 2178), ('977904', 2177), ('7902934', 2177), ('3450366', 2176), ('1575749', 2175), ('7873110', 2174), ('7700438', 2173), ('7909918', 2169), ('14261007', 2168), ('7720658', 2166), ('136509', 2166), ('248871', 2164), ('7819997', 2163), ('394551', 2163), ('3178760', 2163), ('7715062', 2162), ('357252', 2162), ('7730703', 2162), ('7891162', 2160), ('7857386', 2158), ('7908684', 2157), ('13035310', 2157), ('7815393', 2157), ('7871824', 2157), ('7805094', 2156), ('7705639', 2156), ('7848355', 2155), ('7747009', 2153), ('7873913', 2153), ('7864036', 2152), ('196892', 2152), ('7849639', 2151), ('13623285', 2150), ('7739253', 2149), ('7879908', 2148), ('13035633', 2148), ('7861253', 2146), ('149947', 2145), ('12034708', 2144), ('7847200', 2144), ('7845971', 2144), ('662134', 2143), ('234354', 2142), ('7888099', 2141), ('7895347', 2141), ('7700976', 2141), ('302255', 2140), ('7804871', 2140), ('7871326', 2139), ('398273', 2139), ('7902271', 2137), ('7891103', 2137), ('7873112', 2132), ('7755726', 2132), ('7841404', 2131), ('7871561', 2131), ('1938986', 2131), ('7865597', 2129), ('13119730', 2128), ('7754353', 2127), ('7700539', 2127), ('417948', 2126), ('7827876', 2126), ('7702426', 2125), ('1343009', 2124), ('7726999', 2120), ('7878918', 2120), ('7914562', 2120), ('12048667', 2120), ('411453', 2119), ('7719344', 2117), ('7902552', 2114), ('4347345', 2110), ('7817684', 2109), ('7702518', 2107), ('5043145', 2107), ('7700843', 2107), ('138704', 2107), ('2942203', 2107), ('6581544', 2106), ('7821474', 2105), ('7088670', 2104), ('7886624', 2103), ('3039403', 2103), ('7725100', 2102), ('7872047', 2101), ('7791741', 2100), ('7769804', 2099), ('13449774', 2099), ('398512', 2096), ('7827674', 2095), ('4195761', 2091), ('89850', 2090), ('7855964', 2089), ('7885759', 2088), ('1471645', 2087), ('6364736', 2084), ('417746', 2084), ('339481', 2082), ('225938', 2081), ('7763753', 2080), ('7911558', 2079), ('7720657', 2077), ('7748803', 2077), ('140851', 2076), ('417888', 2074), ('7773093', 2073), ('6075558', 2072), ('13450046', 2071), ('5142790', 2071), ('7873035', 2071), ('13851452', 2071), ('7883962', 2070), ('7811433', 2070), ('12512163', 2070), ('7772235', 2069), ('7700482', 2068), ('2284722', 2065), ('3668728', 2065), ('7872848', 2064), ('7702714', 2064), ('3556151', 2064), ('7875514', 2062), ('2742338', 2060), ('160225', 2060), ('2437547', 2059), ('7767678', 2059), ('421834', 2058), ('7854531', 2058), ('7823119', 2057), ('7822617', 2057), ('7733676', 2057), ('7855432', 2053), ('7777034', 2052), ('7734866', 2052), ('6074999', 2051), ('7822604', 2050), ('13070168', 2050), ('7748739', 2050), ('7822443', 2049), ('7895324', 2048), ('134350', 2048), ('215231', 2047), ('128865', 2046), ('7820058', 2046), ('7913818', 2045), ('7717209', 2044), ('7871519', 2044), ('4653059', 2044), ('3669866', 2043), ('9355194', 2043), ('7753537', 2040), ('434024', 2039), ('7872469', 2037), ('7902936', 2036), ('147624', 2035), ('11942568', 2033), ('662099', 2032), ('7847835', 2031), ('7911159', 2031), ('367986', 2030), ('13441881', 2030), ('7754707', 2030), ('8353906', 2030), ('7883426', 2028), ('7883245', 2028), ('7908956', 2027), ('7846734', 2027), ('4198556', 2027), ('4195863', 2026), ('7751670', 2026), ('7763217', 2026), ('2990172', 2026), ('7745751', 2025), ('7879957', 2024), ('7895351', 2024), ('12160853', 2023), ('11775403', 2023), ('7705635', 2022), ('7842740', 2022), ('7882795', 2021), ('7763629', 2020), ('2776335', 2020), ('7871641', 2020), ('7704255', 2019), ('7846611', 2018), ('13030241', 2017), ('11448601', 2017), ('7731198', 2016), ('7715240', 2014), ('11818886', 2013), ('427074', 2013), ('127181', 2011), ('181785', 2008), ('5584045', 2008), ('7888332', 2007), ('7739257', 2006), ('7714802', 2005), ('7744732', 2005), ('13035221', 2003), ('7815008', 2003), ('6477101', 2003), ('368221', 2003), ('7827108', 2002), ('6138051', 2002), ('814121', 2001), ('7908686', 2001), ('136547', 2000), ('200924', 2000), ('7893058', 2000), ('7844824', 1998), ('7888263', 1998), ('13449723', 1998), ('392633', 1998), ('7846430', 1997), ('8641612', 1997), ('7841657', 1996), ('7786828', 1995), ('5988414', 1994), ('7705638', 1994), ('7700914', 1993), ('6835632', 1993), ('7802857', 1991), ('7827956', 1990), ('7850713', 1990), ('9924814', 1990), ('9643078', 1989), ('13442397', 1989), ('13449634', 1988), ('6075059', 1988), ('7833787', 1987), ('397719', 1986), ('7065190', 1986), ('7720659', 1985), ('7900500', 1984), ('210290', 1984), ('7810201', 1983), ('7757177', 1982), ('11034025', 1981), ('375286', 1981), ('662110', 1979), ('7822392', 1979), ('7790832', 1978), ('7808664', 1976), ('4923544', 1976), ('7700838', 1975), ('7820107', 1975), ('380997', 1973)]\n"
     ]
    },
    {
     "data": {
      "image/png": "[encoded data removed]",
      "text/plain": [
       "<Figure size 432x288 with 1 Axes>"
      ]
     },
     "metadata": {},
     "output_type": "display_data"
    }
   ],
   "source": [
    "# part a - run your job on the full file (RUN THIS CELL AS IS)\n",
    "start = time.time()\n",
    "full_results = count_degree(wikiRDD,1000)\n",
    "print(f\"... completed job in {time.time() - start} seconds\")\n",
    "print(\"Average out-degree: \", full_results[1])\n",
    "print(\"Top 10 nodes (by out-degree:)\\n\", full_results[0])\n",
    "plt.hist(full_results[2], bins=50)\n",
    "plt.title(\"Distribution of Out-Degree\")\n",
    "plt.show()"
   ]
  },
  {
   "cell_type": "markdown",
   "metadata": {},
   "source": [
    "# Question 7 - PageRank part 1 (Initialize the Graph)\n",
    "\n",
    "One of the challenges of performing distributed graph computation is that you must pass the entire graph structure through each iteration of your algorithm. As usual, we seek to design our computation so that as much work as possible can be done using the contents of a single record. In the case of PageRank, we'll need each record to include a node, its list of neighbors and its (current) rank. In this question you'll initialize the graph by creating a record for each dangling node and by setting the initial rank to 1/N for all nodes. \n",
    "\n",
    "__`NOTE:`__ Your solution should _not_ hard code $N$.\n",
    "\n",
    "### Q7 Tasks:\n",
    "* __a) short response:__ What is $N$? Use the analogy of the infinite random web-surfer to explain why we'll initialize each node's rank to $\\frac{1}{N}$. (i.e. what is the probabilistic interpretation of this choice?)\n",
    "\n",
    "* __b) short response:__ Will it be more efficient to compute $N$ before initializing records for each dangling node or after? Explain your reasoning.\n",
    "\n",
    "* __c) code:__ Fill in the missing code below to create a Spark job that:\n",
    "  * parses each input record\n",
    "  * creates a new record for any dangling nodes and sets it list of neighbors to be an empty set\n",
    "  * initializes a rank of 1/N for each node\n",
    "  * returns a pair RDD with records in the format specified by the docstring\n",
    "\n",
    "\n",
    "* __d) code:__ Run the provided code to confirm that your job in `part a` has a record for each node and that your should records match the format specified in the docstring and the count should match what you computed in question 5. [__`TIP:`__ _you might want to take a moment to write out what the expected output should be fore the test graph, this will help you know your code works as expected_]\n",
    " \n",
    "__`NOTE:`__ Please observe scalability best practices in the design of your code & comment your work clearly. You will be graded on both the clarity and the design."
   ]
  },
  {
   "cell_type": "markdown",
   "metadata": {},
   "source": [
    "### Q7 Student Answers:\n",
    "\n",
    "> __a)__ Type your answer here! \n",
    "\n",
    "> __b)__ Type your answer here! "
   ]
  },
  {
   "cell_type": "code",
   "execution_count": null,
   "metadata": {},
   "outputs": [],
   "source": [
    "# part c - job to initialize the graph (RUN THIS CELL AS IS)\n",
    "def initGraph(dataRDD):\n",
    "    \"\"\"\n",
    "    Spark job to read in the raw data and initialize an \n",
    "    adjacency list representation with a record for each\n",
    "    node (including dangling nodes).\n",
    "    \n",
    "    Returns: \n",
    "        graphRDD -  a pair RDD of (node_id , (score, edges))\n",
    "        \n",
    "    NOTE: The score should be a float, but you may want to be \n",
    "    strategic about how format the edges... there are a few \n",
    "    options that can work. Make sure that whatever you choose\n",
    "    is sufficient for Question 8 where you'll run PageRank.\n",
    "    \"\"\"\n",
    "    ############## YOUR CODE HERE ###############\n",
    "\n",
    "    # write any helper functions here\n",
    "    \n",
    "    \n",
    "    \n",
    "    \n",
    "    \n",
    "    \n",
    "    \n",
    "    \n",
    "    \n",
    "    # write your main Spark code here\n",
    "    \n",
    "    \n",
    "    \n",
    "    \n",
    "    \n",
    "    ############## (END) YOUR CODE ##############\n",
    "    \n",
    "    return graphRDD"
   ]
  },
  {
   "cell_type": "code",
   "execution_count": null,
   "metadata": {},
   "outputs": [],
   "source": [
    "# part c - run your Spark job on the test graph (RUN THIS CELL AS IS)\n",
    "start = time.time()\n",
    "testGraph = initGraph(testRDD).collect()\n",
    "print(f'... test graph initialized in {time.time() - start} seconds.')\n",
    "testGraph"
   ]
  },
  {
   "cell_type": "code",
   "execution_count": null,
   "metadata": {},
   "outputs": [],
   "source": [
    "# part c - run your code on the main graph (RUN THIS CELL AS IS)\n",
    "start = time.time()\n",
    "wikiGraphRDD = initGraph(wikiRDD)\n",
    "print(f'... full graph initialized in {time.time() - start} seconds')"
   ]
  },
  {
   "cell_type": "code",
   "execution_count": null,
   "metadata": {},
   "outputs": [],
   "source": [
    "# part c - confirm record format and count (RUN THIS CELL AS IS)\n",
    "start = time.time()\n",
    "print(f'Total number of records: {wikiGraphRDD.count()}')\n",
    "print(f'First record: {wikiGraphRDD.take(1)}')\n",
    "print(f'... initialization continued: {time.time() - start} seconds')"
   ]
  },
  {
   "cell_type": "markdown",
   "metadata": {},
   "source": [
    "# Question 8 - PageRank part 2 (Iterate until convergence)\n",
    "\n",
    "Finally we're ready to compute the page rank. In this last question you'll write a Spark job that iterates over the initialized graph updating each nodes score until it reaches a convergence threshold. The diagram below gives a visual overview of the process using a 5 node toy graph. Pay particular attention to what happens to the dangling mass at each iteration.\n",
    "\n",
    "<img src='PR-illustrated.png'>\n",
    "\n",
    "\n",
    "\n",
    "__`A Note about Notation:`__ The formula above describes how to compute the updated page rank for a node in the graph. The $P$ on the left hand side of the equation is the new score, and the $P$ on the right hand side of the equation represents the accumulated mass that was re-distributed from all of that node's in-links. Finally, $|G|$ is the number of nodes in the graph (which we've elsewhere refered to as $N$).\n",
    "\n",
    "### Q8 Tasks:\n",
    "* __a) short response:__ In terms of the infinite random walk analogy, interpret the meaning of the first term in the PageRank calculation: $\\alpha * \\frac{1}{|G|}$\n",
    "\n",
    "* __b) short response:__ In the equation for the PageRank calculation above what does $m$ represent and why do we divide it by $|G|$?\n",
    "\n",
    "* __c) short response:__ Keeping track of the total probability mass after each update is a good way to confirm that your algorithm is on track. How much should the total mass be after each iteration?\n",
    "\n",
    "* __d) code:__ Fill in the missing code below to create a Spark job that take the initialized graph as its input then iterates over the graph and for each pass:\n",
    "  * reads in each record and redistributes the node's current score to each of its neighbors\n",
    "  * uses an accumulator to add up the dangling node mass and redistribute it among all the nodes. (_Don't forget to reset this accumulator after each iteration!_)\n",
    "  * uses an accumulator to keep track of the total mass being redistributed.( _This is just for your own check, its not part of the PageRank calculation. Don't forget to reset this accumulator after each iteration._)\n",
    "  * aggregates these partial scores for each node\n",
    "  * applies telportation and damping factors as described in the formula above.\n",
    "  * combine all of the above to compute the PageRank as described by the formula above.\n",
    "  * \n",
    "  \n",
    "   __WARNING:__ Some pages contain multiple hyperlinks to the same destination, please take this into account when redistributing the mass.\n",
    "\n",
    " \n",
    "__`NOTE:`__ Please observe scalability best practices in the design of your code & comment your work clearly. You will be graded on both the clarity and the design."
   ]
  },
  {
   "cell_type": "markdown",
   "metadata": {},
   "source": [
    "### Q8 Student Answers:\n",
    "\n",
    "> __a)__ Type your answer here!\n",
    "\n",
    "> __b)__ Type your answer here! \n",
    "\n",
    "> __c)__ Type your answer here! "
   ]
  },
  {
   "cell_type": "code",
   "execution_count": null,
   "metadata": {},
   "outputs": [],
   "source": [
    "# part d - provided FloatAccumulator class (RUN THIS CELL AS IS)\n",
    "\n",
    "from pyspark.accumulators import AccumulatorParam\n",
    "\n",
    "class FloatAccumulatorParam(AccumulatorParam):\n",
    "    \"\"\"\n",
    "    Custom accumulator for use in page rank to keep track of various masses.\n",
    "    \n",
    "    IMPORTANT: accumulators should only be called inside actions to avoid duplication.\n",
    "    We stringly recommend you use the 'foreach' action in your implementation below.\n",
    "    \"\"\"\n",
    "    def zero(self, value):\n",
    "        return value\n",
    "    def addInPlace(self, val1, val2):\n",
    "        return val1 + val2"
   ]
  },
  {
   "cell_type": "code",
   "execution_count": null,
   "metadata": {},
   "outputs": [],
   "source": [
    "# part d - job to run PageRank (RUN THIS CELL AS IS)\n",
    "def runPageRank(graphInitRDD, alpha = 0.15, maxIter = 10, verbose = True):\n",
    "    \"\"\"\n",
    "    Spark job to implement page rank\n",
    "    Args: \n",
    "        graphInitRDD  - pair RDD of (node_id , (score, edges))\n",
    "        alpha         - (float) teleportation factor\n",
    "        maxIter       - (int) stopping criteria (number of iterations)\n",
    "        verbose       - (bool) option to print logging info after each iteration\n",
    "    Returns:\n",
    "        steadyStateRDD - pair RDD of (node_id, pageRank)\n",
    "    \"\"\"\n",
    "    # teleportation:\n",
    "    a = sc.broadcast(alpha)\n",
    "    \n",
    "    # damping factor:\n",
    "    d = sc.broadcast(1-a.value)\n",
    "    \n",
    "    # initialize accumulators for dangling mass & total mass\n",
    "    mmAccum = sc.accumulator(0.0, FloatAccumulatorParam())\n",
    "    totAccum = sc.accumulator(0.0, FloatAccumulatorParam())\n",
    "    \n",
    "    ############## YOUR CODE HERE ###############\n",
    "    \n",
    "    # write your helper functions here, \n",
    "    # please document the purpose of each clearly \n",
    "    # for reference, the master solution has 5 helper functions.\n",
    "\n",
    "\n",
    "            \n",
    "    \n",
    "    \n",
    "    \n",
    "    \n",
    "    \n",
    "    \n",
    "    \n",
    "    \n",
    "    \n",
    "    \n",
    "    \n",
    "    \n",
    "    \n",
    "        \n",
    "    # write your main Spark Job here (including the for loop to iterate)\n",
    "    # for reference, the master solution is 21 lines including comments & whitespace\n",
    "\n",
    "    \n",
    "    \n",
    "    \n",
    "    \n",
    "    \n",
    "    \n",
    "    \n",
    "    \n",
    "    \n",
    "    \n",
    "    ############## (END) YOUR CODE ###############\n",
    "    \n",
    "    return steadyStateRDD"
   ]
  },
  {
   "cell_type": "code",
   "execution_count": null,
   "metadata": {},
   "outputs": [],
   "source": [
    "# part d - run PageRank on the test graph (RUN THIS CELL AS IS)\n",
    "# NOTE: while developing your code you may want turn on the verbose option\n",
    "nIter = 20\n",
    "testGraphRDD = initGraph(testRDD)\n",
    "start = time.time()\n",
    "test_results = runPageRank(testGraphRDD, alpha = 0.15, maxIter = nIter, verbose = False)\n",
    "print(f'...trained {nIter} iterations in {time.time() - start} seconds.')\n",
    "print(f'Top 20 ranked nodes:')\n",
    "test_results.takeOrdered(20, key=lambda x: - x[1])"
   ]
  },
  {
   "cell_type": "markdown",
   "metadata": {},
   "source": [
    "__`expected results for the test graph:`__\n",
    "```\n",
    "[(2, 0.3620640495978871),\n",
    " (3, 0.333992700474142),\n",
    " (5, 0.08506399429624555),\n",
    " (4, 0.06030963508473455),\n",
    " (1, 0.04255740809817991),\n",
    " (6, 0.03138662354831139),\n",
    " (8, 0.01692511778009981),\n",
    " (10, 0.01692511778009981),\n",
    " (7, 0.01692511778009981),\n",
    " (9, 0.01692511778009981),\n",
    " (11, 0.01692511778009981)]\n",
    "```"
   ]
  },
  {
   "cell_type": "code",
   "execution_count": null,
   "metadata": {},
   "outputs": [],
   "source": [
    "# part d - run PageRank on the full graph (RUN THIS CELL AS IS)\n",
    "# NOTE: wikiGraphRDD should have been computed & cached above!\n",
    "nIter = 10\n",
    "start = time.time()\n",
    "full_results = runPageRank(wikiGraphRDD, alpha = 0.15, maxIter = nIter, verbose = True)\n",
    "print(f'...trained {nIter} iterations in {time.time() - start} seconds.')\n",
    "print(f'Top 20 ranked nodes:')\n",
    "full_results.takeOrdered(20, key=lambda x: - x[1])"
   ]
  },
  {
   "cell_type": "code",
   "execution_count": null,
   "metadata": {},
   "outputs": [],
   "source": [
    "# title\\t indx\\t inDeg\\t outDeg\n",
    "indexRDD.take(1)"
   ]
  },
  {
   "cell_type": "code",
   "execution_count": null,
   "metadata": {},
   "outputs": [],
   "source": [
    "namesKV_RDD = indexRDD.map(lambda x: (int(x.split('\\t')[1]), x.split('\\t')[0]))"
   ]
  },
  {
   "cell_type": "code",
   "execution_count": null,
   "metadata": {},
   "outputs": [],
   "source": [
    "namesKV_RDD.take(1)"
   ]
  },
  {
   "cell_type": "code",
   "execution_count": null,
   "metadata": {},
   "outputs": [],
   "source": [
    "# We should have saved these above, but it takes too long to run in the cloud ($$$), so for expedience:\n",
    "top_20 = [(13455888, 0.0015447247129832947),\n",
    " (4695850, 0.0006710240718906518),\n",
    " (5051368, 0.0005983856809747697),\n",
    " (1184351, 0.0005982073536467391),\n",
    " (2437837, 0.0004624928928940748),\n",
    " (6076759, 0.00045509400641448284),\n",
    " (4196067, 0.0004423778888372447),\n",
    " (13425865, 0.00044155351714348035),\n",
    " (6172466, 0.0004224002001845032),\n",
    " (1384888, 0.0004012895604073632),\n",
    " (6113490, 0.00039578924771805474),\n",
    " (14112583, 0.0003943847283754762),\n",
    " (7902219, 0.000370098784735699),\n",
    " (10390714, 0.0003650264964328283),\n",
    " (12836211, 0.0003619948863114985),\n",
    " (6237129, 0.0003519555847625285),\n",
    " (6416278, 0.00034866235645266493),\n",
    " (13432150, 0.00033936510637418247),\n",
    " (1516699, 0.00033297500286244265),\n",
    " (7990491, 0.00030760906265869104)]"
   ]
  },
  {
   "cell_type": "code",
   "execution_count": null,
   "metadata": {},
   "outputs": [],
   "source": [
    "top_20_RDD = sc.parallelize(top_20)"
   ]
  },
  {
   "cell_type": "code",
   "execution_count": null,
   "metadata": {},
   "outputs": [],
   "source": [
    "top_20_RDD.take(1)"
   ]
  },
  {
   "cell_type": "markdown",
   "metadata": {},
   "source": [
    "# Extra Credit\n",
    "(The combined extra credit points amount to approximately 5 percentage points on your final grade.)\n",
    "\n",
    "## EC 1 - 5pts\n",
    "The indexRDD we created earlier from the indices.txt file contains the titles of the pages and thier IDs.\n",
    "\n",
    "* __a) code:__ Join this dataset with your top 20 results.\n",
    "* __b) code:__ Print the results"
   ]
  },
  {
   "cell_type": "markdown",
   "metadata": {},
   "source": [
    "## Join with indexRDD and print pretty"
   ]
  },
  {
   "cell_type": "code",
   "execution_count": null,
   "metadata": {},
   "outputs": [],
   "source": [
    "# part a\n",
    "joinedWithNames = None\n",
    "############## YOUR CODE HERE ###############\n",
    "\n",
    "############## END YOUR CODE ###############"
   ]
  },
  {
   "cell_type": "code",
   "execution_count": null,
   "metadata": {},
   "outputs": [],
   "source": [
    "# part b\n",
    "# Feel free to modify this cell to suit your implementation, but please keep the formatting and sort order.\n",
    "print(\"{:10s}\\t| {:10s}\\t| {}\".format(\"PageRank\",\"Page id\",\"Title\"))\n",
    "print(\"=\"*100)\n",
    "for r in joinedWithNames:\n",
    "    print (\"{:6f}\\t| {:10d}\\t| {}\".format(r[1][1],r[0],r[1][0]))"
   ]
  },
  {
   "cell_type": "code",
   "execution_count": null,
   "metadata": {},
   "outputs": [],
   "source": []
  },
  {
   "cell_type": "markdown",
   "metadata": {},
   "source": [
    "## GraphFrames\n",
    "## EC 2 - 30pts\n",
    "GraphFrames is a graph library which is built on top of the Spark DataFrames API.\n",
    "\n",
    "* __a) code:__ Using the same dataset, run the graphframes implementation of pagerank.\n",
    "* __b) code:__ Join the top 20 results with indices.txt and display in the same format as above.\n",
    "* __c) short answer:__ Compare your results with the results from graphframes.\n",
    "\n",
    "__NOTE:__ Feel free to create as many code cells as you need. Code should be clear and concise - do not include your scratch work. Comment your code if it's not self annotating."
   ]
  },
  {
   "cell_type": "code",
   "execution_count": null,
   "metadata": {},
   "outputs": [],
   "source": [
    "from graphframes import *"
   ]
  },
  {
   "cell_type": "code",
   "execution_count": null,
   "metadata": {},
   "outputs": [],
   "source": [
    "from pyspark.sql import functions as F"
   ]
  },
  {
   "cell_type": "code",
   "execution_count": null,
   "metadata": {},
   "outputs": [],
   "source": [
    "# load the data into Spark RDDs for convenience of use later (RUN THIS CELL AS IS)\n",
    "testRDD = sc.textFile('gs://w261-bucket/wiki/test_graph.txt')\n",
    "indexRDD = sc.textFile('gs://w261-bucket/wiki/indices.txt')\n",
    "wikiRDD = sc.textFile('gs://w261-bucket/wiki/wiki_graph.txt')"
   ]
  },
  {
   "cell_type": "code",
   "execution_count": null,
   "metadata": {},
   "outputs": [],
   "source": [
    "DF = wikiRDD.map(lambda x: (x.split('\\t')[0], ast.literal_eval(x.split('\\t')[1]))).toDF()"
   ]
  },
  {
   "cell_type": "code",
   "execution_count": null,
   "metadata": {},
   "outputs": [],
   "source": [
    "%%time\n",
    "DF.take(1)"
   ]
  },
  {
   "cell_type": "code",
   "execution_count": null,
   "metadata": {},
   "outputs": [],
   "source": [
    "%%time\n",
    "v = DF.select('_1').withColumnRenamed('_1','id').distinct()"
   ]
  },
  {
   "cell_type": "code",
   "execution_count": null,
   "metadata": {},
   "outputs": [],
   "source": [
    "%%time\n",
    "v.cache()"
   ]
  },
  {
   "cell_type": "code",
   "execution_count": null,
   "metadata": {},
   "outputs": [],
   "source": [
    "%%time\n",
    "v.show(1)"
   ]
  },
  {
   "cell_type": "code",
   "execution_count": null,
   "metadata": {},
   "outputs": [],
   "source": [
    "import ast\n",
    "def getEdges(row):\n",
    "    node_id, nodes = row\n",
    "    for node in nodes: \n",
    "        yield int(node_id), int(node)"
   ]
  },
  {
   "cell_type": "code",
   "execution_count": null,
   "metadata": {},
   "outputs": [],
   "source": [
    "%%time\n",
    "e = spark.createDataFrame(DF.rdd.flatMap(getEdges), [\"src\", \"dst\"])"
   ]
  },
  {
   "cell_type": "code",
   "execution_count": null,
   "metadata": {},
   "outputs": [],
   "source": [
    "%%time\n",
    "e.cache()"
   ]
  },
  {
   "cell_type": "code",
   "execution_count": null,
   "metadata": {},
   "outputs": [],
   "source": [
    "%%time\n",
    "e.show(1)"
   ]
  },
  {
   "cell_type": "code",
   "execution_count": null,
   "metadata": {},
   "outputs": [],
   "source": [
    "%%time\n",
    "# Create a GraphFrame\n",
    "from graphframes import *\n",
    "g = GraphFrame(v, e)\n",
    "\n",
    "# Query: Get in-degree of each vertex.\n",
    "# g.inDegrees.show()"
   ]
  },
  {
   "cell_type": "code",
   "execution_count": null,
   "metadata": {},
   "outputs": [],
   "source": [
    "%%time\n",
    "# Run PageRank algorithm, and show results.\n",
    "results = g.pageRank(resetProbability=0.15, maxIter=10)"
   ]
  },
  {
   "cell_type": "code",
   "execution_count": null,
   "metadata": {},
   "outputs": [],
   "source": [
    "%%time\n",
    "top_20 = results.vertices.orderBy(F.desc(\"pagerank\")).limit(20)"
   ]
  },
  {
   "cell_type": "code",
   "execution_count": null,
   "metadata": {},
   "outputs": [],
   "source": [
    "%%time\n",
    "top_20.show()"
   ]
  },
  {
   "cell_type": "code",
   "execution_count": null,
   "metadata": {},
   "outputs": [],
   "source": [
    "type(top_20)"
   ]
  },
  {
   "cell_type": "code",
   "execution_count": null,
   "metadata": {},
   "outputs": [],
   "source": [
    "top_20.take(1)"
   ]
  },
  {
   "cell_type": "code",
   "execution_count": null,
   "metadata": {},
   "outputs": [],
   "source": [
    "%%time\n",
    "namesKV_RDD = indexRDD.map(lambda x: (int(x.split('\\t')[1]), x.split('\\t')[0]))"
   ]
  },
  {
   "cell_type": "code",
   "execution_count": null,
   "metadata": {},
   "outputs": [],
   "source": [
    "namesKV_DF = namesKV_RDD.toDF()"
   ]
  },
  {
   "cell_type": "code",
   "execution_count": null,
   "metadata": {},
   "outputs": [],
   "source": [
    "namesKV_DF = namesKV_DF.withColumnRenamed('_1','id')\n",
    "namesKV_DF = namesKV_DF.withColumnRenamed('_2','title')\n",
    "namesKV_DF.take(1)"
   ]
  },
  {
   "cell_type": "code",
   "execution_count": null,
   "metadata": {},
   "outputs": [],
   "source": [
    "%%time\n",
    "resultsWithNames = namesKV_DF.join(top_20, namesKV_DF.id==top_20.id).orderBy(F.desc(\"pagerank\")).collect()"
   ]
  },
  {
   "cell_type": "code",
   "execution_count": null,
   "metadata": {},
   "outputs": [],
   "source": [
    "# TODO: use f' for string formatting\n",
    "print(\"{:10s}\\t| {:10s}\\t| {}\".format(\"PageRank\",\"Page id\",\"Title\"))\n",
    "print(\"=\"*100)\n",
    "for r in resultsWithNames:\n",
    "    print (\"{:6f}\\t| {:10s}\\t| {}\".format(r[3],r[2],r[1]))"
   ]
  },
  {
   "cell_type": "markdown",
   "metadata": {},
   "source": [
    "Our RDD implementaion takes about 35 minutes, whereas the GraphFrame one takes around 8 minutes. GraphFrames doesn't normalize the ranks. "
   ]
  },
  {
   "cell_type": "markdown",
   "metadata": {},
   "source": [
    "### Congratulations, you have completed HW5! Please refer to the readme for submission instructions.\n",
    "\n",
    "If you would like to provide feedback regarding this homework, please use the survey at: https://docs.google.com/forms/d/e/1FAIpQLScgIz4laP2JHChStLZx8MO0jGvrGyrOyQBnj7M4_4vcVXkB7g/viewform?usp=sf_link"
   ]
  },
  {
   "cell_type": "code",
   "execution_count": null,
   "metadata": {},
   "outputs": [],
   "source": []
  }
 ],
 "metadata": {
  "kernelspec": {
   "display_name": "Python 3",
   "language": "python",
   "name": "python3"
  },
  "language_info": {
   "codemirror_mode": {
    "name": "ipython",
    "version": 3
   },
   "file_extension": ".py",
   "mimetype": "text/x-python",
   "name": "python",
   "nbconvert_exporter": "python",
   "pygments_lexer": "ipython3",
   "version": "3.6.6"
  },
  "toc": {
   "colors": {
    "hover_highlight": "#DAA520",
    "running_highlight": "#FF0000",
    "selected_highlight": "#FFD700"
   },
   "moveMenuLeft": true,
   "nav_menu": {
    "height": "441px",
    "width": "252px"
   },
   "navigate_menu": true,
   "number_sections": true,
   "sideBar": true,
   "threshold": 4,
   "toc_cell": true,
   "toc_position": {
    "height": "827px",
    "left": "0px",
    "right": "1125px",
    "top": "107px",
    "width": "428px"
   },
   "toc_section_display": "block",
   "toc_window_display": true
  }
 },
 "nbformat": 4,
 "nbformat_minor": 2
}
